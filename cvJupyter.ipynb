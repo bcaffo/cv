{
 "cells": [
  {
   "cell_type": "markdown",
   "id": "b4e71abe-a920-4a31-b755-cbd8ea8244ac",
   "metadata": {},
   "source": [
    "# Brian S Caffo\n",
    "<hr>\n",
    "Professor<br>\n",
    "Departments of Biostatistics (primary)<br>\n",
    "Department of Biomedical Engineering (courtesy)<br>\n",
    "Johns Hopkins University<br>\n",
    "bcaffo@gmail.com <br>\n",
    "[www.bcaffo.com](www.bcaffo.com) <br>\n",
    "[CV version 0.9](https://github.com/bcaffo/cv)"
   ]
  },
  {
   "cell_type": "markdown",
   "id": "c45c047b-dcf5-434c-8fe0-9ab17352c1c9",
   "metadata": {},
   "source": [
    "## Summary\n",
    "Brian Caffo, PhD is a professor in the Department of Biostatistics with a secondary appointment in the Department of Biomedical Engineering at Johns Hopkins University. \n",
    "He graduated from the University of Florida Department of Statistics in 2001. He has worked in statistical computing, statistical modeling, computational statistics, multivariate and decomposition methods and statistics in neuroimaging and neuroscience. He led teams that won the ADHD 200 prediction competition. He co-directs the SMART statistical group. With other faculty at JHU, he created and co-directs the Coursera Data Science Specialization, a 10 course specialization on statistical data analysis. He co-directs the JHU Data Science Lab, a group dedicated to open educational innovation and data science. He is the former director of the Biostatistics graduate programs and admissions committees. He is currently the co-director of the Johns Hopkins High Performance Computing Exchange super computing service center and president of the Bloomberg School of Public Health faculty senate."
   ]
  },
  {
   "cell_type": "markdown",
   "id": "d099a0dc-da3e-4b4a-829a-1e5c9b31f325",
   "metadata": {},
   "source": [
    "## Education\n",
    "\n",
    "| Year | Description | Institution | | \n",
    "|:---  |:---         | :--- | :--- | \n",
    "| 2006 | K25 training grant | NIH | *A mentored training program in imaging science'' emphasizing research and coursework in medical imaging* | \n",
    "| 2001 | PhD in statistics | U of Florida | *Candidate sampling schemes and some important applications* | \n",
    "| 1998 | MS in statistics|  U of Florida | |\n",
    "| 1995 | Dual BS in mathematics and statistics | U of Florida | |"
   ]
  },
  {
   "cell_type": "markdown",
   "id": "d247b8e2-a7f9-4592-aa27-86a3a80758e7",
   "metadata": {},
   "source": [
    "## Professional experience\n",
    "| Year | Title | Place | \n",
    "| :--- | :---  | :---  |\n",
    "|2019 - | Secondary | Dept of Biomedical Engineering, JHU |\n",
    "|2019 - | Co-director | Johns Hopkins High Performance Computing Exchange (JHPCE)| \n",
    "| 2016 - | Faculty member | Kavli Neuroscience Discovery Institute |\n",
    "| 2017 - | Faculty member | Malone Center for Engineering and Healthcare |\n",
    "| 2014 - | Co-founding member | Johns Hopkins Data Science Lab |\n",
    "|2011 - | Founding co-director | SMART research group |\n",
    "|2013 - | Full professor | Dept of Biostat,JHU |\n",
    "|2007-2013 | Associate professor | Dept of Biostat,JHU |\n",
    "|2001-2007 | Assistant professor |Dept of Biostat,JHU |\n",
    "|1996-1999 | Research assistant for professor Alan Agresti | Department of Stat, UFL | \n",
    "|1996, 1999 | Intern /  programmer | the Pediatric Oncology Group Statistical Office |\n"
   ]
  },
  {
   "cell_type": "markdown",
   "id": "ec8443b2-e86e-4ea9-81ba-d439c7cc9e9a",
   "metadata": {},
   "source": [
    "## Profesional activities\n",
    "+ Typically two NIH, NSF or EU review panels per year\n",
    "+ Publications Officer for the Biometrics Section of the American Statistical Association 2005-2006\n",
    "+ Founding member (2010) and secretary (2010-) for the Statistics in Imaging ASA section\n",
    "+ Typically oranizing 1 or 2 ENAR or JSM sessions per year\n",
    "+ 2006-2008 Associate editor Computational Statistics and Data Analysis\n",
    "+ 2008-2010 Associate editor for the Journal of the American Statistical Association\n",
    "+ 2009-2012 Associate editor for the Journal of the Royal Statistical Society Series B\n",
    "+ 2010-2012 Associate editor for Biometrics\n",
    "+ Senior program committee member for the Fourteenth International Conference on Artificial Intelligence and Statistics\n",
    "+ Guest associate editor for Frontiers in Neuroscience special issues on Brain Imaging Methods and Explainable Artificial Intelligence in Healthcare and Finance"
   ]
  },
  {
   "cell_type": "markdown",
   "id": "d58647ee-9ca3-4d97-9b05-e80583ab0791",
   "metadata": {},
   "source": [
    "## Honors and awards\n",
    "+ 1998, William S. Mendenhall Award\n",
    "+ 1999, Anderson Scholar/Faculty nominee for the University of  Florida CLAS\n",
    "+ 2001, University of Florida CLAS Dissertation Fellowship\n",
    "+ 2001, University of Florida Statistics Faculty Award\n",
    "+ 2002, Johns Hopkins Faculty Innovation Award\n",
    "+ 2006, Johns Hopkins Bloomberg School of Public Health AMTRA award\n",
    "+ 2008, Johns Hopkins Bloomberg School of Public Health Golden Apple teaching award\n",
    "+ 2011, Leader and organizer of the declared winning entry of the 2011 ADHD200 prediction competition\n",
    "+ 2011 Presidential Early Career Award for Scientists and Engineers (PECASE, 2010, awarded in 2011); *The highest honor bestowed by the United States government on science and engineering professionals in the early stages of their independent research careers*\n",
    "+ 2014, Named a Fellow of the American Statistical Association\n",
    "+ 2015, Special Invited Lecturer, European Meeting of Statisticians\n"
   ]
  },
  {
   "cell_type": "markdown",
   "id": "142bb3e2-9461-4674-a380-08656774fed2",
   "metadata": {},
   "source": [
    "## Publications\n",
    "\n",
    "Publications reported in Scopus as of 01/04/2021. My total number of Scopus publications is 228. Consider a plot of publication quantity by year. Clearly, the period from 2011 to 2012 was my productivity high water mark with 46 publications in 2 years. "
   ]
  },
  {
   "cell_type": "code",
   "execution_count": 209,
   "id": "e91825d6-2a1b-4c54-b976-3f870c47f429",
   "metadata": {},
   "outputs": [],
   "source": [
    "import pandas as pd\n",
    "import plotly.express as px\n",
    "import numpy as np\n",
    "import wordcloud as wc\n",
    "import matplotlib.pyplot as plt\n",
    "import os\n",
    "dat = pd.read_csv(\"publications_01042022_2.csv\")"
   ]
  },
  {
   "cell_type": "code",
   "execution_count": 129,
   "id": "e67ef799-1a38-4057-889c-ae65b88af4c0",
   "metadata": {},
   "outputs": [
    {
     "data": {
      "application/vnd.plotly.v1+json": {
       "config": {
        "plotlyServerURL": "https://plot.ly"
       },
       "data": [
        {
         "hovertemplate": "year=%{x}<br>count=%{y}<extra></extra>",
         "legendgroup": "",
         "line": {
          "color": "#636efa",
          "dash": "solid"
         },
         "marker": {
          "symbol": "circle"
         },
         "mode": "lines",
         "name": "",
         "orientation": "v",
         "showlegend": false,
         "type": "scatter",
         "x": [
          2000,
          2001,
          2002,
          2003,
          2004,
          2005,
          2006,
          2007,
          2008,
          2009,
          2010,
          2011,
          2012,
          2013,
          2014,
          2015,
          2016,
          2017,
          2018,
          2019,
          2020,
          2021
         ],
         "xaxis": "x",
         "y": [
          2,
          2,
          3,
          2,
          1,
          1,
          6,
          6,
          15,
          12,
          11,
          23,
          23,
          18,
          15,
          19,
          13,
          12,
          4,
          8,
          13,
          19
         ],
         "yaxis": "y"
        }
       ],
       "layout": {
        "autosize": true,
        "legend": {
         "tracegroupgap": 0
        },
        "paper_bgcolor": "rgba(0, 0, 0, 0)",
        "plot_bgcolor": "rgba(0, 0, 0, 0)",
        "template": {
         "data": {
          "bar": [
           {
            "error_x": {
             "color": "#2a3f5f"
            },
            "error_y": {
             "color": "#2a3f5f"
            },
            "marker": {
             "line": {
              "color": "#E5ECF6",
              "width": 0.5
             },
             "pattern": {
              "fillmode": "overlay",
              "size": 10,
              "solidity": 0.2
             }
            },
            "type": "bar"
           }
          ],
          "barpolar": [
           {
            "marker": {
             "line": {
              "color": "#E5ECF6",
              "width": 0.5
             },
             "pattern": {
              "fillmode": "overlay",
              "size": 10,
              "solidity": 0.2
             }
            },
            "type": "barpolar"
           }
          ],
          "carpet": [
           {
            "aaxis": {
             "endlinecolor": "#2a3f5f",
             "gridcolor": "white",
             "linecolor": "white",
             "minorgridcolor": "white",
             "startlinecolor": "#2a3f5f"
            },
            "baxis": {
             "endlinecolor": "#2a3f5f",
             "gridcolor": "white",
             "linecolor": "white",
             "minorgridcolor": "white",
             "startlinecolor": "#2a3f5f"
            },
            "type": "carpet"
           }
          ],
          "choropleth": [
           {
            "colorbar": {
             "outlinewidth": 0,
             "ticks": ""
            },
            "type": "choropleth"
           }
          ],
          "contour": [
           {
            "colorbar": {
             "outlinewidth": 0,
             "ticks": ""
            },
            "colorscale": [
             [
              0,
              "#0d0887"
             ],
             [
              0.1111111111111111,
              "#46039f"
             ],
             [
              0.2222222222222222,
              "#7201a8"
             ],
             [
              0.3333333333333333,
              "#9c179e"
             ],
             [
              0.4444444444444444,
              "#bd3786"
             ],
             [
              0.5555555555555556,
              "#d8576b"
             ],
             [
              0.6666666666666666,
              "#ed7953"
             ],
             [
              0.7777777777777778,
              "#fb9f3a"
             ],
             [
              0.8888888888888888,
              "#fdca26"
             ],
             [
              1,
              "#f0f921"
             ]
            ],
            "type": "contour"
           }
          ],
          "contourcarpet": [
           {
            "colorbar": {
             "outlinewidth": 0,
             "ticks": ""
            },
            "type": "contourcarpet"
           }
          ],
          "heatmap": [
           {
            "colorbar": {
             "outlinewidth": 0,
             "ticks": ""
            },
            "colorscale": [
             [
              0,
              "#0d0887"
             ],
             [
              0.1111111111111111,
              "#46039f"
             ],
             [
              0.2222222222222222,
              "#7201a8"
             ],
             [
              0.3333333333333333,
              "#9c179e"
             ],
             [
              0.4444444444444444,
              "#bd3786"
             ],
             [
              0.5555555555555556,
              "#d8576b"
             ],
             [
              0.6666666666666666,
              "#ed7953"
             ],
             [
              0.7777777777777778,
              "#fb9f3a"
             ],
             [
              0.8888888888888888,
              "#fdca26"
             ],
             [
              1,
              "#f0f921"
             ]
            ],
            "type": "heatmap"
           }
          ],
          "heatmapgl": [
           {
            "colorbar": {
             "outlinewidth": 0,
             "ticks": ""
            },
            "colorscale": [
             [
              0,
              "#0d0887"
             ],
             [
              0.1111111111111111,
              "#46039f"
             ],
             [
              0.2222222222222222,
              "#7201a8"
             ],
             [
              0.3333333333333333,
              "#9c179e"
             ],
             [
              0.4444444444444444,
              "#bd3786"
             ],
             [
              0.5555555555555556,
              "#d8576b"
             ],
             [
              0.6666666666666666,
              "#ed7953"
             ],
             [
              0.7777777777777778,
              "#fb9f3a"
             ],
             [
              0.8888888888888888,
              "#fdca26"
             ],
             [
              1,
              "#f0f921"
             ]
            ],
            "type": "heatmapgl"
           }
          ],
          "histogram": [
           {
            "marker": {
             "pattern": {
              "fillmode": "overlay",
              "size": 10,
              "solidity": 0.2
             }
            },
            "type": "histogram"
           }
          ],
          "histogram2d": [
           {
            "colorbar": {
             "outlinewidth": 0,
             "ticks": ""
            },
            "colorscale": [
             [
              0,
              "#0d0887"
             ],
             [
              0.1111111111111111,
              "#46039f"
             ],
             [
              0.2222222222222222,
              "#7201a8"
             ],
             [
              0.3333333333333333,
              "#9c179e"
             ],
             [
              0.4444444444444444,
              "#bd3786"
             ],
             [
              0.5555555555555556,
              "#d8576b"
             ],
             [
              0.6666666666666666,
              "#ed7953"
             ],
             [
              0.7777777777777778,
              "#fb9f3a"
             ],
             [
              0.8888888888888888,
              "#fdca26"
             ],
             [
              1,
              "#f0f921"
             ]
            ],
            "type": "histogram2d"
           }
          ],
          "histogram2dcontour": [
           {
            "colorbar": {
             "outlinewidth": 0,
             "ticks": ""
            },
            "colorscale": [
             [
              0,
              "#0d0887"
             ],
             [
              0.1111111111111111,
              "#46039f"
             ],
             [
              0.2222222222222222,
              "#7201a8"
             ],
             [
              0.3333333333333333,
              "#9c179e"
             ],
             [
              0.4444444444444444,
              "#bd3786"
             ],
             [
              0.5555555555555556,
              "#d8576b"
             ],
             [
              0.6666666666666666,
              "#ed7953"
             ],
             [
              0.7777777777777778,
              "#fb9f3a"
             ],
             [
              0.8888888888888888,
              "#fdca26"
             ],
             [
              1,
              "#f0f921"
             ]
            ],
            "type": "histogram2dcontour"
           }
          ],
          "mesh3d": [
           {
            "colorbar": {
             "outlinewidth": 0,
             "ticks": ""
            },
            "type": "mesh3d"
           }
          ],
          "parcoords": [
           {
            "line": {
             "colorbar": {
              "outlinewidth": 0,
              "ticks": ""
             }
            },
            "type": "parcoords"
           }
          ],
          "pie": [
           {
            "automargin": true,
            "type": "pie"
           }
          ],
          "scatter": [
           {
            "marker": {
             "colorbar": {
              "outlinewidth": 0,
              "ticks": ""
             }
            },
            "type": "scatter"
           }
          ],
          "scatter3d": [
           {
            "line": {
             "colorbar": {
              "outlinewidth": 0,
              "ticks": ""
             }
            },
            "marker": {
             "colorbar": {
              "outlinewidth": 0,
              "ticks": ""
             }
            },
            "type": "scatter3d"
           }
          ],
          "scattercarpet": [
           {
            "marker": {
             "colorbar": {
              "outlinewidth": 0,
              "ticks": ""
             }
            },
            "type": "scattercarpet"
           }
          ],
          "scattergeo": [
           {
            "marker": {
             "colorbar": {
              "outlinewidth": 0,
              "ticks": ""
             }
            },
            "type": "scattergeo"
           }
          ],
          "scattergl": [
           {
            "marker": {
             "colorbar": {
              "outlinewidth": 0,
              "ticks": ""
             }
            },
            "type": "scattergl"
           }
          ],
          "scattermapbox": [
           {
            "marker": {
             "colorbar": {
              "outlinewidth": 0,
              "ticks": ""
             }
            },
            "type": "scattermapbox"
           }
          ],
          "scatterpolar": [
           {
            "marker": {
             "colorbar": {
              "outlinewidth": 0,
              "ticks": ""
             }
            },
            "type": "scatterpolar"
           }
          ],
          "scatterpolargl": [
           {
            "marker": {
             "colorbar": {
              "outlinewidth": 0,
              "ticks": ""
             }
            },
            "type": "scatterpolargl"
           }
          ],
          "scatterternary": [
           {
            "marker": {
             "colorbar": {
              "outlinewidth": 0,
              "ticks": ""
             }
            },
            "type": "scatterternary"
           }
          ],
          "surface": [
           {
            "colorbar": {
             "outlinewidth": 0,
             "ticks": ""
            },
            "colorscale": [
             [
              0,
              "#0d0887"
             ],
             [
              0.1111111111111111,
              "#46039f"
             ],
             [
              0.2222222222222222,
              "#7201a8"
             ],
             [
              0.3333333333333333,
              "#9c179e"
             ],
             [
              0.4444444444444444,
              "#bd3786"
             ],
             [
              0.5555555555555556,
              "#d8576b"
             ],
             [
              0.6666666666666666,
              "#ed7953"
             ],
             [
              0.7777777777777778,
              "#fb9f3a"
             ],
             [
              0.8888888888888888,
              "#fdca26"
             ],
             [
              1,
              "#f0f921"
             ]
            ],
            "type": "surface"
           }
          ],
          "table": [
           {
            "cells": {
             "fill": {
              "color": "#EBF0F8"
             },
             "line": {
              "color": "white"
             }
            },
            "header": {
             "fill": {
              "color": "#C8D4E3"
             },
             "line": {
              "color": "white"
             }
            },
            "type": "table"
           }
          ]
         },
         "layout": {
          "annotationdefaults": {
           "arrowcolor": "#2a3f5f",
           "arrowhead": 0,
           "arrowwidth": 1
          },
          "autotypenumbers": "strict",
          "coloraxis": {
           "colorbar": {
            "outlinewidth": 0,
            "ticks": ""
           }
          },
          "colorscale": {
           "diverging": [
            [
             0,
             "#8e0152"
            ],
            [
             0.1,
             "#c51b7d"
            ],
            [
             0.2,
             "#de77ae"
            ],
            [
             0.3,
             "#f1b6da"
            ],
            [
             0.4,
             "#fde0ef"
            ],
            [
             0.5,
             "#f7f7f7"
            ],
            [
             0.6,
             "#e6f5d0"
            ],
            [
             0.7,
             "#b8e186"
            ],
            [
             0.8,
             "#7fbc41"
            ],
            [
             0.9,
             "#4d9221"
            ],
            [
             1,
             "#276419"
            ]
           ],
           "sequential": [
            [
             0,
             "#0d0887"
            ],
            [
             0.1111111111111111,
             "#46039f"
            ],
            [
             0.2222222222222222,
             "#7201a8"
            ],
            [
             0.3333333333333333,
             "#9c179e"
            ],
            [
             0.4444444444444444,
             "#bd3786"
            ],
            [
             0.5555555555555556,
             "#d8576b"
            ],
            [
             0.6666666666666666,
             "#ed7953"
            ],
            [
             0.7777777777777778,
             "#fb9f3a"
            ],
            [
             0.8888888888888888,
             "#fdca26"
            ],
            [
             1,
             "#f0f921"
            ]
           ],
           "sequentialminus": [
            [
             0,
             "#0d0887"
            ],
            [
             0.1111111111111111,
             "#46039f"
            ],
            [
             0.2222222222222222,
             "#7201a8"
            ],
            [
             0.3333333333333333,
             "#9c179e"
            ],
            [
             0.4444444444444444,
             "#bd3786"
            ],
            [
             0.5555555555555556,
             "#d8576b"
            ],
            [
             0.6666666666666666,
             "#ed7953"
            ],
            [
             0.7777777777777778,
             "#fb9f3a"
            ],
            [
             0.8888888888888888,
             "#fdca26"
            ],
            [
             1,
             "#f0f921"
            ]
           ]
          },
          "colorway": [
           "#636efa",
           "#EF553B",
           "#00cc96",
           "#ab63fa",
           "#FFA15A",
           "#19d3f3",
           "#FF6692",
           "#B6E880",
           "#FF97FF",
           "#FECB52"
          ],
          "font": {
           "color": "#2a3f5f"
          },
          "geo": {
           "bgcolor": "white",
           "lakecolor": "white",
           "landcolor": "#E5ECF6",
           "showlakes": true,
           "showland": true,
           "subunitcolor": "white"
          },
          "hoverlabel": {
           "align": "left"
          },
          "hovermode": "closest",
          "mapbox": {
           "style": "light"
          },
          "paper_bgcolor": "white",
          "plot_bgcolor": "#E5ECF6",
          "polar": {
           "angularaxis": {
            "gridcolor": "white",
            "linecolor": "white",
            "ticks": ""
           },
           "bgcolor": "#E5ECF6",
           "radialaxis": {
            "gridcolor": "white",
            "linecolor": "white",
            "ticks": ""
           }
          },
          "scene": {
           "xaxis": {
            "backgroundcolor": "#E5ECF6",
            "gridcolor": "white",
            "gridwidth": 2,
            "linecolor": "white",
            "showbackground": true,
            "ticks": "",
            "zerolinecolor": "white"
           },
           "yaxis": {
            "backgroundcolor": "#E5ECF6",
            "gridcolor": "white",
            "gridwidth": 2,
            "linecolor": "white",
            "showbackground": true,
            "ticks": "",
            "zerolinecolor": "white"
           },
           "zaxis": {
            "backgroundcolor": "#E5ECF6",
            "gridcolor": "white",
            "gridwidth": 2,
            "linecolor": "white",
            "showbackground": true,
            "ticks": "",
            "zerolinecolor": "white"
           }
          },
          "shapedefaults": {
           "line": {
            "color": "#2a3f5f"
           }
          },
          "ternary": {
           "aaxis": {
            "gridcolor": "white",
            "linecolor": "white",
            "ticks": ""
           },
           "baxis": {
            "gridcolor": "white",
            "linecolor": "white",
            "ticks": ""
           },
           "bgcolor": "#E5ECF6",
           "caxis": {
            "gridcolor": "white",
            "linecolor": "white",
            "ticks": ""
           }
          },
          "title": {
           "x": 0.05
          },
          "xaxis": {
           "automargin": true,
           "gridcolor": "white",
           "linecolor": "white",
           "ticks": "",
           "title": {
            "standoff": 15
           },
           "zerolinecolor": "white",
           "zerolinewidth": 2
          },
          "yaxis": {
           "automargin": true,
           "gridcolor": "white",
           "linecolor": "white",
           "ticks": "",
           "title": {
            "standoff": 15
           },
           "zerolinecolor": "white",
           "zerolinewidth": 2
          }
         }
        },
        "title": {
         "text": "Publication count by year"
        },
        "xaxis": {
         "anchor": "y",
         "autorange": true,
         "domain": [
          0,
          1
         ],
         "range": [
          2000,
          2021
         ],
         "title": {
          "text": "year"
         },
         "type": "linear"
        },
        "yaxis": {
         "anchor": "x",
         "autorange": true,
         "domain": [
          0,
          1
         ],
         "range": [
          -0.2222222222222221,
          24.22222222222222
         ],
         "title": {
          "text": "count"
         },
         "type": "linear"
        }
       }
      },
      "image/png": "[encoded data removed]",
      "text/html": [
       "<div>                            <div id=\"62ab63a2-bb55-4a5c-8319-a03e6b2e9431\" class=\"plotly-graph-div\" style=\"height:525px; width:100%;\"></div>            <script type=\"text/javascript\">                require([\"plotly\"], function(Plotly) {                    window.PLOTLYENV=window.PLOTLYENV || {};                                    if (document.getElementById(\"62ab63a2-bb55-4a5c-8319-a03e6b2e9431\")) {                    Plotly.newPlot(                        \"62ab63a2-bb55-4a5c-8319-a03e6b2e9431\",                        [{\"hovertemplate\":\"year=%{x}<br>count=%{y}<extra></extra>\",\"legendgroup\":\"\",\"line\":{\"color\":\"#636efa\",\"dash\":\"solid\"},\"marker\":{\"symbol\":\"circle\"},\"mode\":\"lines\",\"name\":\"\",\"orientation\":\"v\",\"showlegend\":false,\"type\":\"scatter\",\"x\":[2000,2001,2002,2003,2004,2005,2006,2007,2008,2009,2010,2011,2012,2013,2014,2015,2016,2017,2018,2019,2020,2021],\"xaxis\":\"x\",\"y\":[2,2,3,2,1,1,6,6,15,12,11,23,23,18,15,19,13,12,4,8,13,19],\"yaxis\":\"y\"}],                        {\"legend\":{\"tracegroupgap\":0},\"paper_bgcolor\":\"rgba(0, 0, 0, 0)\",\"plot_bgcolor\":\"rgba(0, 0, 0, 0)\",\"template\":{\"data\":{\"bar\":[{\"error_x\":{\"color\":\"#2a3f5f\"},\"error_y\":{\"color\":\"#2a3f5f\"},\"marker\":{\"line\":{\"color\":\"#E5ECF6\",\"width\":0.5},\"pattern\":{\"fillmode\":\"overlay\",\"size\":10,\"solidity\":0.2}},\"type\":\"bar\"}],\"barpolar\":[{\"marker\":{\"line\":{\"color\":\"#E5ECF6\",\"width\":0.5},\"pattern\":{\"fillmode\":\"overlay\",\"size\":10,\"solidity\":0.2}},\"type\":\"barpolar\"}],\"carpet\":[{\"aaxis\":{\"endlinecolor\":\"#2a3f5f\",\"gridcolor\":\"white\",\"linecolor\":\"white\",\"minorgridcolor\":\"white\",\"startlinecolor\":\"#2a3f5f\"},\"baxis\":{\"endlinecolor\":\"#2a3f5f\",\"gridcolor\":\"white\",\"linecolor\":\"white\",\"minorgridcolor\":\"white\",\"startlinecolor\":\"#2a3f5f\"},\"type\":\"carpet\"}],\"choropleth\":[{\"colorbar\":{\"outlinewidth\":0,\"ticks\":\"\"},\"type\":\"choropleth\"}],\"contour\":[{\"colorbar\":{\"outlinewidth\":0,\"ticks\":\"\"},\"colorscale\":[[0.0,\"#0d0887\"],[0.1111111111111111,\"#46039f\"],[0.2222222222222222,\"#7201a8\"],[0.3333333333333333,\"#9c179e\"],[0.4444444444444444,\"#bd3786\"],[0.5555555555555556,\"#d8576b\"],[0.6666666666666666,\"#ed7953\"],[0.7777777777777778,\"#fb9f3a\"],[0.8888888888888888,\"#fdca26\"],[1.0,\"#f0f921\"]],\"type\":\"contour\"}],\"contourcarpet\":[{\"colorbar\":{\"outlinewidth\":0,\"ticks\":\"\"},\"type\":\"contourcarpet\"}],\"heatmap\":[{\"colorbar\":{\"outlinewidth\":0,\"ticks\":\"\"},\"colorscale\":[[0.0,\"#0d0887\"],[0.1111111111111111,\"#46039f\"],[0.2222222222222222,\"#7201a8\"],[0.3333333333333333,\"#9c179e\"],[0.4444444444444444,\"#bd3786\"],[0.5555555555555556,\"#d8576b\"],[0.6666666666666666,\"#ed7953\"],[0.7777777777777778,\"#fb9f3a\"],[0.8888888888888888,\"#fdca26\"],[1.0,\"#f0f921\"]],\"type\":\"heatmap\"}],\"heatmapgl\":[{\"colorbar\":{\"outlinewidth\":0,\"ticks\":\"\"},\"colorscale\":[[0.0,\"#0d0887\"],[0.1111111111111111,\"#46039f\"],[0.2222222222222222,\"#7201a8\"],[0.3333333333333333,\"#9c179e\"],[0.4444444444444444,\"#bd3786\"],[0.5555555555555556,\"#d8576b\"],[0.6666666666666666,\"#ed7953\"],[0.7777777777777778,\"#fb9f3a\"],[0.8888888888888888,\"#fdca26\"],[1.0,\"#f0f921\"]],\"type\":\"heatmapgl\"}],\"histogram\":[{\"marker\":{\"pattern\":{\"fillmode\":\"overlay\",\"size\":10,\"solidity\":0.2}},\"type\":\"histogram\"}],\"histogram2d\":[{\"colorbar\":{\"outlinewidth\":0,\"ticks\":\"\"},\"colorscale\":[[0.0,\"#0d0887\"],[0.1111111111111111,\"#46039f\"],[0.2222222222222222,\"#7201a8\"],[0.3333333333333333,\"#9c179e\"],[0.4444444444444444,\"#bd3786\"],[0.5555555555555556,\"#d8576b\"],[0.6666666666666666,\"#ed7953\"],[0.7777777777777778,\"#fb9f3a\"],[0.8888888888888888,\"#fdca26\"],[1.0,\"#f0f921\"]],\"type\":\"histogram2d\"}],\"histogram2dcontour\":[{\"colorbar\":{\"outlinewidth\":0,\"ticks\":\"\"},\"colorscale\":[[0.0,\"#0d0887\"],[0.1111111111111111,\"#46039f\"],[0.2222222222222222,\"#7201a8\"],[0.3333333333333333,\"#9c179e\"],[0.4444444444444444,\"#bd3786\"],[0.5555555555555556,\"#d8576b\"],[0.6666666666666666,\"#ed7953\"],[0.7777777777777778,\"#fb9f3a\"],[0.8888888888888888,\"#fdca26\"],[1.0,\"#f0f921\"]],\"type\":\"histogram2dcontour\"}],\"mesh3d\":[{\"colorbar\":{\"outlinewidth\":0,\"ticks\":\"\"},\"type\":\"mesh3d\"}],\"parcoords\":[{\"line\":{\"colorbar\":{\"outlinewidth\":0,\"ticks\":\"\"}},\"type\":\"parcoords\"}],\"pie\":[{\"automargin\":true,\"type\":\"pie\"}],\"scatter\":[{\"marker\":{\"colorbar\":{\"outlinewidth\":0,\"ticks\":\"\"}},\"type\":\"scatter\"}],\"scatter3d\":[{\"line\":{\"colorbar\":{\"outlinewidth\":0,\"ticks\":\"\"}},\"marker\":{\"colorbar\":{\"outlinewidth\":0,\"ticks\":\"\"}},\"type\":\"scatter3d\"}],\"scattercarpet\":[{\"marker\":{\"colorbar\":{\"outlinewidth\":0,\"ticks\":\"\"}},\"type\":\"scattercarpet\"}],\"scattergeo\":[{\"marker\":{\"colorbar\":{\"outlinewidth\":0,\"ticks\":\"\"}},\"type\":\"scattergeo\"}],\"scattergl\":[{\"marker\":{\"colorbar\":{\"outlinewidth\":0,\"ticks\":\"\"}},\"type\":\"scattergl\"}],\"scattermapbox\":[{\"marker\":{\"colorbar\":{\"outlinewidth\":0,\"ticks\":\"\"}},\"type\":\"scattermapbox\"}],\"scatterpolar\":[{\"marker\":{\"colorbar\":{\"outlinewidth\":0,\"ticks\":\"\"}},\"type\":\"scatterpolar\"}],\"scatterpolargl\":[{\"marker\":{\"colorbar\":{\"outlinewidth\":0,\"ticks\":\"\"}},\"type\":\"scatterpolargl\"}],\"scatterternary\":[{\"marker\":{\"colorbar\":{\"outlinewidth\":0,\"ticks\":\"\"}},\"type\":\"scatterternary\"}],\"surface\":[{\"colorbar\":{\"outlinewidth\":0,\"ticks\":\"\"},\"colorscale\":[[0.0,\"#0d0887\"],[0.1111111111111111,\"#46039f\"],[0.2222222222222222,\"#7201a8\"],[0.3333333333333333,\"#9c179e\"],[0.4444444444444444,\"#bd3786\"],[0.5555555555555556,\"#d8576b\"],[0.6666666666666666,\"#ed7953\"],[0.7777777777777778,\"#fb9f3a\"],[0.8888888888888888,\"#fdca26\"],[1.0,\"#f0f921\"]],\"type\":\"surface\"}],\"table\":[{\"cells\":{\"fill\":{\"color\":\"#EBF0F8\"},\"line\":{\"color\":\"white\"}},\"header\":{\"fill\":{\"color\":\"#C8D4E3\"},\"line\":{\"color\":\"white\"}},\"type\":\"table\"}]},\"layout\":{\"annotationdefaults\":{\"arrowcolor\":\"#2a3f5f\",\"arrowhead\":0,\"arrowwidth\":1},\"autotypenumbers\":\"strict\",\"coloraxis\":{\"colorbar\":{\"outlinewidth\":0,\"ticks\":\"\"}},\"colorscale\":{\"diverging\":[[0,\"#8e0152\"],[0.1,\"#c51b7d\"],[0.2,\"#de77ae\"],[0.3,\"#f1b6da\"],[0.4,\"#fde0ef\"],[0.5,\"#f7f7f7\"],[0.6,\"#e6f5d0\"],[0.7,\"#b8e186\"],[0.8,\"#7fbc41\"],[0.9,\"#4d9221\"],[1,\"#276419\"]],\"sequential\":[[0.0,\"#0d0887\"],[0.1111111111111111,\"#46039f\"],[0.2222222222222222,\"#7201a8\"],[0.3333333333333333,\"#9c179e\"],[0.4444444444444444,\"#bd3786\"],[0.5555555555555556,\"#d8576b\"],[0.6666666666666666,\"#ed7953\"],[0.7777777777777778,\"#fb9f3a\"],[0.8888888888888888,\"#fdca26\"],[1.0,\"#f0f921\"]],\"sequentialminus\":[[0.0,\"#0d0887\"],[0.1111111111111111,\"#46039f\"],[0.2222222222222222,\"#7201a8\"],[0.3333333333333333,\"#9c179e\"],[0.4444444444444444,\"#bd3786\"],[0.5555555555555556,\"#d8576b\"],[0.6666666666666666,\"#ed7953\"],[0.7777777777777778,\"#fb9f3a\"],[0.8888888888888888,\"#fdca26\"],[1.0,\"#f0f921\"]]},\"colorway\":[\"#636efa\",\"#EF553B\",\"#00cc96\",\"#ab63fa\",\"#FFA15A\",\"#19d3f3\",\"#FF6692\",\"#B6E880\",\"#FF97FF\",\"#FECB52\"],\"font\":{\"color\":\"#2a3f5f\"},\"geo\":{\"bgcolor\":\"white\",\"lakecolor\":\"white\",\"landcolor\":\"#E5ECF6\",\"showlakes\":true,\"showland\":true,\"subunitcolor\":\"white\"},\"hoverlabel\":{\"align\":\"left\"},\"hovermode\":\"closest\",\"mapbox\":{\"style\":\"light\"},\"paper_bgcolor\":\"white\",\"plot_bgcolor\":\"#E5ECF6\",\"polar\":{\"angularaxis\":{\"gridcolor\":\"white\",\"linecolor\":\"white\",\"ticks\":\"\"},\"bgcolor\":\"#E5ECF6\",\"radialaxis\":{\"gridcolor\":\"white\",\"linecolor\":\"white\",\"ticks\":\"\"}},\"scene\":{\"xaxis\":{\"backgroundcolor\":\"#E5ECF6\",\"gridcolor\":\"white\",\"gridwidth\":2,\"linecolor\":\"white\",\"showbackground\":true,\"ticks\":\"\",\"zerolinecolor\":\"white\"},\"yaxis\":{\"backgroundcolor\":\"#E5ECF6\",\"gridcolor\":\"white\",\"gridwidth\":2,\"linecolor\":\"white\",\"showbackground\":true,\"ticks\":\"\",\"zerolinecolor\":\"white\"},\"zaxis\":{\"backgroundcolor\":\"#E5ECF6\",\"gridcolor\":\"white\",\"gridwidth\":2,\"linecolor\":\"white\",\"showbackground\":true,\"ticks\":\"\",\"zerolinecolor\":\"white\"}},\"shapedefaults\":{\"line\":{\"color\":\"#2a3f5f\"}},\"ternary\":{\"aaxis\":{\"gridcolor\":\"white\",\"linecolor\":\"white\",\"ticks\":\"\"},\"baxis\":{\"gridcolor\":\"white\",\"linecolor\":\"white\",\"ticks\":\"\"},\"bgcolor\":\"#E5ECF6\",\"caxis\":{\"gridcolor\":\"white\",\"linecolor\":\"white\",\"ticks\":\"\"}},\"title\":{\"x\":0.05},\"xaxis\":{\"automargin\":true,\"gridcolor\":\"white\",\"linecolor\":\"white\",\"ticks\":\"\",\"title\":{\"standoff\":15},\"zerolinecolor\":\"white\",\"zerolinewidth\":2},\"yaxis\":{\"automargin\":true,\"gridcolor\":\"white\",\"linecolor\":\"white\",\"ticks\":\"\",\"title\":{\"standoff\":15},\"zerolinecolor\":\"white\",\"zerolinewidth\":2}}},\"title\":{\"text\":\"Publication count by year\"},\"xaxis\":{\"anchor\":\"y\",\"domain\":[0.0,1.0],\"title\":{\"text\":\"year\"}},\"yaxis\":{\"anchor\":\"x\",\"domain\":[0.0,1.0],\"title\":{\"text\":\"count\"}}},                        {\"responsive\": true}                    ).then(function(){\n",
       "                            \n",
       "var gd = document.getElementById('62ab63a2-bb55-4a5c-8319-a03e6b2e9431');\n",
       "var x = new MutationObserver(function (mutations, observer) {{\n",
       "        var display = window.getComputedStyle(gd).display;\n",
       "        if (!display || display === 'none') {{\n",
       "            console.log([gd, 'removed!']);\n",
       "            Plotly.purge(gd);\n",
       "            observer.disconnect();\n",
       "        }}\n",
       "}});\n",
       "\n",
       "// Listen for the removal of the full notebook cells\n",
       "var notebookContainer = gd.closest('#notebook-container');\n",
       "if (notebookContainer) {{\n",
       "    x.observe(notebookContainer, {childList: true});\n",
       "}}\n",
       "\n",
       "// Listen for the clearing of the current output cell\n",
       "var outputEl = gd.closest('.output');\n",
       "if (outputEl) {{\n",
       "    x.observe(outputEl, {childList: true});\n",
       "}}\n",
       "\n",
       "                        })                };                });            </script>        </div>"
      ]
     },
     "metadata": {},
     "output_type": "display_data"
    }
   ],
   "source": [
    "## Convert the data to counts and create a dataframe\n",
    "temp = dat['Publication Year'].value_counts().reset_index()\n",
    "temp = temp.rename(columns = {\"index\" : \"year\", \"Publication Year\" : \"count\"}).sort_values(\"year\")\n",
    "fit = px.line(temp, x = \"year\", y = \"count\", title = \"Publication count by year\")\n",
    "fit.update_layout({\n",
    "    'plot_bgcolor' : 'rgba(0, 0, 0, 0)',\n",
    "    'paper_bgcolor' : 'rgba(0, 0, 0, 0)'})\n",
    "\n",
    "fit.show()"
   ]
  },
  {
   "cell_type": "markdown",
   "id": "86ae9362-0417-448e-9fba-260534416031",
   "metadata": {},
   "source": [
    "Here are journals I publish in the most (4 or more times). Some journals I really like, and have published in, but (sadly) didn't make it to this list include JRSSA (1), JRSSB (2), Biometrika (1), IEEE TMI (1), Neurology (2), JCGS (3), AJE (2), Brain (2), JAMA Neurology (2), JAMA (1) and Neuroimage Clinical (2)."
   ]
  },
  {
   "cell_type": "code",
   "execution_count": 130,
   "id": "cdd69b16-8d83-4bfe-a761-d9448c183c16",
   "metadata": {},
   "outputs": [
    {
     "data": {
      "text/html": [
       "<div>\n",
       "<style scoped>\n",
       "    .dataframe tbody tr th:only-of-type {\n",
       "        vertical-align: middle;\n",
       "    }\n",
       "\n",
       "    .dataframe tbody tr th {\n",
       "        vertical-align: top;\n",
       "    }\n",
       "\n",
       "    .dataframe thead th {\n",
       "        text-align: right;\n",
       "    }\n",
       "</style>\n",
       "<table border=\"1\" class=\"dataframe\">\n",
       "  <thead>\n",
       "    <tr style=\"text-align: right;\">\n",
       "      <th></th>\n",
       "      <th>Title</th>\n",
       "      <th>Count</th>\n",
       "    </tr>\n",
       "  </thead>\n",
       "  <tbody>\n",
       "    <tr>\n",
       "      <th>0</th>\n",
       "      <td>NeuroImage</td>\n",
       "      <td>16</td>\n",
       "    </tr>\n",
       "    <tr>\n",
       "      <th>2</th>\n",
       "      <td>Journal of the American Statistical Association</td>\n",
       "      <td>9</td>\n",
       "    </tr>\n",
       "    <tr>\n",
       "      <th>1</th>\n",
       "      <td>Biostatistics</td>\n",
       "      <td>9</td>\n",
       "    </tr>\n",
       "    <tr>\n",
       "      <th>3</th>\n",
       "      <td>Human Brain Mapping</td>\n",
       "      <td>7</td>\n",
       "    </tr>\n",
       "    <tr>\n",
       "      <th>4</th>\n",
       "      <td>Computational Statistics and Data Analysis</td>\n",
       "      <td>7</td>\n",
       "    </tr>\n",
       "    <tr>\n",
       "      <th>5</th>\n",
       "      <td>Annals of Applied Statistics</td>\n",
       "      <td>6</td>\n",
       "    </tr>\n",
       "    <tr>\n",
       "      <th>6</th>\n",
       "      <td>PLoS ONE</td>\n",
       "      <td>6</td>\n",
       "    </tr>\n",
       "    <tr>\n",
       "      <th>7</th>\n",
       "      <td>Statistics in Medicine</td>\n",
       "      <td>5</td>\n",
       "    </tr>\n",
       "    <tr>\n",
       "      <th>8</th>\n",
       "      <td>American Statistician</td>\n",
       "      <td>5</td>\n",
       "    </tr>\n",
       "    <tr>\n",
       "      <th>9</th>\n",
       "      <td>Progress in Biomedical Optics and Imaging - Pr...</td>\n",
       "      <td>4</td>\n",
       "    </tr>\n",
       "    <tr>\n",
       "      <th>10</th>\n",
       "      <td>AIDS Research and Human Retroviruses</td>\n",
       "      <td>4</td>\n",
       "    </tr>\n",
       "    <tr>\n",
       "      <th>11</th>\n",
       "      <td>Sleep</td>\n",
       "      <td>4</td>\n",
       "    </tr>\n",
       "    <tr>\n",
       "      <th>12</th>\n",
       "      <td>Biometrics</td>\n",
       "      <td>4</td>\n",
       "    </tr>\n",
       "    <tr>\n",
       "      <th>13</th>\n",
       "      <td>American Journal of Neuroradiology</td>\n",
       "      <td>4</td>\n",
       "    </tr>\n",
       "  </tbody>\n",
       "</table>\n",
       "</div>"
      ],
      "text/plain": [
       "                                                Title  Count\n",
       "0                                          NeuroImage     16\n",
       "2     Journal of the American Statistical Association      9\n",
       "1                                       Biostatistics      9\n",
       "3                                 Human Brain Mapping      7\n",
       "4          Computational Statistics and Data Analysis      7\n",
       "5                        Annals of Applied Statistics      6\n",
       "6                                            PLoS ONE      6\n",
       "7                              Statistics in Medicine      5\n",
       "8                               American Statistician      5\n",
       "9   Progress in Biomedical Optics and Imaging - Pr...      4\n",
       "10               AIDS Research and Human Retroviruses      4\n",
       "11                                              Sleep      4\n",
       "12                                         Biometrics      4\n",
       "13                 American Journal of Neuroradiology      4"
      ]
     },
     "execution_count": 130,
     "metadata": {},
     "output_type": "execute_result"
    }
   ],
   "source": [
    "temp = dat['Journal Title'].value_counts().reset_index()\n",
    "temp = temp.rename(columns = {\"index\" : \"Title\", \"Journal Title\" : \"Count\"}).sort_values(\"Count\", ascending =False)\n",
    "temp[temp['Count'] > 3]"
   ]
  },
  {
   "cell_type": "markdown",
   "id": "65ecd883-400a-4c5e-840b-d4a768400f09",
   "metadata": {},
   "source": [
    "I have published with 625 coauthors. Here is a list of authors that I have had 10 or over manuscripts with."
   ]
  },
  {
   "cell_type": "code",
   "execution_count": 131,
   "id": "191d3da0-b856-427a-8903-c65a1c8bfab9",
   "metadata": {},
   "outputs": [
    {
     "data": {
      "text/html": [
       "<div>\n",
       "<style scoped>\n",
       "    .dataframe tbody tr th:only-of-type {\n",
       "        vertical-align: middle;\n",
       "    }\n",
       "\n",
       "    .dataframe tbody tr th {\n",
       "        vertical-align: top;\n",
       "    }\n",
       "\n",
       "    .dataframe thead th {\n",
       "        text-align: right;\n",
       "    }\n",
       "</style>\n",
       "<table border=\"1\" class=\"dataframe\">\n",
       "  <thead>\n",
       "    <tr style=\"text-align: right;\">\n",
       "      <th></th>\n",
       "      <th>Author</th>\n",
       "      <th>Count</th>\n",
       "    </tr>\n",
       "  </thead>\n",
       "  <tbody>\n",
       "    <tr>\n",
       "      <th>1</th>\n",
       "      <td>Crainiceanu C.</td>\n",
       "      <td>41</td>\n",
       "    </tr>\n",
       "    <tr>\n",
       "      <th>2</th>\n",
       "      <td>Pekar J.</td>\n",
       "      <td>28</td>\n",
       "    </tr>\n",
       "    <tr>\n",
       "      <th>3</th>\n",
       "      <td>Lindquist M.</td>\n",
       "      <td>23</td>\n",
       "    </tr>\n",
       "    <tr>\n",
       "      <th>4</th>\n",
       "      <td>Mostofsky S.</td>\n",
       "      <td>22</td>\n",
       "    </tr>\n",
       "    <tr>\n",
       "      <th>5</th>\n",
       "      <td>Hendrix C.</td>\n",
       "      <td>16</td>\n",
       "    </tr>\n",
       "    <tr>\n",
       "      <th>6</th>\n",
       "      <td>Punjabi N.M.</td>\n",
       "      <td>16</td>\n",
       "    </tr>\n",
       "    <tr>\n",
       "      <th>7</th>\n",
       "      <td>Nebel M.B.</td>\n",
       "      <td>15</td>\n",
       "    </tr>\n",
       "    <tr>\n",
       "      <th>8</th>\n",
       "      <td>Reich D.</td>\n",
       "      <td>14</td>\n",
       "    </tr>\n",
       "    <tr>\n",
       "      <th>9</th>\n",
       "      <td>Zhao Y.</td>\n",
       "      <td>13</td>\n",
       "    </tr>\n",
       "    <tr>\n",
       "      <th>10</th>\n",
       "      <td>Schwartz B.</td>\n",
       "      <td>11</td>\n",
       "    </tr>\n",
       "    <tr>\n",
       "      <th>11</th>\n",
       "      <td>Barber A.D.</td>\n",
       "      <td>11</td>\n",
       "    </tr>\n",
       "    <tr>\n",
       "      <th>12</th>\n",
       "      <td>Sair H.I.</td>\n",
       "      <td>11</td>\n",
       "    </tr>\n",
       "    <tr>\n",
       "      <th>13</th>\n",
       "      <td>Muschelli J.</td>\n",
       "      <td>11</td>\n",
       "    </tr>\n",
       "    <tr>\n",
       "      <th>14</th>\n",
       "      <td>Yousem D.</td>\n",
       "      <td>11</td>\n",
       "    </tr>\n",
       "    <tr>\n",
       "      <th>15</th>\n",
       "      <td>Eloyan A.</td>\n",
       "      <td>10</td>\n",
       "    </tr>\n",
       "  </tbody>\n",
       "</table>\n",
       "</div>"
      ],
      "text/plain": [
       "            Author  Count\n",
       "1   Crainiceanu C.     41\n",
       "2         Pekar J.     28\n",
       "3     Lindquist M.     23\n",
       "4     Mostofsky S.     22\n",
       "5       Hendrix C.     16\n",
       "6     Punjabi N.M.     16\n",
       "7       Nebel M.B.     15\n",
       "8         Reich D.     14\n",
       "9          Zhao Y.     13\n",
       "10     Schwartz B.     11\n",
       "11     Barber A.D.     11\n",
       "12       Sair H.I.     11\n",
       "13    Muschelli J.     11\n",
       "14       Yousem D.     11\n",
       "15       Eloyan A.     10"
      ]
     },
     "execution_count": 131,
     "metadata": {},
     "output_type": "execute_result"
    }
   ],
   "source": [
    "text = [s.split(',') for s in dat['Authors']]\n",
    "text = [b.lstrip() for a in text for b in a]\n",
    "#pd.set_option('display.max_rows', None)\n",
    "authors = pd.DataFrame({'Author' : text}).value_counts().reset_index()#.sort_values(\"Author\")\n",
    "authors = authors.rename(columns = {0 : 'Count'})\n",
    "authors[1 : 16]\n"
   ]
  },
  {
   "cell_type": "code",
   "execution_count": 210,
   "id": "f695f342-7e18-4b4f-bd02-a75f68410f4f",
   "metadata": {},
   "outputs": [],
   "source": [
    "text = dat['Document Title'].to_list()\n",
    "titles = \" \".join(text)\n",
    "titles = titles.replace(\"Using\", \"\")\n",
    "titles = titles.replace(\"using\", \"\")\n",
    "titles = titles.replace(\"Based\", \"\")\n",
    "titles = titles.replace(\"based\", \"\")\n",
    "titles = titles.replace(\"BASED\", \"\")\n",
    "\n",
    "titleFile = open(\"titleFile.txt\", \"w\")\n",
    "titleFile.write(titles)\n",
    "titleFile.close()\n",
    "\n",
    "\n",
    "import stylecloud as sc\n",
    "sc.gen_stylecloud(file_path = 'titleFile.txt', \n",
    "                  icon_name = 'fas fa-brain',\n",
    "                  stopwords = True)\n",
    "\n",
    "os.rename('stylecloud.png', 'titles.png')"
   ]
  },
  {
   "cell_type": "markdown",
   "id": "3bdf393c-0afe-4802-8dc7-c072d8eeca92",
   "metadata": {},
   "source": [
    "Here's a wordcloud of words in the titles (excluding common use words, in the shape of an axial brain slice).\n",
    "\n",
    "<img src= 'titles.png' alt=\"Wordcloud\" style=\"height: 400px; width:400px;\"/>"
   ]
  },
  {
   "cell_type": "markdown",
   "id": "19497685-ba80-4bbb-9768-ca90e2e6005c",
   "metadata": {},
   "source": [
    "Here's the citation counts of manuscripts plotted by year of publication."
   ]
  },
  {
   "cell_type": "code",
   "execution_count": 133,
   "id": "c3865f45-76ab-47c3-a9dc-f0e3bfaff6b9",
   "metadata": {},
   "outputs": [
    {
     "data": {
      "application/vnd.plotly.v1+json": {
       "config": {
        "plotlyServerURL": "https://plot.ly"
       },
       "data": [
        {
         "alignmentgroup": "True",
         "boxpoints": "all",
         "customdata": [
          [
           "Identification of the somatomotor network from language task-based fMRI compared with resting-state fMRI in patients with brain lesions",
           "Radiology"
          ],
          [
           "Quantitative EEG improves prediction of Sturge-Weber syndrome in infants with port-wine birthmark",
           "Clinical Neurophysiology"
          ],
          [
           "Eliminating accidental deviations to minimize generalization error and maximize replicability: Applications in connectomics and genomics",
           "PLoS Computational Biology"
          ],
          [
           "Multimodal neuroimaging data integration and pathway analysis",
           "Biometrics"
          ],
          [
           "Long-term kidney function and survival in recipients of allografts from living kidney donors with hypertension: a national cohort study",
           "Transplant International"
          ],
          [
           "Default mode network connectivity and cognition in the aging brain: the effects of age, sex, and APOE genotype.",
           "Neurobiology of Aging"
          ],
          [
           "Ten Rules for Conducting Retrospective Pharmacoepidemiological Analyses: Example COVID-19 Study",
           "Frontiers in Pharmacology"
          ],
          [
           "Corrigendum to: Neuroconductor: an R platform for medical imaging analysis",
           "Biostatistics"
          ],
          [
           "Covariate Assisted Principal regression for covariance matrix outcomes",
           "Biostatistics"
          ],
          [
           "Alpha-1 adrenergic receptor antagonists to prevent hyperinflammation and death from lower respiratory tract infection",
           "eLife"
          ],
          [
           "Examining the Safety, Pharmacokinetics, and Pharmacodynamics of a Rectally Administered IQP-0528 Gel for HIV Pre-Exposure Prophylaxis: A First-In-Human Study",
           "AIDS Research and Human Retroviruses"
          ],
          [
           "The Effect of Age and Competition Level on Subtle Motor Performance in Adolescents Medically Cleared Postconcussion: Preliminary Findings",
           "American Journal of Physical Medicine and Rehabilitation"
          ],
          [
           "On statistical tests of functional connectome fingerprinting",
           "Canadian Journal of Statistics"
          ],
          [
           "Multimodal MRI assessment for first episode psychosis: A major change in the thalamus and an efficient stratification of a subgroup",
           "Human Brain Mapping"
          ],
          [
           "Principal regression for high dimensional covariance matrices",
           "Electronic Journal of Statistics"
          ],
          [
           "Neural regions underlying object and action naming: complementary evidence from acute stroke and primary progressive aphasia",
           "Aphasiology"
          ],
          [
           "Phase-locking of resting-state brain networks with the gastric basal electrical rhythm",
           "PLoS ONE"
          ],
          [
           "White Matter Integrity Predicts Electrical Stimulation (tDCS) and Language Therapy Effects in Primary Progressive Aphasia",
           "Neurorehabilitation and Neural Repair"
          ],
          [
           "A whole-brain modeling approach to identify individual and group variations in functional connectivity",
           "Brain and Behavior"
          ],
          [
           "Are Women Disadvantaged in Academic Radiology?",
           "Academic Radiology"
          ],
          [
           "Rxnat: An Open-Source R Package for XNAT-Based Repositories",
           "Frontiers in Neuroinformatics"
          ],
          [
           "Developmental score of the infant brain: characterizing diffusion MRI in term- and preterm-born infants",
           "Brain Structure and Function"
          ],
          [
           "Machine learning to predict transplant outcomes: helpful or hype? A national cohort study",
           "Transplant International"
          ],
          [
           "Template Independent Component Analysis: Targeted and Reliable Estimation of Subject-level Brain Networks Using Big Data Population Priors",
           "Journal of the American Statistical Association"
          ],
          [
           "Learning of skilled movements via imitation in ASD",
           "Autism Research"
          ],
          [
           "Bayesian inference of a directional brain network model for intracranial EEG data",
           "Computational Statistics and Data Analysis"
          ],
          [
           "Cognitive and language performance predicts effects of spelling intervention and tDCS in Primary Progressive Aphasia",
           "Cortex"
          ],
          [
           "Sparse principal component based high-dimensional mediation analysis",
           "Computational Statistics and Data Analysis"
          ],
          [
           "The Democratization of Data Science Education",
           "American Statistician"
          ],
          [
           "Semiparametric partial common principal component analysis for covariance matrices",
           "Biometrics"
          ],
          [
           "SpineCloud: Image analytics for predictive modeling of spine surgery outcomes",
           "Proceedings of SPIE - The International Society for Optical Engineering"
          ],
          [
           "Brain volumes as predictors of tDCS effects in primary progressive aphasia",
           "Brain and Language"
          ],
          [
           "Using deep Siamese neural networks for detection of brain asymmetries associated with Alzheimer's Disease and Mild Cognitive Impairment",
           "Magnetic Resonance Imaging"
          ],
          [
           "Extended multimodal whole-brain anatomical covariance analysis: detection of disrupted correlation networks related to amyloid deposition",
           "Heliyon"
          ],
          [
           "Modular preprocessing pipelines can reintroduce artifacts into fMRI data",
           "Human Brain Mapping"
          ],
          [
           "Improved state change estimation in dynamic functional connectivity using hidden semi-Markov models",
           "NeuroImage"
          ],
          [
           "Neuroconductor: An R platform for medical imaging analysis",
           "Biostatistics"
          ],
          [
           "Erratum: “The effect of tDCS on functional connectivity in primary progressive aphasia”(NeuroImage: Clinical (2018)19 (703–715), (S2213158218301682), (10.1016/j.nicl.2018.05.023))",
           "NeuroImage: Clinical"
          ],
          [
           "Bias in neuroradiology peer review: Impact of a “ding” on “dinging” others",
           "American Journal of Neuroradiology"
          ],
          [
           "Mixed effect machine learning: A framework for predicting longitudinal change in hemoglobin A1c",
           "Journal of Biomedical Informatics"
          ],
          [
           "Improved estimation of subject-level functional connectivity using full and partial correlation with empirical Bayes shrinkage",
           "NeuroImage"
          ],
          [
           "High-dimensional multivariate mediation with application to neuroimaging data",
           "Biostatistics"
          ],
          [
           "Early functional connectome integrity and 1-year recovery in comatose survivors of cardiac arrest",
           "Radiology"
          ],
          [
           "The effect of tDCS on functional connectivity in primary progressive aphasia",
           "NeuroImage: Clinical"
          ],
          [
           "Dynamic Functional Connectivity States between the Dorsal and Ventral Sensorimotor Networks Revealed by Dynamic Conditional Correlation Analysis of Resting-State Functional Magnetic Resonance Imaging",
           "Brain Connectivity"
          ],
          [
           "Big Data and Neuroimaging",
           "Statistics in Biosciences"
          ],
          [
           "Comparing test-retest reliability of dynamic functional connectivity methods",
           "NeuroImage"
          ],
          [
           "PCA leverage: Outlier detection for high-dimensional functional magnetic resonance imaging data",
           "Biostatistics"
          ],
          [
           "Bayesian inference of high-dimensional, cluster-structured ordinary differential equation models with applications to brain connectivity studies",
           "Annals of Applied Statistics"
          ],
          [
           "Decoupling of reaction time-related default mode network activity with cognitive demand",
           "Brain Imaging and Behavior"
          ],
          [
           "Presurgical brain mapping of the ventral somatomotor network in patients with brain tumors using resting-state fMRI",
           "American Journal of Neuroradiology"
          ],
          [
           "Parallel group independent component analysis for massive fMRI data sets",
           "PLoS ONE"
          ],
          [
           "An M-estimator for reduced-rank system identification",
           "Pattern Recognition Letters"
          ],
          [
           "Trajectories of Glycemic Change in a National Cohort of Adults with Previously Controlled Type 2 Diabetes",
           "Medical Care"
          ],
          [
           "Practical no-gold-standard evaluation framework for quantitative imaging methods: Application to lesion segmentation in positron emission tomography",
           "Journal of Medical Imaging"
          ],
          [
           "Imaging of glial cell activation and white matter integrity in brains of active and recently retired national football league players",
           "JAMA Neurology"
          ],
          [
           "Sparse median graphs estimation in a high-dimensional semiparametric model",
           "Annals of Applied Statistics"
          ],
          [
           "Lesion heterogeneity on high-field susceptibility MRI Is associated with multiple sclerosis severity",
           "American Journal of Neuroradiology"
          ],
          [
           "Parameterization of White Matter Manifold-Like Structures Using Principal Surfaces",
           "Journal of the American Statistical Association"
          ],
          [
           "Ten Simple Rules for Effective Statistical Practice",
           "PLoS Computational Biology"
          ],
          [
           "Factors affecting characterization and localization of interindividual differences in functional connectivity using MRI",
           "Human Brain Mapping"
          ],
          [
           "Fast, Exact Bootstrap Principal Component Analysis for p &gt; 1 Million",
           "Journal of the American Statistical Association"
          ],
          [
           "A no-gold-standard technique for objective assessment of quantitative nuclear-medicine imaging methods",
           "Physics in Medicine and Biology"
          ],
          [
           "Presurgical brain mapping of the language network in patients with brain tumors using resting-state fMRI: Comparison with task fMRI",
           "Human Brain Mapping"
          ],
          [
           "Joint estimation of multiple graphical models from high dimensional time series",
           "Journal of the Royal Statistical Society. Series B: Statistical Methodology"
          ],
          [
           "A Multicenter Longitudinal Study of Hospital-Onset Bacteremia: Time for a New Quality Outcome Measure?",
           "Infection Control and Hospital Epidemiology"
          ],
          [
           "Erratum: A Multicenter Longitudinal Study of Hospital-Onset Bacteremia: Time for a New Quality Outcome Measure? (Infection Control and Hospital Epidemiology 2015) doi:10.1017/ice.2015.261",
           "Infection Control and Hospital Epidemiology"
          ],
          [
           "Editorial: Recent advances and challenges on Big Data analysis in neuroimaging",
           "Frontiers in Neuroscience"
          ],
          [
           "A parcellation based nonparametric algorithm for independent component analysis with application to fMRI data",
           "Frontiers in Neuroscience"
          ],
          [
           "Neural Correlates of Visuomotor Learning in Autism",
           "Journal of Child Neurology"
          ],
          [
           "A Phase 1 Randomized, Blinded Comparison of the Pharmacokinetics and Colonic Distribution of Three Candidate Rectal Microbicide Formulations of Tenofovir 1% Gel with Simulated Unprotected Sex (CHARM-02)",
           "AIDS Research and Human Retroviruses"
          ],
          [
           "Simultaneous Evaluation of Safety, Acceptability, Pericoital Kinetics, and Ex Vivo Pharmacodynamics Comparing Four Rectal Microbicide Vehicle Candidates",
           "AIDS Research and Human Retroviruses"
          ],
          [
           "Reproducibility and temporal structure in weekly resting-state fMRI over a period of 3.5 years",
           "PLoS ONE"
          ],
          [
           "Association of cortical lesion burden on 7-T magnetic resonance imaging with cognition and disability in multiple sclerosis",
           "JAMA Neurology"
          ],
          [
           "Estimating a graphical intra-class correlation coefficient (GICC) using multivariate probit-linear mixed models",
           "Computational Statistics and Data Analysis"
          ],
          [
           "Improving reliability of subject-level resting-state fMRI parcellation with shrinkage estimators",
           "NeuroImage"
          ],
          [
           "Evaluating model misspecification in independent component analysis",
           "Journal of Statistical Computation and Simulation"
          ],
          [
           "Resting brain activity in disorders of consciousness: A systematic review and meta-analysis",
           "Neurology"
          ],
          [
           "Evidence for Specificity of Motor Impairments in Catching and Balance in Children with Autism",
           "Journal of Autism and Developmental Disorders"
          ],
          [
           "Neuroinflammation and brain atrophy in former NFL players: An in vivo multimodal imaging pilot study",
           "Neurobiology of Disease"
          ],
          [
           "A Dynamic Directional Model for Effective Brain Connectivity Using Electrocorticographic (ECoG) Time Series",
           "Journal of the American Statistical Association"
          ],
          [
           "Robust estimation of transition matrices in high dimensional heavy-tailed vector autoregressive processes",
           "32nd International Conference on Machine Learning, ICML 2015"
          ],
          [
           "Robust portfolio optimization",
           "Advances in Neural Information Processing Systems"
          ],
          [
           "Motor overflow in children with attention-deficit/hyperactivity disorder is associated with decreased extent of neural activation in the motor cortex",
           "Psychiatry Research - Neuroimaging"
          ],
          [
           "Fluoxetine maintains a state of heightened responsiveness to motor training early after stroke in a mouse model",
           "Stroke"
          ],
          [
           "Objective evaluation of reconstruction methods for quantitative SPECT imaging in the absence of ground truth",
           "Progress in Biomedical Optics and Imaging - Proceedings of SPIE"
          ],
          [
           "On tests of activation map dimensionality for fMRI-based studies of learning",
           "Frontiers in Neuroscience"
          ],
          [
           "Connectivity supporting attention in children with attention deficit hyperactivity disorder",
           "NeuroImage: Clinical"
          ],
          [
           "Longitudinal high-dimensional principal components analysis with application to diffusion tensor imaging of multiple sclerosis",
           "Annals of Applied Statistics"
          ],
          [
           "Shrinkage prediction of seed-voxel brain connectivity using resting state fMRI",
           "NeuroImage"
          ],
          [
           "Evaluating dynamic bivariate correlations in resting-state fMRI: A comparison study and a new approach",
           "NeuroImage"
          ],
          [
           "The neural correlates of learned motor acuity",
           "Journal of Neurophysiology"
          ],
          [
           "Reduction of motion-related artifacts in resting state fMRI using aCompCor",
           "NeuroImage"
          ],
          [
           "Variations in EEG discharges predict ADHD severity within individual Smith-Lemli-Opitz patients",
           "Neurology"
          ],
          [
           "Analytic programming with fMRI data: A quick-start guide for statisticians using R",
           "PLoS ONE"
          ],
          [
           "Successful implementation of a unit-based quality nurse to reduce central line-associated bloodstream infections",
           "American Journal of Infection Control"
          ],
          [
           "Disruption of functional organization within the primary motor cortex in children with autism",
           "Human Brain Mapping"
          ],
          [
           "Spatial Bayesian variable selection models on functional magnetic resonance imaging time-series data",
           "Bayesian Analysis"
          ],
          [
           "A unifying framework for marginalised random-intercept models of correlated binary outcomes",
           "International Statistical Review"
          ],
          [
           "Regional brain distribution of translocator protein using [ 11C]DPA-713 PET in individuals infected with HIV",
           "Journal of NeuroVirology"
          ],
          [
           "Moneybarl: Exploiting pitcher decision-making using reinforcement learning",
           "Annals of Applied Statistics"
          ],
          [
           "An evaluation of independent component analyses with an application to resting-state fMRI",
           "Biometrics"
          ],
          [
           "Cross-sectional and longitudinal association of body mass index and brain volume",
           "Human Brain Mapping"
          ],
          [
           "Practical marginalized multilevel models",
           "Stat"
          ],
          [
           "Practical recommendations for population PK studies with sampling time errors",
           "European Journal of Clinical Pharmacology"
          ],
          [
           "Quantifying the reliability of image replication studies: The image intraclass correlation coefficient (I2C2)",
           "Cognitive, Affective and Behavioral Neuroscience"
          ],
          [
           "Isoosmolar Enemas Demonstrate Preferential Gastrointestinal Distribution, Safety, and Acceptability Compared with Hyperosmolar and Hypoosmolar Enemas as a Potential Delivery Vehicle for Rectal Microbicides",
           "AIDS Research and Human Retroviruses"
          ],
          [
           "Ironing out the statistical wrinkles in \"ten ironic rules\"",
           "NeuroImage"
          ],
          [
           "Information criteria for dynamic contrast-enhanced magnetic resonance imaging",
           "Proceedings - 2013 3rd International Workshop on Pattern Recognition in Neuroimaging, PRNI 2013"
          ],
          [
           "Clustering of high dimensional longitudinal imaging data",
           "Proceedings - 2013 3rd International Workshop on Pattern Recognition in Neuroimaging, PRNI 2013"
          ],
          [
           "Comparison of total hospital-acquired bloodstream infections to central line-associated bloodstream infections and implications for outcome measures in infection control",
           "Infection Control and Hospital Epidemiology"
          ],
          [
           "Combining hidden Markov models for comparing the dynamics of multiple sleep electroencephalograms",
           "Statistics in Medicine"
          ],
          [
           "Likelihood-based population independent component analysis",
           "Biostatistics"
          ],
          [
           "Correction to \"Easy Multiplicity Control in Equivalence Testing Using Two One-Sided Tests\"",
           "American Statistician"
          ],
          [
           "Axial 3D gradient-echo imaging for improved multiple sclerosis lesion detection in the cervical spinal cord at 3T",
           "Neuroradiology"
          ],
          [
           "Assessment of bias in experimentally measured diffusion tensor imaging parameters using SIMEX",
           "Magnetic Resonance in Medicine"
          ],
          [
           "Multilevel functional data analysis",
           "The SAGE Handbook of Multilevel Modeling"
          ],
          [
           "A Decision-Theory Approach to Interpretable Set Analysis for High-Dimensional Data",
           "Biometrics"
          ],
          [
           "Effects of working memory demand on neural mechanisms of motor response selection and control",
           "Journal of Cognitive Neuroscience"
          ],
          [
           "Reliability of early cortical auditory gamma-band responses",
           "Clinical Neurophysiology"
          ],
          [
           "Developmental changes in within- and between-network connectivity between late childhood and adulthood",
           "Neuropsychologia"
          ],
          [
           "Movelets: A dictionary of movement",
           "Electronic Journal of Statistics"
          ],
          [
           "Myocardial structural associations with local electrograms: A study of postinfarct ventricular tachycardia pathophysiology and magnetic resonance-based noninvasive mapping",
           "Circulation: Arrhythmia and Electrophysiology"
          ],
          [
           "Total white matter hyperintensity volume in bipolar disorder patients and their healthy relatives",
           "Bipolar Disorders"
          ],
          [
           "Quantification of the spatial distribution of rectally applied surrogates for microbicide and semen in colon with SPECT and magnetic resonance imaging",
           "British Journal of Clinical Pharmacology"
          ],
          [
           "Analysis of Group ICA-Based Connectivity Measures from fMRI: Application to Alzheimer's Disease",
           "PLoS ONE"
          ],
          [
           "A computational neurodegenerative disease progression score: Method and results with the Alzheimer's disease neuroimaging initiative cohort",
           "NeuroImage"
          ],
          [
           "Association of social engagement with brain volumes assessed by structural MRI",
           "Journal of Aging Research"
          ],
          [
           "Biological parametric mapping accounting for random regressors with regression calibration and model II regression",
           "NeuroImage"
          ],
          [
           "Automated diagnoses of attention deficit hyperactive disorder using magnetic resonance imaging",
           "Frontiers in Systems Neuroscience"
          ],
          [
           "Automated diagnoses of attention deficit hyperactive disorder using magnetic resonance imaging",
           "Frontiers in Systems Neuroscience"
          ],
          [
           "Comparison of swab and sponge methodologies for identification of Acinetobacter baumannii from the hospital environment",
           "Journal of Clinical Microbiology"
          ],
          [
           "Towards automatic quantitative quality control for MRI",
           "Progress in Biomedical Optics and Imaging - Proceedings of SPIE"
          ],
          [
           "Pulse pileup statistics for energy sensitive photon counting detectors with pulse height analysis",
           "Progress in Biomedical Optics and Imaging - Proceedings of SPIE"
          ],
          [
           "Revisiting brain atrophy and its relationship to disability in multiple sclerosis",
           "PLoS ONE"
          ],
          [
           "Reply",
           "Annals of Neurology"
          ],
          [
           "Longitudinal penalized functional regression for cognitive outcomes on neuronal tract measurements",
           "Journal of the Royal Statistical Society. Series C: Applied Statistics"
          ],
          [
           "Mixed effect Poisson log-linear models for clinical and epidemiological sleep hypnogram data",
           "Statistics in Medicine"
          ],
          [
           "Computerised lung sound analysis to improve the specificity of paediatric pneumonia diagnosis in resource-poor settings: Protocol and methods for an observational study",
           "BMJ Open"
          ],
          [
           "Distribution of cell-free and cell-associated HIV surrogates in the female genital tract after simulated vaginal intercourse",
           "Journal of Infectious Diseases"
          ],
          [
           "Reply",
           "Annals of Neurology"
          ],
          [
           "Sleep-disordered breathing and caffeine consumption: Results of a community-based study",
           "Chest"
          ],
          [
           "Motor \"dexterity\": Evidence that left hemisphere lateralization of motor circuit connectivity is associated with better motor performance in children",
           "Cerebral Cortex"
          ],
          [
           "Distribution of cell-free and cell-associated HIV surrogates in the colon after simulated receptive anal intercourse in men who have sex with men",
           "Journal of Acquired Immune Deficiency Syndromes"
          ],
          [
           "Genetic risk factors for longitudinal changes in structural MRI in former organolead workers",
           "Journal of Aging Research"
          ],
          [
           "Multilevel functional principal component analysis for high-dimensional data",
           "Journal of Computational and Graphical Statistics"
          ],
          [
           "Penalized functional regression",
           "Journal of Computational and Graphical Statistics"
          ],
          [
           "Correlating subjective and objective sleepiness: Revisiting the association using survival analysis",
           "Sleep"
          ],
          [
           "MELD exceptions and rates of waiting list outcomes",
           "American Journal of Transplantation"
          ],
          [
           "Rejoinder",
           "Journal of the American Statistical Association"
          ],
          [
           "Population value decomposition, a framework for the analysis of image populations",
           "Journal of the American Statistical Association"
          ],
          [
           "Assessment of bias for MRI diffusion tensor imaging using SIMEX",
           "Lecture Notes in Computer Science (including subseries Lecture Notes in Artificial Intelligence and Lecture Notes in Bioinformatics)"
          ],
          [
           "Accounting for random regressors: A unified approach to multi-modality imaging",
           "Lecture Notes in Computer Science (including subseries Lecture Notes in Artificial Intelligence and Lecture Notes in Bioinformatics)"
          ],
          [
           "A Bayesian hierarchical nonlinear mixture model in the presence of artifactual outliers in a population pharmacokinetic study",
           "Journal of Pharmacokinetics and Pharmacodynamics"
          ],
          [
           "Functional principal component model for high-dimensional brain imaging",
           "NeuroImage"
          ],
          [
           "Population-wide principal component-based quantification of blood-brain-barrier dynamics in multiple sclerosis",
           "NeuroImage"
          ],
          [
           "Assessing bioequivalence of generic antiepilepsy drugs",
           "Annals of Neurology"
          ],
          [
           "Minimal detection bias in the inverse association between statin drug use and advanced prostate cancer risk: A simulation study",
           "Cancer Epidemiology"
          ],
          [
           "Penalized functional regression analysis of white-matter tract profiles in multiple sclerosis",
           "NeuroImage"
          ],
          [
           "An MCMC-based analysis of a multilevel model for functional MRI data",
           "Handbook of Markov Chain Monte Carlo"
          ],
          [
           "Parallel Bayesian MCMC imputation for multiple distributed lag models: A case study in environmental epidemiology",
           "Handbook of Markov Chain Monte Carlo"
          ],
          [
           "Nonlinear tube-fitting for the analysis of anatomical and functional structures",
           "Annals of Applied Statistics"
          ],
          [
           "Comparison of proportions for composite endpoints with missing components",
           "Journal of Biopharmaceutical Statistics"
          ],
          [
           "Clinical predictors of conduction disease progression in type I myotonic muscular dystrophy",
           "PACE - Pacing and Clinical Electrophysiology"
          ],
          [
           "Longitudinal changes in diffusion tensor-based quantitative MRI in multiple sclerosis",
           "Neurology"
          ],
          [
           "A prospective evaluation of a protocol for magnetic resonance imaging of patients with implanted cardiac devices",
           "Annals of Internal Medicine"
          ],
          [
           "On the relationship between seed-based and ICA-based measures of functional connectivity",
           "Magnetic Resonance in Medicine"
          ],
          [
           "Quantifying auditory event-related responses in multichannel human intracranial recordings",
           "Frontiers in Computational Neuroscience"
          ],
          [
           "Utility of sleep stage transitions in assessing sleep continuity",
           "Sleep"
          ],
          [
           "A novel approach to prediction of mild obstructive sleep disordered breathing in a population-based sample: The sleep heart health study",
           "Sleep"
          ],
          [
           "Lasagna plots: A saucy alternative to spaghetti plots",
           "Epidemiology"
          ],
          [
           "Redefining CpG islands using hidden Markov models",
           "Biostatistics"
          ],
          [
           "Two-stage decompositions for the analysis of functional connectivity for fMRI with application to Alzheimer's disease risk",
           "NeuroImage"
          ],
          [
           "Perioperative mortality and long-term survival following live kidney donation",
           "JAMA - Journal of the American Medical Association"
          ],
          [
           "MRI of the corpus callosum in multiple sclerosis: Association with disability",
           "Multiple Sclerosis"
          ],
          [
           "Longitudinal functional principal component analysis",
           "Electronic Journal of Statistics"
          ],
          [
           "QRS prolongation in myotonic muscular dystrophy and diffuse fibrosis on cardiac magnetic resonance",
           "Magnetic Resonance in Medicine"
          ],
          [
           "Evaluation of cumulative lead dose and longitudinal changes in structural magnetic resonance imaging in former organolead workers",
           "Journal of Occupational and Environmental Medicine"
          ],
          [
           "From the authors",
           "American Journal of Respiratory and Critical Care Medicine"
          ],
          [
           "Intelligence and medial temporal lobe function in older adults: A functional MR imaging-based investigation",
           "American Journal of Neuroradiology"
          ],
          [
           "Likelihood Estimation of Conjugacy Relationships in Linear Models with Applications to High-Throughput Genomics",
           "International Journal of Biostatistics"
          ],
          [
           "Sleep-disordered breathing and mortality: A prospective cohort study",
           "PLoS Medicine"
          ],
          [
           "Damage to the optic radiation in multiple sclerosis is associated with retinal injury and visual disability",
           "Archives of Neurology"
          ],
          [
           "Adaptive control of the false discovery rate in voxel-based morphometry",
           "Human Brain Mapping"
          ],
          [
           "Prospective study of sleep-disordered breathing and hypertension: The sleep heart health study",
           "American Journal of Respiratory and Critical Care Medicine"
          ],
          [
           "Nonparametric signal extraction and measurement error in the analysis of electroencephalographic activity during sleep",
           "Journal of the American Statistical Association"
          ],
          [
           "Easy multiplicity control in equivalence testing using two one-sided tests",
           "American Statistician"
          ],
          [
           "Modified test statistics by inter-voxel variance shrinkage with an application to f MRI",
           "Biostatistics"
          ],
          [
           "Multilevel functional principal component analysis",
           "Annals of Applied Statistics"
          ],
          [
           "Decreased connectivity and cerebellar activity in autism during motor task performance",
           "Brain"
          ],
          [
           "A survey of the likelihood approach to bioequivalence trials",
           "Statistics in Medicine"
          ],
          [
           "A case study in pharmacologic colon imaging using principal curves in single-photon emission computed tomography",
           "Journal of the American Statistical Association"
          ],
          [
           "Toward realistic and practical ideal observer (10) estimation for the optimization of medical imaging systems",
           "IEEE Transactions on Medical Imaging"
          ],
          [
           "Characterizing sleep structure using the hypnogram",
           "Journal of Clinical Sleep Medicine"
          ],
          [
           "Differential brain activation in anorexia nervosa to Fat and Thin words during a Stroop task",
           "NeuroReport"
          ],
          [
           "Fasting glycemia in sleep disordered breathing: Lowering the threshold on oxyhemoglobin desaturation",
           "Sleep"
          ],
          [
           "A mechanisfic latent variable model for estimating drug concentrations in the male genital tract: A case study in drug kinetics",
           "Statistics in Medicine"
          ],
          [
           "Effect of semen sampling frequency on seminal antiretroviral drug concentration",
           "Clinical Pharmacology and Therapeutics"
          ],
          [
           "Accounting for within-patient correlation in assessing relative sensitivity of an adjunctive diagnostic test: Application to lung cancer",
           "Statistics in Medicine"
          ],
          [
           "Are brain volumes based on magnetic resonance imaging mediators of the associations of cumulative lead dose with cognitive function?",
           "American Journal of Epidemiology"
          ],
          [
           "Dysregulation of glutamate carboxypeptidase II in psychiatric disease",
           "Schizophrenia Research"
          ],
          [
           "Noninvasive quantitation of drug concentration in prostate and seminal vesicles: Improvement and validation with desipramine and aspirin",
           "Journal of Clinical Pharmacology"
          ],
          [
           "fMRI of intrasubject variability in ADHD: Anomalous premotor activity with prefrontal compensation",
           "Journal of the American Academy of Child and Adolescent Psychiatry"
          ],
          [
           "Power spectral analysis of EEG activity during sleep in cigarette smokers",
           "Chest"
          ],
          [
           "A Bayesian hierarchical framework for spatial modeling of fMRI data",
           "NeuroImage"
          ],
          [
           "Optimal sampling times in bioequivalence studies using a simulated annealing algorithm",
           "Statistics and Computing"
          ],
          [
           "Markov chain Monte Carlo (MCMC) based ideal observer estimation using a parameterized phantom and a pre-calculated dataset",
           "Progress in Biomedical Optics and Imaging - Proceedings of SPIE"
          ],
          [
           "On the potential for illogic with logically defined outcomes",
           "Biostatistics"
          ],
          [
           "Relations of brain volumes with cognitive function in males 45 years and older with past lead exposure",
           "NeuroImage"
          ],
          [
           "Flexible random intercept models for binary outcomes using mixtures of normals",
           "Computational Statistics and Data Analysis"
          ],
          [
           "A new method to estimate quantitatively seminal vesicle and prostate gland contributions to ejaculate",
           "British Journal of Clinical Pharmacology"
          ],
          [
           "Fixed-width output analysis for Markov chain Monte Carlo",
           "Journal of the American Statistical Association"
          ],
          [
           "Cigarette smoking and nocturnal sleep architecture",
           "American Journal of Epidemiology"
          ],
          [
           "Quantitative assessment of seminal vesicle and prostate drug concentrations by use of a noninvasive method",
           "Clinical Pharmacology and Therapeutics"
          ],
          [
           "A user-friendly introduction to link-probit-normal models",
           "American Statistician"
          ],
          [
           "Familial risk for Alzheimer's disease alters fMRI activation patterns",
           "Brain"
          ],
          [
           "Exact hypothesis tests for log-linear models with exactLoglinTest",
           "Journal of Statistical Software"
          ],
          [
           "Ascent-based Monte Carlo expectation-maximization",
           "Journal of the Royal Statistical Society. Series B: Statistical Methodology"
          ],
          [
           "Examples in which misspecification of a random effects distribution reduces efficiency, and possible remedies",
           "Computational Statistics and Data Analysis"
          ],
          [
           "Monte Carlo conditional inference for log-linear and logistic models: A survey of current methodology",
           "Statistical Methods in Medical Research"
          ],
          [
           "Simulation-based P values: Response to north et al. [1]",
           "American Journal of Human Genetics"
          ],
          [
           "Empirical supremum rejection sampling",
           "Biometrika"
          ],
          [
           "Unequal sampling for Monte Carlo EM algorithms",
           "Computational Statistics and Data Analysis"
          ],
          [
           "Measures of relative model fit",
           "Computational Statistics and Data Analysis"
          ],
          [
           "Multinomial logit random effects models",
           "Statistical Modeling"
          ],
          [
           "A markov chain monte carlo algorithm for approximating exact conditional probabilities",
           "Journal of Computational and Graphical Statistics"
          ],
          [
           "Simple and effective confidence intervals for proportions and differences of proportions result from adding two successes and two failures",
           "American Statistician"
          ],
          [
           "Random-effects modeling of categorical response data",
           "Sociological Methodology"
          ]
         ],
         "fillcolor": "rgba(255,255,255,0)",
         "hoveron": "points",
         "hovertemplate": "Publication Year=%{x}<br>total=%{y}<br>Document Title=%{customdata[0]}<br>Journal Title=%{customdata[1]}<extra></extra>",
         "legendgroup": "",
         "line": {
          "color": "rgba(255,255,255,0)"
         },
         "marker": {
          "color": "#636efa"
         },
         "name": "",
         "offsetgroup": "",
         "orientation": "v",
         "pointpos": 0,
         "showlegend": false,
         "type": "box",
         "x": [
          2021,
          2021,
          2021,
          2021,
          2021,
          2021,
          2021,
          2021,
          2021,
          2021,
          2021,
          2021,
          2021,
          2021,
          2021,
          2021,
          2021,
          2021,
          2021,
          2020,
          2020,
          2020,
          2020,
          2020,
          2020,
          2020,
          2020,
          2020,
          2020,
          2020,
          2020,
          2020,
          2019,
          2019,
          2019,
          2019,
          2019,
          2019,
          2019,
          2019,
          2018,
          2018,
          2018,
          2018,
          2017,
          2017,
          2017,
          2017,
          2017,
          2017,
          2017,
          2017,
          2017,
          2017,
          2017,
          2017,
          2016,
          2016,
          2016,
          2016,
          2016,
          2016,
          2016,
          2016,
          2016,
          2016,
          2016,
          2016,
          2016,
          2015,
          2015,
          2015,
          2015,
          2015,
          2015,
          2015,
          2015,
          2015,
          2015,
          2015,
          2015,
          2015,
          2015,
          2015,
          2015,
          2015,
          2015,
          2015,
          2014,
          2014,
          2014,
          2014,
          2014,
          2014,
          2014,
          2014,
          2014,
          2014,
          2014,
          2014,
          2014,
          2014,
          2014,
          2013,
          2013,
          2013,
          2013,
          2013,
          2013,
          2013,
          2013,
          2013,
          2013,
          2013,
          2013,
          2013,
          2013,
          2013,
          2013,
          2013,
          2013,
          2012,
          2012,
          2012,
          2012,
          2012,
          2012,
          2012,
          2012,
          2012,
          2012,
          2012,
          2012,
          2012,
          2012,
          2012,
          2012,
          2012,
          2012,
          2012,
          2012,
          2012,
          2012,
          2012,
          2011,
          2011,
          2011,
          2011,
          2011,
          2011,
          2011,
          2011,
          2011,
          2011,
          2011,
          2011,
          2011,
          2011,
          2011,
          2011,
          2011,
          2011,
          2011,
          2011,
          2011,
          2011,
          2011,
          2010,
          2010,
          2010,
          2010,
          2010,
          2010,
          2010,
          2010,
          2010,
          2010,
          2010,
          2009,
          2009,
          2009,
          2009,
          2009,
          2009,
          2009,
          2009,
          2009,
          2009,
          2009,
          2009,
          2008,
          2008,
          2008,
          2008,
          2008,
          2008,
          2008,
          2008,
          2008,
          2008,
          2008,
          2008,
          2008,
          2008,
          2008,
          2007,
          2007,
          2007,
          2007,
          2007,
          2007,
          2006,
          2006,
          2006,
          2006,
          2006,
          2006,
          2005,
          2004,
          2003,
          2003,
          2002,
          2002,
          2002,
          2001,
          2001,
          2000,
          2000
         ],
         "x0": " ",
         "xaxis": "x",
         "y": [
          1,
          0,
          0,
          1,
          0,
          0,
          0,
          0,
          3,
          2,
          1,
          0,
          1,
          3,
          0,
          1,
          0,
          4,
          0,
          5,
          0,
          0,
          5,
          4,
          3,
          0,
          7,
          10,
          10,
          0,
          0,
          12,
          16,
          2,
          52,
          11,
          19,
          2,
          3,
          17,
          14,
          30,
          20,
          19,
          9,
          4,
          87,
          11,
          5,
          4,
          14,
          4,
          4,
          11,
          9,
          89,
          3,
          31,
          1,
          40,
          33,
          8,
          12,
          67,
          37,
          19,
          1,
          5,
          1,
          18,
          15,
          7,
          66,
          101,
          1,
          25,
          0,
          82,
          86,
          139,
          19,
          12,
          9,
          24,
          56,
          3,
          0,
          42,
          18,
          21,
          195,
          28,
          188,
          9,
          4,
          12,
          104,
          22,
          4,
          62,
          6,
          16,
          62,
          14,
          6,
          53,
          36,
          37,
          0,
          1,
          7,
          22,
          8,
          4,
          28,
          10,
          1,
          4,
          36,
          17,
          87,
          21,
          57,
          24,
          20,
          10,
          130,
          19,
          3,
          30,
          49,
          13,
          4,
          4,
          83,
          0,
          64,
          4,
          27,
          26,
          0,
          12,
          46,
          29,
          1,
          38,
          138,
          38,
          149,
          0,
          36,
          4,
          0,
          8,
          36,
          32,
          69,
          10,
          27,
          0,
          6,
          9,
          2,
          26,
          61,
          230,
          142,
          31,
          43,
          28,
          60,
          114,
          25,
          518,
          112,
          96,
          14,
          12,
          0,
          4,
          0,
          913,
          120,
          14,
          267,
          22,
          28,
          8,
          185,
          297,
          10,
          15,
          29,
          40,
          45,
          56,
          0,
          9,
          0,
          21,
          35,
          2,
          109,
          83,
          77,
          3,
          3,
          3,
          35,
          25,
          17,
          182,
          221,
          18,
          10,
          126,
          3,
          71,
          109,
          10,
          8,
          11,
          4,
          10,
          117,
          16,
          331,
          116
         ],
         "y0": " ",
         "yaxis": "y"
        }
       ],
       "layout": {
        "autosize": true,
        "boxmode": "group",
        "legend": {
         "tracegroupgap": 0
        },
        "margin": {
         "t": 60
        },
        "paper_bgcolor": "rgba(0, 0, 0, 0)",
        "plot_bgcolor": "rgba(0, 0, 0, 0)",
        "template": {
         "data": {
          "bar": [
           {
            "error_x": {
             "color": "#2a3f5f"
            },
            "error_y": {
             "color": "#2a3f5f"
            },
            "marker": {
             "line": {
              "color": "#E5ECF6",
              "width": 0.5
             },
             "pattern": {
              "fillmode": "overlay",
              "size": 10,
              "solidity": 0.2
             }
            },
            "type": "bar"
           }
          ],
          "barpolar": [
           {
            "marker": {
             "line": {
              "color": "#E5ECF6",
              "width": 0.5
             },
             "pattern": {
              "fillmode": "overlay",
              "size": 10,
              "solidity": 0.2
             }
            },
            "type": "barpolar"
           }
          ],
          "carpet": [
           {
            "aaxis": {
             "endlinecolor": "#2a3f5f",
             "gridcolor": "white",
             "linecolor": "white",
             "minorgridcolor": "white",
             "startlinecolor": "#2a3f5f"
            },
            "baxis": {
             "endlinecolor": "#2a3f5f",
             "gridcolor": "white",
             "linecolor": "white",
             "minorgridcolor": "white",
             "startlinecolor": "#2a3f5f"
            },
            "type": "carpet"
           }
          ],
          "choropleth": [
           {
            "colorbar": {
             "outlinewidth": 0,
             "ticks": ""
            },
            "type": "choropleth"
           }
          ],
          "contour": [
           {
            "colorbar": {
             "outlinewidth": 0,
             "ticks": ""
            },
            "colorscale": [
             [
              0,
              "#0d0887"
             ],
             [
              0.1111111111111111,
              "#46039f"
             ],
             [
              0.2222222222222222,
              "#7201a8"
             ],
             [
              0.3333333333333333,
              "#9c179e"
             ],
             [
              0.4444444444444444,
              "#bd3786"
             ],
             [
              0.5555555555555556,
              "#d8576b"
             ],
             [
              0.6666666666666666,
              "#ed7953"
             ],
             [
              0.7777777777777778,
              "#fb9f3a"
             ],
             [
              0.8888888888888888,
              "#fdca26"
             ],
             [
              1,
              "#f0f921"
             ]
            ],
            "type": "contour"
           }
          ],
          "contourcarpet": [
           {
            "colorbar": {
             "outlinewidth": 0,
             "ticks": ""
            },
            "type": "contourcarpet"
           }
          ],
          "heatmap": [
           {
            "colorbar": {
             "outlinewidth": 0,
             "ticks": ""
            },
            "colorscale": [
             [
              0,
              "#0d0887"
             ],
             [
              0.1111111111111111,
              "#46039f"
             ],
             [
              0.2222222222222222,
              "#7201a8"
             ],
             [
              0.3333333333333333,
              "#9c179e"
             ],
             [
              0.4444444444444444,
              "#bd3786"
             ],
             [
              0.5555555555555556,
              "#d8576b"
             ],
             [
              0.6666666666666666,
              "#ed7953"
             ],
             [
              0.7777777777777778,
              "#fb9f3a"
             ],
             [
              0.8888888888888888,
              "#fdca26"
             ],
             [
              1,
              "#f0f921"
             ]
            ],
            "type": "heatmap"
           }
          ],
          "heatmapgl": [
           {
            "colorbar": {
             "outlinewidth": 0,
             "ticks": ""
            },
            "colorscale": [
             [
              0,
              "#0d0887"
             ],
             [
              0.1111111111111111,
              "#46039f"
             ],
             [
              0.2222222222222222,
              "#7201a8"
             ],
             [
              0.3333333333333333,
              "#9c179e"
             ],
             [
              0.4444444444444444,
              "#bd3786"
             ],
             [
              0.5555555555555556,
              "#d8576b"
             ],
             [
              0.6666666666666666,
              "#ed7953"
             ],
             [
              0.7777777777777778,
              "#fb9f3a"
             ],
             [
              0.8888888888888888,
              "#fdca26"
             ],
             [
              1,
              "#f0f921"
             ]
            ],
            "type": "heatmapgl"
           }
          ],
          "histogram": [
           {
            "marker": {
             "pattern": {
              "fillmode": "overlay",
              "size": 10,
              "solidity": 0.2
             }
            },
            "type": "histogram"
           }
          ],
          "histogram2d": [
           {
            "colorbar": {
             "outlinewidth": 0,
             "ticks": ""
            },
            "colorscale": [
             [
              0,
              "#0d0887"
             ],
             [
              0.1111111111111111,
              "#46039f"
             ],
             [
              0.2222222222222222,
              "#7201a8"
             ],
             [
              0.3333333333333333,
              "#9c179e"
             ],
             [
              0.4444444444444444,
              "#bd3786"
             ],
             [
              0.5555555555555556,
              "#d8576b"
             ],
             [
              0.6666666666666666,
              "#ed7953"
             ],
             [
              0.7777777777777778,
              "#fb9f3a"
             ],
             [
              0.8888888888888888,
              "#fdca26"
             ],
             [
              1,
              "#f0f921"
             ]
            ],
            "type": "histogram2d"
           }
          ],
          "histogram2dcontour": [
           {
            "colorbar": {
             "outlinewidth": 0,
             "ticks": ""
            },
            "colorscale": [
             [
              0,
              "#0d0887"
             ],
             [
              0.1111111111111111,
              "#46039f"
             ],
             [
              0.2222222222222222,
              "#7201a8"
             ],
             [
              0.3333333333333333,
              "#9c179e"
             ],
             [
              0.4444444444444444,
              "#bd3786"
             ],
             [
              0.5555555555555556,
              "#d8576b"
             ],
             [
              0.6666666666666666,
              "#ed7953"
             ],
             [
              0.7777777777777778,
              "#fb9f3a"
             ],
             [
              0.8888888888888888,
              "#fdca26"
             ],
             [
              1,
              "#f0f921"
             ]
            ],
            "type": "histogram2dcontour"
           }
          ],
          "mesh3d": [
           {
            "colorbar": {
             "outlinewidth": 0,
             "ticks": ""
            },
            "type": "mesh3d"
           }
          ],
          "parcoords": [
           {
            "line": {
             "colorbar": {
              "outlinewidth": 0,
              "ticks": ""
             }
            },
            "type": "parcoords"
           }
          ],
          "pie": [
           {
            "automargin": true,
            "type": "pie"
           }
          ],
          "scatter": [
           {
            "marker": {
             "colorbar": {
              "outlinewidth": 0,
              "ticks": ""
             }
            },
            "type": "scatter"
           }
          ],
          "scatter3d": [
           {
            "line": {
             "colorbar": {
              "outlinewidth": 0,
              "ticks": ""
             }
            },
            "marker": {
             "colorbar": {
              "outlinewidth": 0,
              "ticks": ""
             }
            },
            "type": "scatter3d"
           }
          ],
          "scattercarpet": [
           {
            "marker": {
             "colorbar": {
              "outlinewidth": 0,
              "ticks": ""
             }
            },
            "type": "scattercarpet"
           }
          ],
          "scattergeo": [
           {
            "marker": {
             "colorbar": {
              "outlinewidth": 0,
              "ticks": ""
             }
            },
            "type": "scattergeo"
           }
          ],
          "scattergl": [
           {
            "marker": {
             "colorbar": {
              "outlinewidth": 0,
              "ticks": ""
             }
            },
            "type": "scattergl"
           }
          ],
          "scattermapbox": [
           {
            "marker": {
             "colorbar": {
              "outlinewidth": 0,
              "ticks": ""
             }
            },
            "type": "scattermapbox"
           }
          ],
          "scatterpolar": [
           {
            "marker": {
             "colorbar": {
              "outlinewidth": 0,
              "ticks": ""
             }
            },
            "type": "scatterpolar"
           }
          ],
          "scatterpolargl": [
           {
            "marker": {
             "colorbar": {
              "outlinewidth": 0,
              "ticks": ""
             }
            },
            "type": "scatterpolargl"
           }
          ],
          "scatterternary": [
           {
            "marker": {
             "colorbar": {
              "outlinewidth": 0,
              "ticks": ""
             }
            },
            "type": "scatterternary"
           }
          ],
          "surface": [
           {
            "colorbar": {
             "outlinewidth": 0,
             "ticks": ""
            },
            "colorscale": [
             [
              0,
              "#0d0887"
             ],
             [
              0.1111111111111111,
              "#46039f"
             ],
             [
              0.2222222222222222,
              "#7201a8"
             ],
             [
              0.3333333333333333,
              "#9c179e"
             ],
             [
              0.4444444444444444,
              "#bd3786"
             ],
             [
              0.5555555555555556,
              "#d8576b"
             ],
             [
              0.6666666666666666,
              "#ed7953"
             ],
             [
              0.7777777777777778,
              "#fb9f3a"
             ],
             [
              0.8888888888888888,
              "#fdca26"
             ],
             [
              1,
              "#f0f921"
             ]
            ],
            "type": "surface"
           }
          ],
          "table": [
           {
            "cells": {
             "fill": {
              "color": "#EBF0F8"
             },
             "line": {
              "color": "white"
             }
            },
            "header": {
             "fill": {
              "color": "#C8D4E3"
             },
             "line": {
              "color": "white"
             }
            },
            "type": "table"
           }
          ]
         },
         "layout": {
          "annotationdefaults": {
           "arrowcolor": "#2a3f5f",
           "arrowhead": 0,
           "arrowwidth": 1
          },
          "autotypenumbers": "strict",
          "coloraxis": {
           "colorbar": {
            "outlinewidth": 0,
            "ticks": ""
           }
          },
          "colorscale": {
           "diverging": [
            [
             0,
             "#8e0152"
            ],
            [
             0.1,
             "#c51b7d"
            ],
            [
             0.2,
             "#de77ae"
            ],
            [
             0.3,
             "#f1b6da"
            ],
            [
             0.4,
             "#fde0ef"
            ],
            [
             0.5,
             "#f7f7f7"
            ],
            [
             0.6,
             "#e6f5d0"
            ],
            [
             0.7,
             "#b8e186"
            ],
            [
             0.8,
             "#7fbc41"
            ],
            [
             0.9,
             "#4d9221"
            ],
            [
             1,
             "#276419"
            ]
           ],
           "sequential": [
            [
             0,
             "#0d0887"
            ],
            [
             0.1111111111111111,
             "#46039f"
            ],
            [
             0.2222222222222222,
             "#7201a8"
            ],
            [
             0.3333333333333333,
             "#9c179e"
            ],
            [
             0.4444444444444444,
             "#bd3786"
            ],
            [
             0.5555555555555556,
             "#d8576b"
            ],
            [
             0.6666666666666666,
             "#ed7953"
            ],
            [
             0.7777777777777778,
             "#fb9f3a"
            ],
            [
             0.8888888888888888,
             "#fdca26"
            ],
            [
             1,
             "#f0f921"
            ]
           ],
           "sequentialminus": [
            [
             0,
             "#0d0887"
            ],
            [
             0.1111111111111111,
             "#46039f"
            ],
            [
             0.2222222222222222,
             "#7201a8"
            ],
            [
             0.3333333333333333,
             "#9c179e"
            ],
            [
             0.4444444444444444,
             "#bd3786"
            ],
            [
             0.5555555555555556,
             "#d8576b"
            ],
            [
             0.6666666666666666,
             "#ed7953"
            ],
            [
             0.7777777777777778,
             "#fb9f3a"
            ],
            [
             0.8888888888888888,
             "#fdca26"
            ],
            [
             1,
             "#f0f921"
            ]
           ]
          },
          "colorway": [
           "#636efa",
           "#EF553B",
           "#00cc96",
           "#ab63fa",
           "#FFA15A",
           "#19d3f3",
           "#FF6692",
           "#B6E880",
           "#FF97FF",
           "#FECB52"
          ],
          "font": {
           "color": "#2a3f5f"
          },
          "geo": {
           "bgcolor": "white",
           "lakecolor": "white",
           "landcolor": "#E5ECF6",
           "showlakes": true,
           "showland": true,
           "subunitcolor": "white"
          },
          "hoverlabel": {
           "align": "left"
          },
          "hovermode": "closest",
          "mapbox": {
           "style": "light"
          },
          "paper_bgcolor": "white",
          "plot_bgcolor": "#E5ECF6",
          "polar": {
           "angularaxis": {
            "gridcolor": "white",
            "linecolor": "white",
            "ticks": ""
           },
           "bgcolor": "#E5ECF6",
           "radialaxis": {
            "gridcolor": "white",
            "linecolor": "white",
            "ticks": ""
           }
          },
          "scene": {
           "xaxis": {
            "backgroundcolor": "#E5ECF6",
            "gridcolor": "white",
            "gridwidth": 2,
            "linecolor": "white",
            "showbackground": true,
            "ticks": "",
            "zerolinecolor": "white"
           },
           "yaxis": {
            "backgroundcolor": "#E5ECF6",
            "gridcolor": "white",
            "gridwidth": 2,
            "linecolor": "white",
            "showbackground": true,
            "ticks": "",
            "zerolinecolor": "white"
           },
           "zaxis": {
            "backgroundcolor": "#E5ECF6",
            "gridcolor": "white",
            "gridwidth": 2,
            "linecolor": "white",
            "showbackground": true,
            "ticks": "",
            "zerolinecolor": "white"
           }
          },
          "shapedefaults": {
           "line": {
            "color": "#2a3f5f"
           }
          },
          "ternary": {
           "aaxis": {
            "gridcolor": "white",
            "linecolor": "white",
            "ticks": ""
           },
           "baxis": {
            "gridcolor": "white",
            "linecolor": "white",
            "ticks": ""
           },
           "bgcolor": "#E5ECF6",
           "caxis": {
            "gridcolor": "white",
            "linecolor": "white",
            "ticks": ""
           }
          },
          "title": {
           "x": 0.05
          },
          "xaxis": {
           "automargin": true,
           "gridcolor": "white",
           "linecolor": "white",
           "ticks": "",
           "title": {
            "standoff": 15
           },
           "zerolinecolor": "white",
           "zerolinewidth": 2
          },
          "yaxis": {
           "automargin": true,
           "gridcolor": "white",
           "linecolor": "white",
           "ticks": "",
           "title": {
            "standoff": 15
           },
           "zerolinecolor": "white",
           "zerolinewidth": 2
          }
         }
        },
        "xaxis": {
         "anchor": "y",
         "autorange": true,
         "domain": [
          0,
          1
         ],
         "range": [
          1999.5,
          2021.5
         ],
         "title": {
          "text": "Publication Year"
         },
         "type": "linear"
        },
        "yaxis": {
         "anchor": "x",
         "autorange": true,
         "domain": [
          0,
          1
         ],
         "range": [
          -50.722222222222214,
          963.7222222222222
         ],
         "title": {
          "text": "total"
         },
         "type": "linear"
        }
       }
      },
      "image/png": "[encoded data removed]",
      "text/html": [
       "<div>                            <div id=\"6da3dfe3-959b-4194-adc6-77aafabdfb5a\" class=\"plotly-graph-div\" style=\"height:525px; width:100%;\"></div>            <script type=\"text/javascript\">                require([\"plotly\"], function(Plotly) {                    window.PLOTLYENV=window.PLOTLYENV || {};                                    if (document.getElementById(\"6da3dfe3-959b-4194-adc6-77aafabdfb5a\")) {                    Plotly.newPlot(                        \"6da3dfe3-959b-4194-adc6-77aafabdfb5a\",                        [{\"alignmentgroup\":\"True\",\"boxpoints\":\"all\",\"customdata\":[[\"Identification of the somatomotor network from language task-based fMRI compared with resting-state fMRI in patients with brain lesions\",\"Radiology\"],[\"Quantitative EEG improves prediction of Sturge-Weber syndrome in infants with port-wine birthmark\",\"Clinical Neurophysiology\"],[\"Eliminating accidental deviations to minimize generalization error and maximize replicability: Applications in connectomics and genomics\",\"PLoS Computational Biology\"],[\"Multimodal neuroimaging data integration and pathway analysis\",\"Biometrics\"],[\"Long-term kidney function and survival in recipients of allografts from living kidney donors with hypertension: a national cohort study\",\"Transplant International\"],[\"Default mode network connectivity and cognition in the aging brain: the effects of age, sex, and APOE genotype.\",\"Neurobiology of Aging\"],[\"Ten Rules for Conducting Retrospective Pharmacoepidemiological Analyses: Example COVID-19 Study\",\"Frontiers in Pharmacology\"],[\"Corrigendum to: Neuroconductor: an R platform for medical imaging analysis\",\"Biostatistics\"],[\"Covariate Assisted Principal regression for covariance matrix outcomes\",\"Biostatistics\"],[\"Alpha-1 adrenergic receptor antagonists to prevent hyperinflammation and death from lower respiratory tract infection\",\"eLife\"],[\"Examining the Safety, Pharmacokinetics, and Pharmacodynamics of a Rectally Administered IQP-0528 Gel for HIV Pre-Exposure Prophylaxis: A First-In-Human Study\",\"AIDS Research and Human Retroviruses\"],[\"The Effect of Age and Competition Level on Subtle Motor Performance in Adolescents Medically Cleared Postconcussion: Preliminary Findings\",\"American Journal of Physical Medicine and Rehabilitation\"],[\"On statistical tests of functional connectome fingerprinting\",\"Canadian Journal of Statistics\"],[\"Multimodal MRI assessment for first episode psychosis: A major change in the thalamus and an efficient stratification of a subgroup\",\"Human Brain Mapping\"],[\"Principal regression for high dimensional covariance matrices\",\"Electronic Journal of Statistics\"],[\"Neural regions underlying object and action naming: complementary evidence from acute stroke and primary progressive aphasia\",\"Aphasiology\"],[\"Phase-locking of resting-state brain networks with the gastric basal electrical rhythm\",\"PLoS ONE\"],[\"White Matter Integrity Predicts Electrical Stimulation (tDCS) and Language Therapy Effects in Primary Progressive Aphasia\",\"Neurorehabilitation and Neural Repair\"],[\"A whole-brain modeling approach to identify individual and group variations in functional connectivity\",\"Brain and Behavior\"],[\"Are Women Disadvantaged in Academic Radiology?\",\"Academic Radiology\"],[\"Rxnat: An Open-Source R Package for XNAT-Based Repositories\",\"Frontiers in Neuroinformatics\"],[\"Developmental score of the infant brain: characterizing diffusion MRI in term- and preterm-born infants\",\"Brain Structure and Function\"],[\"Machine learning to predict transplant outcomes: helpful or hype? A national cohort study\",\"Transplant International\"],[\"Template Independent Component Analysis: Targeted and Reliable Estimation of Subject-level Brain Networks Using Big Data Population Priors\",\"Journal of the American Statistical Association\"],[\"Learning of skilled movements via imitation in ASD\",\"Autism Research\"],[\"Bayesian inference of a directional brain network model for intracranial EEG data\",\"Computational Statistics and Data Analysis\"],[\"Cognitive and language performance predicts effects of spelling intervention and tDCS in Primary Progressive Aphasia\",\"Cortex\"],[\"Sparse principal component based high-dimensional mediation analysis\",\"Computational Statistics and Data Analysis\"],[\"The Democratization of Data Science Education\",\"American Statistician\"],[\"Semiparametric partial common principal component analysis for covariance matrices\",\"Biometrics\"],[\"SpineCloud: Image analytics for predictive modeling of spine surgery outcomes\",\"Proceedings of SPIE - The International Society for Optical Engineering\"],[\"Brain volumes as predictors of tDCS effects in primary progressive aphasia\",\"Brain and Language\"],[\"Using deep Siamese neural networks for detection of brain asymmetries associated with Alzheimer's Disease and Mild Cognitive Impairment\",\"Magnetic Resonance Imaging\"],[\"Extended multimodal whole-brain anatomical covariance analysis: detection of disrupted correlation networks related to amyloid deposition\",\"Heliyon\"],[\"Modular preprocessing pipelines can reintroduce artifacts into fMRI data\",\"Human Brain Mapping\"],[\"Improved state change estimation in dynamic functional connectivity using hidden semi-Markov models\",\"NeuroImage\"],[\"Neuroconductor: An R platform for medical imaging analysis\",\"Biostatistics\"],[\"Erratum: \\u201cThe effect of tDCS on functional connectivity in primary progressive aphasia\\u201d(NeuroImage: Clinical (2018)19 (703\\u2013715), (S2213158218301682), (10.1016/j.nicl.2018.05.023))\",\"NeuroImage: Clinical\"],[\"Bias in neuroradiology peer review: Impact of a \\u201cding\\u201d on \\u201cdinging\\u201d others\",\"American Journal of Neuroradiology\"],[\"Mixed effect machine learning: A framework for predicting longitudinal change in hemoglobin A1c\",\"Journal of Biomedical Informatics\"],[\"Improved estimation of subject-level functional connectivity using full and partial correlation with empirical Bayes shrinkage\",\"NeuroImage\"],[\"High-dimensional multivariate mediation with application to neuroimaging data\",\"Biostatistics\"],[\"Early functional connectome integrity and 1-year recovery in comatose survivors of cardiac arrest\",\"Radiology\"],[\"The effect of tDCS on functional connectivity in primary progressive aphasia\",\"NeuroImage: Clinical\"],[\"Dynamic Functional Connectivity States between the Dorsal and Ventral Sensorimotor Networks Revealed by Dynamic Conditional Correlation Analysis of Resting-State Functional Magnetic Resonance Imaging\",\"Brain Connectivity\"],[\"Big Data and Neuroimaging\",\"Statistics in Biosciences\"],[\"Comparing test-retest reliability of dynamic functional connectivity methods\",\"NeuroImage\"],[\"PCA leverage: Outlier detection for high-dimensional functional magnetic resonance imaging data\",\"Biostatistics\"],[\"Bayesian inference of high-dimensional, cluster-structured ordinary differential equation models with applications to brain connectivity studies\",\"Annals of Applied Statistics\"],[\"Decoupling of reaction time-related default mode network activity with cognitive demand\",\"Brain Imaging and Behavior\"],[\"Presurgical brain mapping of the ventral somatomotor network in patients with brain tumors using resting-state fMRI\",\"American Journal of Neuroradiology\"],[\"Parallel group independent component analysis for massive fMRI data sets\",\"PLoS ONE\"],[\"An M-estimator for reduced-rank system identification\",\"Pattern Recognition Letters\"],[\"Trajectories of Glycemic Change in a National Cohort of Adults with Previously Controlled Type 2 Diabetes\",\"Medical Care\"],[\"Practical no-gold-standard evaluation framework for quantitative imaging methods: Application to lesion segmentation in positron emission tomography\",\"Journal of Medical Imaging\"],[\"Imaging of glial cell activation and white matter integrity in brains of active and recently retired national football league players\",\"JAMA Neurology\"],[\"Sparse median graphs estimation in a high-dimensional semiparametric model\",\"Annals of Applied Statistics\"],[\"Lesion heterogeneity on high-field susceptibility MRI Is associated with multiple sclerosis severity\",\"American Journal of Neuroradiology\"],[\"Parameterization of White Matter Manifold-Like Structures Using Principal Surfaces\",\"Journal of the American Statistical Association\"],[\"Ten Simple Rules for Effective Statistical Practice\",\"PLoS Computational Biology\"],[\"Factors affecting characterization and localization of interindividual differences in functional connectivity using MRI\",\"Human Brain Mapping\"],[\"Fast, Exact Bootstrap Principal Component Analysis for p &gt; 1 Million\",\"Journal of the American Statistical Association\"],[\"A no-gold-standard technique for objective assessment of quantitative nuclear-medicine imaging methods\",\"Physics in Medicine and Biology\"],[\"Presurgical brain mapping of the language network in patients with brain tumors using resting-state fMRI: Comparison with task fMRI\",\"Human Brain Mapping\"],[\"Joint estimation of multiple graphical models from high dimensional time series\",\"Journal of the Royal Statistical Society. Series B: Statistical Methodology\"],[\"A Multicenter Longitudinal Study of Hospital-Onset Bacteremia: Time for a New Quality Outcome Measure?\",\"Infection Control and Hospital Epidemiology\"],[\"Erratum: A Multicenter Longitudinal Study of Hospital-Onset Bacteremia: Time for a New Quality Outcome Measure? (Infection Control and Hospital Epidemiology 2015) doi:10.1017/ice.2015.261\",\"Infection Control and Hospital Epidemiology\"],[\"Editorial: Recent advances and challenges on Big Data analysis in neuroimaging\",\"Frontiers in Neuroscience\"],[\"A parcellation based nonparametric algorithm for independent component analysis with application to fMRI data\",\"Frontiers in Neuroscience\"],[\"Neural Correlates of Visuomotor Learning in Autism\",\"Journal of Child Neurology\"],[\"A Phase 1 Randomized, Blinded Comparison of the Pharmacokinetics and Colonic Distribution of Three Candidate Rectal Microbicide Formulations of Tenofovir 1% Gel with Simulated Unprotected Sex (CHARM-02)\",\"AIDS Research and Human Retroviruses\"],[\"Simultaneous Evaluation of Safety, Acceptability, Pericoital Kinetics, and Ex Vivo Pharmacodynamics Comparing Four Rectal Microbicide Vehicle Candidates\",\"AIDS Research and Human Retroviruses\"],[\"Reproducibility and temporal structure in weekly resting-state fMRI over a period of 3.5 years\",\"PLoS ONE\"],[\"Association of cortical lesion burden on 7-T magnetic resonance imaging with cognition and disability in multiple sclerosis\",\"JAMA Neurology\"],[\"Estimating a graphical intra-class correlation coefficient (GICC) using multivariate probit-linear mixed models\",\"Computational Statistics and Data Analysis\"],[\"Improving reliability of subject-level resting-state fMRI parcellation with shrinkage estimators\",\"NeuroImage\"],[\"Evaluating model misspecification in independent component analysis\",\"Journal of Statistical Computation and Simulation\"],[\"Resting brain activity in disorders of consciousness: A systematic review and meta-analysis\",\"Neurology\"],[\"Evidence for Specificity of Motor Impairments in Catching and Balance in Children with Autism\",\"Journal of Autism and Developmental Disorders\"],[\"Neuroinflammation and brain atrophy in former NFL players: An in vivo multimodal imaging pilot study\",\"Neurobiology of Disease\"],[\"A Dynamic Directional Model for Effective Brain Connectivity Using Electrocorticographic (ECoG) Time Series\",\"Journal of the American Statistical Association\"],[\"Robust estimation of transition matrices in high dimensional heavy-tailed vector autoregressive processes\",\"32nd International Conference on Machine Learning, ICML 2015\"],[\"Robust portfolio optimization\",\"Advances in Neural Information Processing Systems\"],[\"Motor overflow in children with attention-deficit/hyperactivity disorder is associated with decreased extent of neural activation in the motor cortex\",\"Psychiatry Research - Neuroimaging\"],[\"Fluoxetine maintains a state of heightened responsiveness to motor training early after stroke in a mouse model\",\"Stroke\"],[\"Objective evaluation of reconstruction methods for quantitative SPECT imaging in the absence of ground truth\",\"Progress in Biomedical Optics and Imaging - Proceedings of SPIE\"],[\"On tests of activation map dimensionality for fMRI-based studies of learning\",\"Frontiers in Neuroscience\"],[\"Connectivity supporting attention in children with attention deficit hyperactivity disorder\",\"NeuroImage: Clinical\"],[\"Longitudinal high-dimensional principal components analysis with application to diffusion tensor imaging of multiple sclerosis\",\"Annals of Applied Statistics\"],[\"Shrinkage prediction of seed-voxel brain connectivity using resting state fMRI\",\"NeuroImage\"],[\"Evaluating dynamic bivariate correlations in resting-state fMRI: A comparison study and a new approach\",\"NeuroImage\"],[\"The neural correlates of learned motor acuity\",\"Journal of Neurophysiology\"],[\"Reduction of motion-related artifacts in resting state fMRI using aCompCor\",\"NeuroImage\"],[\"Variations in EEG discharges predict ADHD severity within individual Smith-Lemli-Opitz patients\",\"Neurology\"],[\"Analytic programming with fMRI data: A quick-start guide for statisticians using R\",\"PLoS ONE\"],[\"Successful implementation of a unit-based quality nurse to reduce central line-associated bloodstream infections\",\"American Journal of Infection Control\"],[\"Disruption of functional organization within the primary motor cortex in children with autism\",\"Human Brain Mapping\"],[\"Spatial Bayesian variable selection models on functional magnetic resonance imaging time-series data\",\"Bayesian Analysis\"],[\"A unifying framework for marginalised random-intercept models of correlated binary outcomes\",\"International Statistical Review\"],[\"Regional brain distribution of translocator protein using [ 11C]DPA-713 PET in individuals infected with HIV\",\"Journal of NeuroVirology\"],[\"Moneybarl: Exploiting pitcher decision-making using reinforcement learning\",\"Annals of Applied Statistics\"],[\"An evaluation of independent component analyses with an application to resting-state fMRI\",\"Biometrics\"],[\"Cross-sectional and longitudinal association of body mass index and brain volume\",\"Human Brain Mapping\"],[\"Practical marginalized multilevel models\",\"Stat\"],[\"Practical recommendations for population PK studies with sampling time errors\",\"European Journal of Clinical Pharmacology\"],[\"Quantifying the reliability of image replication studies: The image intraclass correlation coefficient (I2C2)\",\"Cognitive, Affective and Behavioral Neuroscience\"],[\"Isoosmolar Enemas Demonstrate Preferential Gastrointestinal Distribution, Safety, and Acceptability Compared with Hyperosmolar and Hypoosmolar Enemas as a Potential Delivery Vehicle for Rectal Microbicides\",\"AIDS Research and Human Retroviruses\"],[\"Ironing out the statistical wrinkles in \\\"ten ironic rules\\\"\",\"NeuroImage\"],[\"Information criteria for dynamic contrast-enhanced magnetic resonance imaging\",\"Proceedings - 2013 3rd International Workshop on Pattern Recognition in Neuroimaging, PRNI 2013\"],[\"Clustering of high dimensional longitudinal imaging data\",\"Proceedings - 2013 3rd International Workshop on Pattern Recognition in Neuroimaging, PRNI 2013\"],[\"Comparison of total hospital-acquired bloodstream infections to central line-associated bloodstream infections and implications for outcome measures in infection control\",\"Infection Control and Hospital Epidemiology\"],[\"Combining hidden Markov models for comparing the dynamics of multiple sleep electroencephalograms\",\"Statistics in Medicine\"],[\"Likelihood-based population independent component analysis\",\"Biostatistics\"],[\"Correction to \\\"Easy Multiplicity Control in Equivalence Testing Using Two One-Sided Tests\\\"\",\"American Statistician\"],[\"Axial 3D gradient-echo imaging for improved multiple sclerosis lesion detection in the cervical spinal cord at 3T\",\"Neuroradiology\"],[\"Assessment of bias in experimentally measured diffusion tensor imaging parameters using SIMEX\",\"Magnetic Resonance in Medicine\"],[\"Multilevel functional data analysis\",\"The SAGE Handbook of Multilevel Modeling\"],[\"A Decision-Theory Approach to Interpretable Set Analysis for High-Dimensional Data\",\"Biometrics\"],[\"Effects of working memory demand on neural mechanisms of motor response selection and control\",\"Journal of Cognitive Neuroscience\"],[\"Reliability of early cortical auditory gamma-band responses\",\"Clinical Neurophysiology\"],[\"Developmental changes in within- and between-network connectivity between late childhood and adulthood\",\"Neuropsychologia\"],[\"Movelets: A dictionary of movement\",\"Electronic Journal of Statistics\"],[\"Myocardial structural associations with local electrograms: A study of postinfarct ventricular tachycardia pathophysiology and magnetic resonance-based noninvasive mapping\",\"Circulation: Arrhythmia and Electrophysiology\"],[\"Total white matter hyperintensity volume in bipolar disorder patients and their healthy relatives\",\"Bipolar Disorders\"],[\"Quantification of the spatial distribution of rectally applied surrogates for microbicide and semen in colon with SPECT and magnetic resonance imaging\",\"British Journal of Clinical Pharmacology\"],[\"Analysis of Group ICA-Based Connectivity Measures from fMRI: Application to Alzheimer's Disease\",\"PLoS ONE\"],[\"A computational neurodegenerative disease progression score: Method and results with the Alzheimer's disease neuroimaging initiative cohort\",\"NeuroImage\"],[\"Association of social engagement with brain volumes assessed by structural MRI\",\"Journal of Aging Research\"],[\"Biological parametric mapping accounting for random regressors with regression calibration and model II regression\",\"NeuroImage\"],[\"Automated diagnoses of attention deficit hyperactive disorder using magnetic resonance imaging\",\"Frontiers in Systems Neuroscience\"],[\"Automated diagnoses of attention deficit hyperactive disorder using magnetic resonance imaging\",\"Frontiers in Systems Neuroscience\"],[\"Comparison of swab and sponge methodologies for identification of Acinetobacter baumannii from the hospital environment\",\"Journal of Clinical Microbiology\"],[\"Towards automatic quantitative quality control for MRI\",\"Progress in Biomedical Optics and Imaging - Proceedings of SPIE\"],[\"Pulse pileup statistics for energy sensitive photon counting detectors with pulse height analysis\",\"Progress in Biomedical Optics and Imaging - Proceedings of SPIE\"],[\"Revisiting brain atrophy and its relationship to disability in multiple sclerosis\",\"PLoS ONE\"],[\"Reply\",\"Annals of Neurology\"],[\"Longitudinal penalized functional regression for cognitive outcomes on neuronal tract measurements\",\"Journal of the Royal Statistical Society. Series C: Applied Statistics\"],[\"Mixed effect Poisson log-linear models for clinical and epidemiological sleep hypnogram data\",\"Statistics in Medicine\"],[\"Computerised lung sound analysis to improve the specificity of paediatric pneumonia diagnosis in resource-poor settings: Protocol and methods for an observational study\",\"BMJ Open\"],[\"Distribution of cell-free and cell-associated HIV surrogates in the female genital tract after simulated vaginal intercourse\",\"Journal of Infectious Diseases\"],[\"Reply\",\"Annals of Neurology\"],[\"Sleep-disordered breathing and caffeine consumption: Results of a community-based study\",\"Chest\"],[\"Motor \\\"dexterity\\\": Evidence that left hemisphere lateralization of motor circuit connectivity is associated with better motor performance in children\",\"Cerebral Cortex\"],[\"Distribution of cell-free and cell-associated HIV surrogates in the colon after simulated receptive anal intercourse in men who have sex with men\",\"Journal of Acquired Immune Deficiency Syndromes\"],[\"Genetic risk factors for longitudinal changes in structural MRI in former organolead workers\",\"Journal of Aging Research\"],[\"Multilevel functional principal component analysis for high-dimensional data\",\"Journal of Computational and Graphical Statistics\"],[\"Penalized functional regression\",\"Journal of Computational and Graphical Statistics\"],[\"Correlating subjective and objective sleepiness: Revisiting the association using survival analysis\",\"Sleep\"],[\"MELD exceptions and rates of waiting list outcomes\",\"American Journal of Transplantation\"],[\"Rejoinder\",\"Journal of the American Statistical Association\"],[\"Population value decomposition, a framework for the analysis of image populations\",\"Journal of the American Statistical Association\"],[\"Assessment of bias for MRI diffusion tensor imaging using SIMEX\",\"Lecture Notes in Computer Science (including subseries Lecture Notes in Artificial Intelligence and Lecture Notes in Bioinformatics)\"],[\"Accounting for random regressors: A unified approach to multi-modality imaging\",\"Lecture Notes in Computer Science (including subseries Lecture Notes in Artificial Intelligence and Lecture Notes in Bioinformatics)\"],[\"A Bayesian hierarchical nonlinear mixture model in the presence of artifactual outliers in a population pharmacokinetic study\",\"Journal of Pharmacokinetics and Pharmacodynamics\"],[\"Functional principal component model for high-dimensional brain imaging\",\"NeuroImage\"],[\"Population-wide principal component-based quantification of blood-brain-barrier dynamics in multiple sclerosis\",\"NeuroImage\"],[\"Assessing bioequivalence of generic antiepilepsy drugs\",\"Annals of Neurology\"],[\"Minimal detection bias in the inverse association between statin drug use and advanced prostate cancer risk: A simulation study\",\"Cancer Epidemiology\"],[\"Penalized functional regression analysis of white-matter tract profiles in multiple sclerosis\",\"NeuroImage\"],[\"An MCMC-based analysis of a multilevel model for functional MRI data\",\"Handbook of Markov Chain Monte Carlo\"],[\"Parallel Bayesian MCMC imputation for multiple distributed lag models: A case study in environmental epidemiology\",\"Handbook of Markov Chain Monte Carlo\"],[\"Nonlinear tube-fitting for the analysis of anatomical and functional structures\",\"Annals of Applied Statistics\"],[\"Comparison of proportions for composite endpoints with missing components\",\"Journal of Biopharmaceutical Statistics\"],[\"Clinical predictors of conduction disease progression in type I myotonic muscular dystrophy\",\"PACE - Pacing and Clinical Electrophysiology\"],[\"Longitudinal changes in diffusion tensor-based quantitative MRI in multiple sclerosis\",\"Neurology\"],[\"A prospective evaluation of a protocol for magnetic resonance imaging of patients with implanted cardiac devices\",\"Annals of Internal Medicine\"],[\"On the relationship between seed-based and ICA-based measures of functional connectivity\",\"Magnetic Resonance in Medicine\"],[\"Quantifying auditory event-related responses in multichannel human intracranial recordings\",\"Frontiers in Computational Neuroscience\"],[\"Utility of sleep stage transitions in assessing sleep continuity\",\"Sleep\"],[\"A novel approach to prediction of mild obstructive sleep disordered breathing in a population-based sample: The sleep heart health study\",\"Sleep\"],[\"Lasagna plots: A saucy alternative to spaghetti plots\",\"Epidemiology\"],[\"Redefining CpG islands using hidden Markov models\",\"Biostatistics\"],[\"Two-stage decompositions for the analysis of functional connectivity for fMRI with application to Alzheimer's disease risk\",\"NeuroImage\"],[\"Perioperative mortality and long-term survival following live kidney donation\",\"JAMA - Journal of the American Medical Association\"],[\"MRI of the corpus callosum in multiple sclerosis: Association with disability\",\"Multiple Sclerosis\"],[\"Longitudinal functional principal component analysis\",\"Electronic Journal of Statistics\"],[\"QRS prolongation in myotonic muscular dystrophy and diffuse fibrosis on cardiac magnetic resonance\",\"Magnetic Resonance in Medicine\"],[\"Evaluation of cumulative lead dose and longitudinal changes in structural magnetic resonance imaging in former organolead workers\",\"Journal of Occupational and Environmental Medicine\"],[\"From the authors\",\"American Journal of Respiratory and Critical Care Medicine\"],[\"Intelligence and medial temporal lobe function in older adults: A functional MR imaging-based investigation\",\"American Journal of Neuroradiology\"],[\"Likelihood Estimation of Conjugacy Relationships in Linear Models with Applications to High-Throughput Genomics\",\"International Journal of Biostatistics\"],[\"Sleep-disordered breathing and mortality: A prospective cohort study\",\"PLoS Medicine\"],[\"Damage to the optic radiation in multiple sclerosis is associated with retinal injury and visual disability\",\"Archives of Neurology\"],[\"Adaptive control of the false discovery rate in voxel-based morphometry\",\"Human Brain Mapping\"],[\"Prospective study of sleep-disordered breathing and hypertension: The sleep heart health study\",\"American Journal of Respiratory and Critical Care Medicine\"],[\"Nonparametric signal extraction and measurement error in the analysis of electroencephalographic activity during sleep\",\"Journal of the American Statistical Association\"],[\"Easy multiplicity control in equivalence testing using two one-sided tests\",\"American Statistician\"],[\"Modified test statistics by inter-voxel variance shrinkage with an application to f MRI\",\"Biostatistics\"],[\"Multilevel functional principal component analysis\",\"Annals of Applied Statistics\"],[\"Decreased connectivity and cerebellar activity in autism during motor task performance\",\"Brain\"],[\"A survey of the likelihood approach to bioequivalence trials\",\"Statistics in Medicine\"],[\"A case study in pharmacologic colon imaging using principal curves in single-photon emission computed tomography\",\"Journal of the American Statistical Association\"],[\"Toward realistic and practical ideal observer (10) estimation for the optimization of medical imaging systems\",\"IEEE Transactions on Medical Imaging\"],[\"Characterizing sleep structure using the hypnogram\",\"Journal of Clinical Sleep Medicine\"],[\"Differential brain activation in anorexia nervosa to Fat and Thin words during a Stroop task\",\"NeuroReport\"],[\"Fasting glycemia in sleep disordered breathing: Lowering the threshold on oxyhemoglobin desaturation\",\"Sleep\"],[\"A mechanisfic latent variable model for estimating drug concentrations in the male genital tract: A case study in drug kinetics\",\"Statistics in Medicine\"],[\"Effect of semen sampling frequency on seminal antiretroviral drug concentration\",\"Clinical Pharmacology and Therapeutics\"],[\"Accounting for within-patient correlation in assessing relative sensitivity of an adjunctive diagnostic test: Application to lung cancer\",\"Statistics in Medicine\"],[\"Are brain volumes based on magnetic resonance imaging mediators of the associations of cumulative lead dose with cognitive function?\",\"American Journal of Epidemiology\"],[\"Dysregulation of glutamate carboxypeptidase II in psychiatric disease\",\"Schizophrenia Research\"],[\"Noninvasive quantitation of drug concentration in prostate and seminal vesicles: Improvement and validation with desipramine and aspirin\",\"Journal of Clinical Pharmacology\"],[\"fMRI of intrasubject variability in ADHD: Anomalous premotor activity with prefrontal compensation\",\"Journal of the American Academy of Child and Adolescent Psychiatry\"],[\"Power spectral analysis of EEG activity during sleep in cigarette smokers\",\"Chest\"],[\"A Bayesian hierarchical framework for spatial modeling of fMRI data\",\"NeuroImage\"],[\"Optimal sampling times in bioequivalence studies using a simulated annealing algorithm\",\"Statistics and Computing\"],[\"Markov chain Monte Carlo (MCMC) based ideal observer estimation using a parameterized phantom and a pre-calculated dataset\",\"Progress in Biomedical Optics and Imaging - Proceedings of SPIE\"],[\"On the potential for illogic with logically defined outcomes\",\"Biostatistics\"],[\"Relations of brain volumes with cognitive function in males 45 years and older with past lead exposure\",\"NeuroImage\"],[\"Flexible random intercept models for binary outcomes using mixtures of normals\",\"Computational Statistics and Data Analysis\"],[\"A new method to estimate quantitatively seminal vesicle and prostate gland contributions to ejaculate\",\"British Journal of Clinical Pharmacology\"],[\"Fixed-width output analysis for Markov chain Monte Carlo\",\"Journal of the American Statistical Association\"],[\"Cigarette smoking and nocturnal sleep architecture\",\"American Journal of Epidemiology\"],[\"Quantitative assessment of seminal vesicle and prostate drug concentrations by use of a noninvasive method\",\"Clinical Pharmacology and Therapeutics\"],[\"A user-friendly introduction to link-probit-normal models\",\"American Statistician\"],[\"Familial risk for Alzheimer's disease alters fMRI activation patterns\",\"Brain\"],[\"Exact hypothesis tests for log-linear models with exactLoglinTest\",\"Journal of Statistical Software\"],[\"Ascent-based Monte Carlo expectation-maximization\",\"Journal of the Royal Statistical Society. Series B: Statistical Methodology\"],[\"Examples in which misspecification of a random effects distribution reduces efficiency, and possible remedies\",\"Computational Statistics and Data Analysis\"],[\"Monte Carlo conditional inference for log-linear and logistic models: A survey of current methodology\",\"Statistical Methods in Medical Research\"],[\"Simulation-based P values: Response to north et al. [1]\",\"American Journal of Human Genetics\"],[\"Empirical supremum rejection sampling\",\"Biometrika\"],[\"Unequal sampling for Monte Carlo EM algorithms\",\"Computational Statistics and Data Analysis\"],[\"Measures of relative model fit\",\"Computational Statistics and Data Analysis\"],[\"Multinomial logit random effects models\",\"Statistical Modeling\"],[\"A markov chain monte carlo algorithm for approximating exact conditional probabilities\",\"Journal of Computational and Graphical Statistics\"],[\"Simple and effective confidence intervals for proportions and differences of proportions result from adding two successes and two failures\",\"American Statistician\"],[\"Random-effects modeling of categorical response data\",\"Sociological Methodology\"]],\"fillcolor\":\"rgba(255,255,255,0)\",\"hoveron\":\"points\",\"hovertemplate\":\"Publication Year=%{x}<br>total=%{y}<br>Document Title=%{customdata[0]}<br>Journal Title=%{customdata[1]}<extra></extra>\",\"legendgroup\":\"\",\"line\":{\"color\":\"rgba(255,255,255,0)\"},\"marker\":{\"color\":\"#636efa\"},\"name\":\"\",\"offsetgroup\":\"\",\"orientation\":\"v\",\"pointpos\":0,\"showlegend\":false,\"type\":\"box\",\"x\":[2021,2021,2021,2021,2021,2021,2021,2021,2021,2021,2021,2021,2021,2021,2021,2021,2021,2021,2021,2020,2020,2020,2020,2020,2020,2020,2020,2020,2020,2020,2020,2020,2019,2019,2019,2019,2019,2019,2019,2019,2018,2018,2018,2018,2017,2017,2017,2017,2017,2017,2017,2017,2017,2017,2017,2017,2016,2016,2016,2016,2016,2016,2016,2016,2016,2016,2016,2016,2016,2015,2015,2015,2015,2015,2015,2015,2015,2015,2015,2015,2015,2015,2015,2015,2015,2015,2015,2015,2014,2014,2014,2014,2014,2014,2014,2014,2014,2014,2014,2014,2014,2014,2014,2013,2013,2013,2013,2013,2013,2013,2013,2013,2013,2013,2013,2013,2013,2013,2013,2013,2013,2012,2012,2012,2012,2012,2012,2012,2012,2012,2012,2012,2012,2012,2012,2012,2012,2012,2012,2012,2012,2012,2012,2012,2011,2011,2011,2011,2011,2011,2011,2011,2011,2011,2011,2011,2011,2011,2011,2011,2011,2011,2011,2011,2011,2011,2011,2010,2010,2010,2010,2010,2010,2010,2010,2010,2010,2010,2009,2009,2009,2009,2009,2009,2009,2009,2009,2009,2009,2009,2008,2008,2008,2008,2008,2008,2008,2008,2008,2008,2008,2008,2008,2008,2008,2007,2007,2007,2007,2007,2007,2006,2006,2006,2006,2006,2006,2005,2004,2003,2003,2002,2002,2002,2001,2001,2000,2000],\"x0\":\" \",\"xaxis\":\"x\",\"y\":[1,0,0,1,0,0,0,0,3,2,1,0,1,3,0,1,0,4,0,5,0,0,5,4,3,0,7,10,10,0,0,12,16,2,52,11,19,2,3,17,14,30,20,19,9,4,87,11,5,4,14,4,4,11,9,89,3,31,1,40,33,8,12,67,37,19,1,5,1,18,15,7,66,101,1,25,0,82,86,139,19,12,9,24,56,3,0,42,18,21,195,28,188,9,4,12,104,22,4,62,6,16,62,14,6,53,36,37,0,1,7,22,8,4,28,10,1,4,36,17,87,21,57,24,20,10,130,19,3,30,49,13,4,4,83,0,64,4,27,26,0,12,46,29,1,38,138,38,149,0,36,4,0,8,36,32,69,10,27,0,6,9,2,26,61,230,142,31,43,28,60,114,25,518,112,96,14,12,0,4,0,913,120,14,267,22,28,8,185,297,10,15,29,40,45,56,0,9,0,21,35,2,109,83,77,3,3,3,35,25,17,182,221,18,10,126,3,71,109,10,8,11,4,10,117,16,331,116],\"y0\":\" \",\"yaxis\":\"y\"}],                        {\"boxmode\":\"group\",\"legend\":{\"tracegroupgap\":0},\"margin\":{\"t\":60},\"paper_bgcolor\":\"rgba(0, 0, 0, 0)\",\"plot_bgcolor\":\"rgba(0, 0, 0, 0)\",\"template\":{\"data\":{\"bar\":[{\"error_x\":{\"color\":\"#2a3f5f\"},\"error_y\":{\"color\":\"#2a3f5f\"},\"marker\":{\"line\":{\"color\":\"#E5ECF6\",\"width\":0.5},\"pattern\":{\"fillmode\":\"overlay\",\"size\":10,\"solidity\":0.2}},\"type\":\"bar\"}],\"barpolar\":[{\"marker\":{\"line\":{\"color\":\"#E5ECF6\",\"width\":0.5},\"pattern\":{\"fillmode\":\"overlay\",\"size\":10,\"solidity\":0.2}},\"type\":\"barpolar\"}],\"carpet\":[{\"aaxis\":{\"endlinecolor\":\"#2a3f5f\",\"gridcolor\":\"white\",\"linecolor\":\"white\",\"minorgridcolor\":\"white\",\"startlinecolor\":\"#2a3f5f\"},\"baxis\":{\"endlinecolor\":\"#2a3f5f\",\"gridcolor\":\"white\",\"linecolor\":\"white\",\"minorgridcolor\":\"white\",\"startlinecolor\":\"#2a3f5f\"},\"type\":\"carpet\"}],\"choropleth\":[{\"colorbar\":{\"outlinewidth\":0,\"ticks\":\"\"},\"type\":\"choropleth\"}],\"contour\":[{\"colorbar\":{\"outlinewidth\":0,\"ticks\":\"\"},\"colorscale\":[[0.0,\"#0d0887\"],[0.1111111111111111,\"#46039f\"],[0.2222222222222222,\"#7201a8\"],[0.3333333333333333,\"#9c179e\"],[0.4444444444444444,\"#bd3786\"],[0.5555555555555556,\"#d8576b\"],[0.6666666666666666,\"#ed7953\"],[0.7777777777777778,\"#fb9f3a\"],[0.8888888888888888,\"#fdca26\"],[1.0,\"#f0f921\"]],\"type\":\"contour\"}],\"contourcarpet\":[{\"colorbar\":{\"outlinewidth\":0,\"ticks\":\"\"},\"type\":\"contourcarpet\"}],\"heatmap\":[{\"colorbar\":{\"outlinewidth\":0,\"ticks\":\"\"},\"colorscale\":[[0.0,\"#0d0887\"],[0.1111111111111111,\"#46039f\"],[0.2222222222222222,\"#7201a8\"],[0.3333333333333333,\"#9c179e\"],[0.4444444444444444,\"#bd3786\"],[0.5555555555555556,\"#d8576b\"],[0.6666666666666666,\"#ed7953\"],[0.7777777777777778,\"#fb9f3a\"],[0.8888888888888888,\"#fdca26\"],[1.0,\"#f0f921\"]],\"type\":\"heatmap\"}],\"heatmapgl\":[{\"colorbar\":{\"outlinewidth\":0,\"ticks\":\"\"},\"colorscale\":[[0.0,\"#0d0887\"],[0.1111111111111111,\"#46039f\"],[0.2222222222222222,\"#7201a8\"],[0.3333333333333333,\"#9c179e\"],[0.4444444444444444,\"#bd3786\"],[0.5555555555555556,\"#d8576b\"],[0.6666666666666666,\"#ed7953\"],[0.7777777777777778,\"#fb9f3a\"],[0.8888888888888888,\"#fdca26\"],[1.0,\"#f0f921\"]],\"type\":\"heatmapgl\"}],\"histogram\":[{\"marker\":{\"pattern\":{\"fillmode\":\"overlay\",\"size\":10,\"solidity\":0.2}},\"type\":\"histogram\"}],\"histogram2d\":[{\"colorbar\":{\"outlinewidth\":0,\"ticks\":\"\"},\"colorscale\":[[0.0,\"#0d0887\"],[0.1111111111111111,\"#46039f\"],[0.2222222222222222,\"#7201a8\"],[0.3333333333333333,\"#9c179e\"],[0.4444444444444444,\"#bd3786\"],[0.5555555555555556,\"#d8576b\"],[0.6666666666666666,\"#ed7953\"],[0.7777777777777778,\"#fb9f3a\"],[0.8888888888888888,\"#fdca26\"],[1.0,\"#f0f921\"]],\"type\":\"histogram2d\"}],\"histogram2dcontour\":[{\"colorbar\":{\"outlinewidth\":0,\"ticks\":\"\"},\"colorscale\":[[0.0,\"#0d0887\"],[0.1111111111111111,\"#46039f\"],[0.2222222222222222,\"#7201a8\"],[0.3333333333333333,\"#9c179e\"],[0.4444444444444444,\"#bd3786\"],[0.5555555555555556,\"#d8576b\"],[0.6666666666666666,\"#ed7953\"],[0.7777777777777778,\"#fb9f3a\"],[0.8888888888888888,\"#fdca26\"],[1.0,\"#f0f921\"]],\"type\":\"histogram2dcontour\"}],\"mesh3d\":[{\"colorbar\":{\"outlinewidth\":0,\"ticks\":\"\"},\"type\":\"mesh3d\"}],\"parcoords\":[{\"line\":{\"colorbar\":{\"outlinewidth\":0,\"ticks\":\"\"}},\"type\":\"parcoords\"}],\"pie\":[{\"automargin\":true,\"type\":\"pie\"}],\"scatter\":[{\"marker\":{\"colorbar\":{\"outlinewidth\":0,\"ticks\":\"\"}},\"type\":\"scatter\"}],\"scatter3d\":[{\"line\":{\"colorbar\":{\"outlinewidth\":0,\"ticks\":\"\"}},\"marker\":{\"colorbar\":{\"outlinewidth\":0,\"ticks\":\"\"}},\"type\":\"scatter3d\"}],\"scattercarpet\":[{\"marker\":{\"colorbar\":{\"outlinewidth\":0,\"ticks\":\"\"}},\"type\":\"scattercarpet\"}],\"scattergeo\":[{\"marker\":{\"colorbar\":{\"outlinewidth\":0,\"ticks\":\"\"}},\"type\":\"scattergeo\"}],\"scattergl\":[{\"marker\":{\"colorbar\":{\"outlinewidth\":0,\"ticks\":\"\"}},\"type\":\"scattergl\"}],\"scattermapbox\":[{\"marker\":{\"colorbar\":{\"outlinewidth\":0,\"ticks\":\"\"}},\"type\":\"scattermapbox\"}],\"scatterpolar\":[{\"marker\":{\"colorbar\":{\"outlinewidth\":0,\"ticks\":\"\"}},\"type\":\"scatterpolar\"}],\"scatterpolargl\":[{\"marker\":{\"colorbar\":{\"outlinewidth\":0,\"ticks\":\"\"}},\"type\":\"scatterpolargl\"}],\"scatterternary\":[{\"marker\":{\"colorbar\":{\"outlinewidth\":0,\"ticks\":\"\"}},\"type\":\"scatterternary\"}],\"surface\":[{\"colorbar\":{\"outlinewidth\":0,\"ticks\":\"\"},\"colorscale\":[[0.0,\"#0d0887\"],[0.1111111111111111,\"#46039f\"],[0.2222222222222222,\"#7201a8\"],[0.3333333333333333,\"#9c179e\"],[0.4444444444444444,\"#bd3786\"],[0.5555555555555556,\"#d8576b\"],[0.6666666666666666,\"#ed7953\"],[0.7777777777777778,\"#fb9f3a\"],[0.8888888888888888,\"#fdca26\"],[1.0,\"#f0f921\"]],\"type\":\"surface\"}],\"table\":[{\"cells\":{\"fill\":{\"color\":\"#EBF0F8\"},\"line\":{\"color\":\"white\"}},\"header\":{\"fill\":{\"color\":\"#C8D4E3\"},\"line\":{\"color\":\"white\"}},\"type\":\"table\"}]},\"layout\":{\"annotationdefaults\":{\"arrowcolor\":\"#2a3f5f\",\"arrowhead\":0,\"arrowwidth\":1},\"autotypenumbers\":\"strict\",\"coloraxis\":{\"colorbar\":{\"outlinewidth\":0,\"ticks\":\"\"}},\"colorscale\":{\"diverging\":[[0,\"#8e0152\"],[0.1,\"#c51b7d\"],[0.2,\"#de77ae\"],[0.3,\"#f1b6da\"],[0.4,\"#fde0ef\"],[0.5,\"#f7f7f7\"],[0.6,\"#e6f5d0\"],[0.7,\"#b8e186\"],[0.8,\"#7fbc41\"],[0.9,\"#4d9221\"],[1,\"#276419\"]],\"sequential\":[[0.0,\"#0d0887\"],[0.1111111111111111,\"#46039f\"],[0.2222222222222222,\"#7201a8\"],[0.3333333333333333,\"#9c179e\"],[0.4444444444444444,\"#bd3786\"],[0.5555555555555556,\"#d8576b\"],[0.6666666666666666,\"#ed7953\"],[0.7777777777777778,\"#fb9f3a\"],[0.8888888888888888,\"#fdca26\"],[1.0,\"#f0f921\"]],\"sequentialminus\":[[0.0,\"#0d0887\"],[0.1111111111111111,\"#46039f\"],[0.2222222222222222,\"#7201a8\"],[0.3333333333333333,\"#9c179e\"],[0.4444444444444444,\"#bd3786\"],[0.5555555555555556,\"#d8576b\"],[0.6666666666666666,\"#ed7953\"],[0.7777777777777778,\"#fb9f3a\"],[0.8888888888888888,\"#fdca26\"],[1.0,\"#f0f921\"]]},\"colorway\":[\"#636efa\",\"#EF553B\",\"#00cc96\",\"#ab63fa\",\"#FFA15A\",\"#19d3f3\",\"#FF6692\",\"#B6E880\",\"#FF97FF\",\"#FECB52\"],\"font\":{\"color\":\"#2a3f5f\"},\"geo\":{\"bgcolor\":\"white\",\"lakecolor\":\"white\",\"landcolor\":\"#E5ECF6\",\"showlakes\":true,\"showland\":true,\"subunitcolor\":\"white\"},\"hoverlabel\":{\"align\":\"left\"},\"hovermode\":\"closest\",\"mapbox\":{\"style\":\"light\"},\"paper_bgcolor\":\"white\",\"plot_bgcolor\":\"#E5ECF6\",\"polar\":{\"angularaxis\":{\"gridcolor\":\"white\",\"linecolor\":\"white\",\"ticks\":\"\"},\"bgcolor\":\"#E5ECF6\",\"radialaxis\":{\"gridcolor\":\"white\",\"linecolor\":\"white\",\"ticks\":\"\"}},\"scene\":{\"xaxis\":{\"backgroundcolor\":\"#E5ECF6\",\"gridcolor\":\"white\",\"gridwidth\":2,\"linecolor\":\"white\",\"showbackground\":true,\"ticks\":\"\",\"zerolinecolor\":\"white\"},\"yaxis\":{\"backgroundcolor\":\"#E5ECF6\",\"gridcolor\":\"white\",\"gridwidth\":2,\"linecolor\":\"white\",\"showbackground\":true,\"ticks\":\"\",\"zerolinecolor\":\"white\"},\"zaxis\":{\"backgroundcolor\":\"#E5ECF6\",\"gridcolor\":\"white\",\"gridwidth\":2,\"linecolor\":\"white\",\"showbackground\":true,\"ticks\":\"\",\"zerolinecolor\":\"white\"}},\"shapedefaults\":{\"line\":{\"color\":\"#2a3f5f\"}},\"ternary\":{\"aaxis\":{\"gridcolor\":\"white\",\"linecolor\":\"white\",\"ticks\":\"\"},\"baxis\":{\"gridcolor\":\"white\",\"linecolor\":\"white\",\"ticks\":\"\"},\"bgcolor\":\"#E5ECF6\",\"caxis\":{\"gridcolor\":\"white\",\"linecolor\":\"white\",\"ticks\":\"\"}},\"title\":{\"x\":0.05},\"xaxis\":{\"automargin\":true,\"gridcolor\":\"white\",\"linecolor\":\"white\",\"ticks\":\"\",\"title\":{\"standoff\":15},\"zerolinecolor\":\"white\",\"zerolinewidth\":2},\"yaxis\":{\"automargin\":true,\"gridcolor\":\"white\",\"linecolor\":\"white\",\"ticks\":\"\",\"title\":{\"standoff\":15},\"zerolinecolor\":\"white\",\"zerolinewidth\":2}}},\"xaxis\":{\"anchor\":\"y\",\"domain\":[0.0,1.0],\"title\":{\"text\":\"Publication Year\"}},\"yaxis\":{\"anchor\":\"x\",\"domain\":[0.0,1.0],\"title\":{\"text\":\"total\"}}},                        {\"responsive\": true}                    ).then(function(){\n",
       "                            \n",
       "var gd = document.getElementById('6da3dfe3-959b-4194-adc6-77aafabdfb5a');\n",
       "var x = new MutationObserver(function (mutations, observer) {{\n",
       "        var display = window.getComputedStyle(gd).display;\n",
       "        if (!display || display === 'none') {{\n",
       "            console.log([gd, 'removed!']);\n",
       "            Plotly.purge(gd);\n",
       "            observer.disconnect();\n",
       "        }}\n",
       "}});\n",
       "\n",
       "// Listen for the removal of the full notebook cells\n",
       "var notebookContainer = gd.closest('#notebook-container');\n",
       "if (notebookContainer) {{\n",
       "    x.observe(notebookContainer, {childList: true});\n",
       "}}\n",
       "\n",
       "// Listen for the clearing of the current output cell\n",
       "var outputEl = gd.closest('.output');\n",
       "if (outputEl) {{\n",
       "    x.observe(outputEl, {childList: true});\n",
       "}}\n",
       "\n",
       "                        })                };                });            </script>        </div>"
      ]
     },
     "metadata": {},
     "output_type": "display_data"
    }
   ],
   "source": [
    "fig = px.strip(dat, x = 'Publication Year', \n",
    "                 y = 'total', \n",
    "                 hover_data = ['Publication Year', 'total', 'Document Title', 'Journal Title'])\n",
    "fig.update_layout({\n",
    "    'plot_bgcolor' : 'rgba(0, 0, 0, 0)',\n",
    "    'paper_bgcolor' : 'rgba(0, 0, 0, 0)'})\n",
    "fig.show()"
   ]
  },
  {
   "cell_type": "markdown",
   "id": "a47ea647-2ec6-4e1f-9a87-68599c9100a4",
   "metadata": {},
   "source": [
    "## Part II\n",
    "### Advisees\n",
    "+ 2005 PhD Leena Choi, Johns Hopkins Biostatistics, *Modelling biomedical data and the foundations of bioequivalence*\n",
    "+ 2006 ScM Lijuan Deng, Johns Hopkins Biostatistics, *Spline-based curve fitting with applications to kinetic imaging*\n",
    "+ 2006 MS Bruce Swihart, University of Colorado Biostatistics, *Quantitative characterization of sleep architecture using multi- state and log-linear models* (jointly\n",
    "  advised with Naresh Punjabi and Gary Grunwald)\n",
    "+ 2007 MPH Jeong Yun, Johns Hopkins Bloomberg School of Public Health, *Incidence of hypertension in high risk groups of the Sleep Heart Health Study*\n",
    "+ 2008 PhD  Xianbin Li, Johns Hopkins Biostatistics, *Modeling composite outcomes and their component parts*\n",
    "+ 2008 PhD Shu-Chih Su, Johns Hopkins Biostatistics, *Structure/function relationships in the analysis of anatomical and functional neuroimaging data*\n",
    "+ 2010 ScM John Muschelli, Johns Hopkins Biostatistics, *An iterative approach to hemodynamic response function temporal derivatives in statistical parametric mapping for functional neuroimaging* \n",
    "+ 2011 PhD Haley Hedlin, Johns Hopkins Biostatistics, *Statistical methods for inter-subject analysis of neuroscience data*\n",
    "+ 2011 PhD Bruce Swihart, Johns Hopkins Biostatistics, *From individuals to populations: application and insights concerning the generalized linear mixed model*\n",
    "+ 2012 PhD Jeff Goldsmith (co-advised with primary advisor Ciprian Crainiceanu), *Cross-Sectional and longitudinal penalized functional regression*\n",
    "+ 2012 MPH Tiziano Marovino, *The concurrent validity of musculo-skeletal ultrasound imaging in comparison to MRI for detecting rotator cuff tears in the shoulder when performed in a physical therapy setting*\n",
    "+ 2013 ScM Rawan Al-Lozi, *An evaluation of statistical modeling methods for predicting recovery time from post-traumatic amnesia following moderate or severe traumatic brain injury in children*\n",
    "+ 2013 PhD Shanshan Li (co-advised with primary advisor Mei-Cheng Wang) *Statistical Methods for Evaluating Diagnostic Accuracy of Biomarkers*\n",
    "+ 2013 MHS Xiaoqiang Xu, *Parallel Voxel Level Anything*\n",
    "+ 2015 PhD Juemin Yang *Statistical Methods for Brain Imaging and Genomic Data Analysis*\n",
    "+ 2015 PhD Shaojie Chen *Statistical Methods to Analyze Massive High-Dimensional Neuroimaging Data*\n",
    "+ 2015 PhD Fang Han (Co-advised with Han Liu) *Large-scale nonparametric and semiparametric inference for large complex and noisy datasets*\n",
    "+ 2016 PhD Chen Yue (co-advised with Vadim Zipunnikov) *Generalizations, extensions and applications for principal component analysis*\n",
    "+ 2016 PhD Amanda Mejia (co-advised with primary advisor Martin Lindquist) *Statistical Methods for Functional Magnetic Resonance Imaging Data*\n",
    "+ 2016 PhD Aaron Fisher *Methods for High Dimensional Analysis, Multiple Testing, and Visual Exploration*\n",
    "+ 2016 PhD Huitong Qiu *Statistical Methods and Theory for  Analyzing High Dimensional Time Series*\n",
    "+ 2020 PhD Zeyi Wang *Statistical Analysis of Functional Connectivity in Brain Imaging: Measurement Reliability and Clinical Applications*\n",
    "+ 2020 MSE Luchao Qi *Associations between Body Mass Index (BMI) and Physical Activity: National Health and Nutritional Examination Survey (NHANES) 2005-2006*\n",
    "+ 2021 PhD Bingkai Wang (co-advised with primary advisor Michael Rosenblum) *Statistical Methods for Analyzing Randomized Trials and Brain Imaging Data*\n",
    "\n",
    "### Post doctoral advisees\n",
    "+ 2009-2012 Vadim Zipunnikov (co-advising with primary advisor Ciprian Crainiceanu)\n",
    "+ 2010-2013 Ani Eloyan (co-advising with Ciprian Crainiceanu)\n",
    "+ 2011-2013 Seonjoo Lee (co-advising with primary advisor Dzung Pham)\n",
    "+ 2017-2020 Yi Zhao (co-advising with Stewart Mostofsky and Martin Lindquist)\n",
    "+ 2017-2020 Heather Shappell (co-advising with Jim Pekar and primary advisor Martin Lindquist)\n",
    "\n",
    "### Advisees in progress\n",
    "+ Huan Chen\n",
    "+ Bohao Tang\n",
    "\n",
    "### Master's thesis reader \n",
    "+ 2021 Yuki Kang (Biostat), Xuemin Zhu (Biostat)\n",
    "+ 2020 Luchao Qi (Biostat)\n",
    "+ 2014 Clair Rock (U MD Epi)\n",
    "+ 2012 Rawan Al-Lozi, Francisco Leva\n",
    "+ 2011 Jiawei Bai (Biostat), Pohan Chen (Biostat)\n",
    "+ 2010 Ben Althouse (Biostat) \n",
    "+ 2009 Catherine Thomas (Biostat), Ros Reside (Epi) \n",
    "+ 2006 Ricardo Carvalho (GTPCI), Bruce Swihart (UC Denver Biostatistics) \n",
    "+ 2005 Brendan Click (Biostat), Jennifer Ryea (Biostat) \n",
    "+ 2004 Meh Fen Yeh (Biostat) "
   ]
  },
  {
   "cell_type": "markdown",
   "id": "16c131cd-52a3-4f44-9d27-5f6fe807dd5f",
   "metadata": {},
   "source": [
    "### Student exam participation"
   ]
  },
  {
   "cell_type": "code",
   "execution_count": 195,
   "id": "9143f745-c8e3-4f53-8757-e3299feaaab8",
   "metadata": {},
   "outputs": [
    {
     "data": {
      "application/vnd.plotly.v1+json": {
       "config": {
        "plotlyServerURL": "https://plot.ly"
       },
       "data": [
        {
         "alignmentgroup": "True",
         "hovertemplate": "Department=BME<br>Year=%{x}<br>Count=%{y}<extra></extra>",
         "legendgroup": "BME",
         "marker": {
          "color": "#636efa",
          "pattern": {
           "shape": ""
          }
         },
         "name": "BME",
         "offsetgroup": "BME",
         "orientation": "v",
         "showlegend": true,
         "textposition": "auto",
         "type": "bar",
         "x": [
          2021,
          2010,
          2008,
          2019,
          2007,
          2009
         ],
         "xaxis": "x",
         "y": [
          7,
          3,
          2,
          1,
          1,
          1
         ],
         "yaxis": "y"
        },
        {
         "alignmentgroup": "True",
         "hovertemplate": "Department=Biostat<br>Year=%{x}<br>Count=%{y}<extra></extra>",
         "legendgroup": "Biostat",
         "marker": {
          "color": "#EF553B",
          "pattern": {
           "shape": ""
          }
         },
         "name": "Biostat",
         "offsetgroup": "Biostat",
         "orientation": "v",
         "showlegend": true,
         "textposition": "auto",
         "type": "bar",
         "x": [
          2012,
          2006,
          2014,
          2020,
          2013,
          2010,
          2008,
          2011,
          2018,
          2004,
          2021,
          2019,
          2015,
          2002,
          2003
         ],
         "xaxis": "x",
         "y": [
          4,
          3,
          3,
          3,
          3,
          2,
          2,
          2,
          2,
          2,
          1,
          1,
          1,
          1,
          1
         ],
         "yaxis": "y"
        },
        {
         "alignmentgroup": "True",
         "hovertemplate": "Department=Epi<br>Year=%{x}<br>Count=%{y}<extra></extra>",
         "legendgroup": "Epi",
         "marker": {
          "color": "#00cc96",
          "pattern": {
           "shape": ""
          }
         },
         "name": "Epi",
         "offsetgroup": "Epi",
         "orientation": "v",
         "showlegend": true,
         "textposition": "auto",
         "type": "bar",
         "x": [
          2007,
          2011,
          2021,
          2006,
          2003,
          2010,
          2008
         ],
         "xaxis": "x",
         "y": [
          2,
          2,
          1,
          1,
          1,
          1,
          1
         ],
         "yaxis": "y"
        },
        {
         "alignmentgroup": "True",
         "hovertemplate": "Department=HPM<br>Year=%{x}<br>Count=%{y}<extra></extra>",
         "legendgroup": "HPM",
         "marker": {
          "color": "#ab63fa",
          "pattern": {
           "shape": ""
          }
         },
         "name": "HPM",
         "offsetgroup": "HPM",
         "orientation": "v",
         "showlegend": true,
         "textposition": "auto",
         "type": "bar",
         "x": [
          2007,
          2005,
          2008
         ],
         "xaxis": "x",
         "y": [
          2,
          1,
          1
         ],
         "yaxis": "y"
        },
        {
         "alignmentgroup": "True",
         "hovertemplate": "Department=GTPCI<br>Year=%{x}<br>Count=%{y}<extra></extra>",
         "legendgroup": "GTPCI",
         "marker": {
          "color": "#FFA15A",
          "pattern": {
           "shape": ""
          }
         },
         "name": "GTPCI",
         "offsetgroup": "GTPCI",
         "orientation": "v",
         "showlegend": true,
         "textposition": "auto",
         "type": "bar",
         "x": [
          2021,
          2020,
          2016,
          2014,
          2006,
          2011,
          2010
         ],
         "xaxis": "x",
         "y": [
          2,
          1,
          1,
          1,
          1,
          1,
          1
         ],
         "yaxis": "y"
        },
        {
         "alignmentgroup": "True",
         "hovertemplate": "Department=AMS<br>Year=%{x}<br>Count=%{y}<extra></extra>",
         "legendgroup": "AMS",
         "marker": {
          "color": "#19d3f3",
          "pattern": {
           "shape": ""
          }
         },
         "name": "AMS",
         "offsetgroup": "AMS",
         "orientation": "v",
         "showlegend": true,
         "textposition": "auto",
         "type": "bar",
         "x": [
          2008,
          2018,
          2017
         ],
         "xaxis": "x",
         "y": [
          2,
          1,
          1
         ],
         "yaxis": "y"
        },
        {
         "alignmentgroup": "True",
         "hovertemplate": "Department=EE<br>Year=%{x}<br>Count=%{y}<extra></extra>",
         "legendgroup": "EE",
         "marker": {
          "color": "#FF6692",
          "pattern": {
           "shape": ""
          }
         },
         "name": "EE",
         "offsetgroup": "EE",
         "orientation": "v",
         "showlegend": true,
         "textposition": "auto",
         "type": "bar",
         "x": [
          2020,
          2008
         ],
         "xaxis": "x",
         "y": [
          2,
          1
         ],
         "yaxis": "y"
        },
        {
         "alignmentgroup": "True",
         "hovertemplate": "Department=MMI<br>Year=%{x}<br>Count=%{y}<extra></extra>",
         "legendgroup": "MMI",
         "marker": {
          "color": "#B6E880",
          "pattern": {
           "shape": ""
          }
         },
         "name": "MMI",
         "offsetgroup": "MMI",
         "orientation": "v",
         "showlegend": true,
         "textposition": "auto",
         "type": "bar",
         "x": [
          2012
         ],
         "xaxis": "x",
         "y": [
          1
         ],
         "yaxis": "y"
        },
        {
         "alignmentgroup": "True",
         "hovertemplate": "Department=EHE<br>Year=%{x}<br>Count=%{y}<extra></extra>",
         "legendgroup": "EHE",
         "marker": {
          "color": "#FF97FF",
          "pattern": {
           "shape": ""
          }
         },
         "name": "EHE",
         "offsetgroup": "EHE",
         "orientation": "v",
         "showlegend": true,
         "textposition": "auto",
         "type": "bar",
         "x": [
          2020
         ],
         "xaxis": "x",
         "y": [
          1
         ],
         "yaxis": "y"
        },
        {
         "alignmentgroup": "True",
         "hovertemplate": "Department=PFRH<br>Year=%{x}<br>Count=%{y}<extra></extra>",
         "legendgroup": "PFRH",
         "marker": {
          "color": "#FECB52",
          "pattern": {
           "shape": ""
          }
         },
         "name": "PFRH",
         "offsetgroup": "PFRH",
         "orientation": "v",
         "showlegend": true,
         "textposition": "auto",
         "type": "bar",
         "x": [
          2018,
          2013
         ],
         "xaxis": "x",
         "y": [
          1,
          1
         ],
         "yaxis": "y"
        },
        {
         "alignmentgroup": "True",
         "hovertemplate": "Department=IH<br>Year=%{x}<br>Count=%{y}<extra></extra>",
         "legendgroup": "IH",
         "marker": {
          "color": "#636efa",
          "pattern": {
           "shape": ""
          }
         },
         "name": "IH",
         "offsetgroup": "IH",
         "orientation": "v",
         "showlegend": true,
         "textposition": "auto",
         "type": "bar",
         "x": [
          2013,
          2010
         ],
         "xaxis": "x",
         "y": [
          1,
          1
         ],
         "yaxis": "y"
        },
        {
         "alignmentgroup": "True",
         "hovertemplate": "Department=MH<br>Year=%{x}<br>Count=%{y}<extra></extra>",
         "legendgroup": "MH",
         "marker": {
          "color": "#EF553B",
          "pattern": {
           "shape": ""
          }
         },
         "name": "MH",
         "offsetgroup": "MH",
         "orientation": "v",
         "showlegend": true,
         "textposition": "auto",
         "type": "bar",
         "x": [
          2011,
          2008
         ],
         "xaxis": "x",
         "y": [
          1,
          1
         ],
         "yaxis": "y"
        },
        {
         "alignmentgroup": "True",
         "hovertemplate": "Department=EHS<br>Year=%{x}<br>Count=%{y}<extra></extra>",
         "legendgroup": "EHS",
         "marker": {
          "color": "#00cc96",
          "pattern": {
           "shape": ""
          }
         },
         "name": "EHS",
         "offsetgroup": "EHS",
         "orientation": "v",
         "showlegend": true,
         "textposition": "auto",
         "type": "bar",
         "x": [
          2006,
          2007,
          2005,
          2004
         ],
         "xaxis": "x",
         "y": [
          1,
          1,
          1,
          1
         ],
         "yaxis": "y"
        },
        {
         "alignmentgroup": "True",
         "hovertemplate": "Department=PFH<br>Year=%{x}<br>Count=%{y}<extra></extra>",
         "legendgroup": "PFH",
         "marker": {
          "color": "#ab63fa",
          "pattern": {
           "shape": ""
          }
         },
         "name": "PFH",
         "offsetgroup": "PFH",
         "orientation": "v",
         "showlegend": true,
         "textposition": "auto",
         "type": "bar",
         "x": [
          2002,
          2007
         ],
         "xaxis": "x",
         "y": [
          1,
          1
         ],
         "yaxis": "y"
        }
       ],
       "layout": {
        "autosize": true,
        "barmode": "relative",
        "legend": {
         "title": {
          "text": "Department"
         },
         "tracegroupgap": 0
        },
        "template": {
         "data": {
          "bar": [
           {
            "error_x": {
             "color": "#2a3f5f"
            },
            "error_y": {
             "color": "#2a3f5f"
            },
            "marker": {
             "line": {
              "color": "#E5ECF6",
              "width": 0.5
             },
             "pattern": {
              "fillmode": "overlay",
              "size": 10,
              "solidity": 0.2
             }
            },
            "type": "bar"
           }
          ],
          "barpolar": [
           {
            "marker": {
             "line": {
              "color": "#E5ECF6",
              "width": 0.5
             },
             "pattern": {
              "fillmode": "overlay",
              "size": 10,
              "solidity": 0.2
             }
            },
            "type": "barpolar"
           }
          ],
          "carpet": [
           {
            "aaxis": {
             "endlinecolor": "#2a3f5f",
             "gridcolor": "white",
             "linecolor": "white",
             "minorgridcolor": "white",
             "startlinecolor": "#2a3f5f"
            },
            "baxis": {
             "endlinecolor": "#2a3f5f",
             "gridcolor": "white",
             "linecolor": "white",
             "minorgridcolor": "white",
             "startlinecolor": "#2a3f5f"
            },
            "type": "carpet"
           }
          ],
          "choropleth": [
           {
            "colorbar": {
             "outlinewidth": 0,
             "ticks": ""
            },
            "type": "choropleth"
           }
          ],
          "contour": [
           {
            "colorbar": {
             "outlinewidth": 0,
             "ticks": ""
            },
            "colorscale": [
             [
              0,
              "#0d0887"
             ],
             [
              0.1111111111111111,
              "#46039f"
             ],
             [
              0.2222222222222222,
              "#7201a8"
             ],
             [
              0.3333333333333333,
              "#9c179e"
             ],
             [
              0.4444444444444444,
              "#bd3786"
             ],
             [
              0.5555555555555556,
              "#d8576b"
             ],
             [
              0.6666666666666666,
              "#ed7953"
             ],
             [
              0.7777777777777778,
              "#fb9f3a"
             ],
             [
              0.8888888888888888,
              "#fdca26"
             ],
             [
              1,
              "#f0f921"
             ]
            ],
            "type": "contour"
           }
          ],
          "contourcarpet": [
           {
            "colorbar": {
             "outlinewidth": 0,
             "ticks": ""
            },
            "type": "contourcarpet"
           }
          ],
          "heatmap": [
           {
            "colorbar": {
             "outlinewidth": 0,
             "ticks": ""
            },
            "colorscale": [
             [
              0,
              "#0d0887"
             ],
             [
              0.1111111111111111,
              "#46039f"
             ],
             [
              0.2222222222222222,
              "#7201a8"
             ],
             [
              0.3333333333333333,
              "#9c179e"
             ],
             [
              0.4444444444444444,
              "#bd3786"
             ],
             [
              0.5555555555555556,
              "#d8576b"
             ],
             [
              0.6666666666666666,
              "#ed7953"
             ],
             [
              0.7777777777777778,
              "#fb9f3a"
             ],
             [
              0.8888888888888888,
              "#fdca26"
             ],
             [
              1,
              "#f0f921"
             ]
            ],
            "type": "heatmap"
           }
          ],
          "heatmapgl": [
           {
            "colorbar": {
             "outlinewidth": 0,
             "ticks": ""
            },
            "colorscale": [
             [
              0,
              "#0d0887"
             ],
             [
              0.1111111111111111,
              "#46039f"
             ],
             [
              0.2222222222222222,
              "#7201a8"
             ],
             [
              0.3333333333333333,
              "#9c179e"
             ],
             [
              0.4444444444444444,
              "#bd3786"
             ],
             [
              0.5555555555555556,
              "#d8576b"
             ],
             [
              0.6666666666666666,
              "#ed7953"
             ],
             [
              0.7777777777777778,
              "#fb9f3a"
             ],
             [
              0.8888888888888888,
              "#fdca26"
             ],
             [
              1,
              "#f0f921"
             ]
            ],
            "type": "heatmapgl"
           }
          ],
          "histogram": [
           {
            "marker": {
             "pattern": {
              "fillmode": "overlay",
              "size": 10,
              "solidity": 0.2
             }
            },
            "type": "histogram"
           }
          ],
          "histogram2d": [
           {
            "colorbar": {
             "outlinewidth": 0,
             "ticks": ""
            },
            "colorscale": [
             [
              0,
              "#0d0887"
             ],
             [
              0.1111111111111111,
              "#46039f"
             ],
             [
              0.2222222222222222,
              "#7201a8"
             ],
             [
              0.3333333333333333,
              "#9c179e"
             ],
             [
              0.4444444444444444,
              "#bd3786"
             ],
             [
              0.5555555555555556,
              "#d8576b"
             ],
             [
              0.6666666666666666,
              "#ed7953"
             ],
             [
              0.7777777777777778,
              "#fb9f3a"
             ],
             [
              0.8888888888888888,
              "#fdca26"
             ],
             [
              1,
              "#f0f921"
             ]
            ],
            "type": "histogram2d"
           }
          ],
          "histogram2dcontour": [
           {
            "colorbar": {
             "outlinewidth": 0,
             "ticks": ""
            },
            "colorscale": [
             [
              0,
              "#0d0887"
             ],
             [
              0.1111111111111111,
              "#46039f"
             ],
             [
              0.2222222222222222,
              "#7201a8"
             ],
             [
              0.3333333333333333,
              "#9c179e"
             ],
             [
              0.4444444444444444,
              "#bd3786"
             ],
             [
              0.5555555555555556,
              "#d8576b"
             ],
             [
              0.6666666666666666,
              "#ed7953"
             ],
             [
              0.7777777777777778,
              "#fb9f3a"
             ],
             [
              0.8888888888888888,
              "#fdca26"
             ],
             [
              1,
              "#f0f921"
             ]
            ],
            "type": "histogram2dcontour"
           }
          ],
          "mesh3d": [
           {
            "colorbar": {
             "outlinewidth": 0,
             "ticks": ""
            },
            "type": "mesh3d"
           }
          ],
          "parcoords": [
           {
            "line": {
             "colorbar": {
              "outlinewidth": 0,
              "ticks": ""
             }
            },
            "type": "parcoords"
           }
          ],
          "pie": [
           {
            "automargin": true,
            "type": "pie"
           }
          ],
          "scatter": [
           {
            "marker": {
             "colorbar": {
              "outlinewidth": 0,
              "ticks": ""
             }
            },
            "type": "scatter"
           }
          ],
          "scatter3d": [
           {
            "line": {
             "colorbar": {
              "outlinewidth": 0,
              "ticks": ""
             }
            },
            "marker": {
             "colorbar": {
              "outlinewidth": 0,
              "ticks": ""
             }
            },
            "type": "scatter3d"
           }
          ],
          "scattercarpet": [
           {
            "marker": {
             "colorbar": {
              "outlinewidth": 0,
              "ticks": ""
             }
            },
            "type": "scattercarpet"
           }
          ],
          "scattergeo": [
           {
            "marker": {
             "colorbar": {
              "outlinewidth": 0,
              "ticks": ""
             }
            },
            "type": "scattergeo"
           }
          ],
          "scattergl": [
           {
            "marker": {
             "colorbar": {
              "outlinewidth": 0,
              "ticks": ""
             }
            },
            "type": "scattergl"
           }
          ],
          "scattermapbox": [
           {
            "marker": {
             "colorbar": {
              "outlinewidth": 0,
              "ticks": ""
             }
            },
            "type": "scattermapbox"
           }
          ],
          "scatterpolar": [
           {
            "marker": {
             "colorbar": {
              "outlinewidth": 0,
              "ticks": ""
             }
            },
            "type": "scatterpolar"
           }
          ],
          "scatterpolargl": [
           {
            "marker": {
             "colorbar": {
              "outlinewidth": 0,
              "ticks": ""
             }
            },
            "type": "scatterpolargl"
           }
          ],
          "scatterternary": [
           {
            "marker": {
             "colorbar": {
              "outlinewidth": 0,
              "ticks": ""
             }
            },
            "type": "scatterternary"
           }
          ],
          "surface": [
           {
            "colorbar": {
             "outlinewidth": 0,
             "ticks": ""
            },
            "colorscale": [
             [
              0,
              "#0d0887"
             ],
             [
              0.1111111111111111,
              "#46039f"
             ],
             [
              0.2222222222222222,
              "#7201a8"
             ],
             [
              0.3333333333333333,
              "#9c179e"
             ],
             [
              0.4444444444444444,
              "#bd3786"
             ],
             [
              0.5555555555555556,
              "#d8576b"
             ],
             [
              0.6666666666666666,
              "#ed7953"
             ],
             [
              0.7777777777777778,
              "#fb9f3a"
             ],
             [
              0.8888888888888888,
              "#fdca26"
             ],
             [
              1,
              "#f0f921"
             ]
            ],
            "type": "surface"
           }
          ],
          "table": [
           {
            "cells": {
             "fill": {
              "color": "#EBF0F8"
             },
             "line": {
              "color": "white"
             }
            },
            "header": {
             "fill": {
              "color": "#C8D4E3"
             },
             "line": {
              "color": "white"
             }
            },
            "type": "table"
           }
          ]
         },
         "layout": {
          "annotationdefaults": {
           "arrowcolor": "#2a3f5f",
           "arrowhead": 0,
           "arrowwidth": 1
          },
          "autotypenumbers": "strict",
          "coloraxis": {
           "colorbar": {
            "outlinewidth": 0,
            "ticks": ""
           }
          },
          "colorscale": {
           "diverging": [
            [
             0,
             "#8e0152"
            ],
            [
             0.1,
             "#c51b7d"
            ],
            [
             0.2,
             "#de77ae"
            ],
            [
             0.3,
             "#f1b6da"
            ],
            [
             0.4,
             "#fde0ef"
            ],
            [
             0.5,
             "#f7f7f7"
            ],
            [
             0.6,
             "#e6f5d0"
            ],
            [
             0.7,
             "#b8e186"
            ],
            [
             0.8,
             "#7fbc41"
            ],
            [
             0.9,
             "#4d9221"
            ],
            [
             1,
             "#276419"
            ]
           ],
           "sequential": [
            [
             0,
             "#0d0887"
            ],
            [
             0.1111111111111111,
             "#46039f"
            ],
            [
             0.2222222222222222,
             "#7201a8"
            ],
            [
             0.3333333333333333,
             "#9c179e"
            ],
            [
             0.4444444444444444,
             "#bd3786"
            ],
            [
             0.5555555555555556,
             "#d8576b"
            ],
            [
             0.6666666666666666,
             "#ed7953"
            ],
            [
             0.7777777777777778,
             "#fb9f3a"
            ],
            [
             0.8888888888888888,
             "#fdca26"
            ],
            [
             1,
             "#f0f921"
            ]
           ],
           "sequentialminus": [
            [
             0,
             "#0d0887"
            ],
            [
             0.1111111111111111,
             "#46039f"
            ],
            [
             0.2222222222222222,
             "#7201a8"
            ],
            [
             0.3333333333333333,
             "#9c179e"
            ],
            [
             0.4444444444444444,
             "#bd3786"
            ],
            [
             0.5555555555555556,
             "#d8576b"
            ],
            [
             0.6666666666666666,
             "#ed7953"
            ],
            [
             0.7777777777777778,
             "#fb9f3a"
            ],
            [
             0.8888888888888888,
             "#fdca26"
            ],
            [
             1,
             "#f0f921"
            ]
           ]
          },
          "colorway": [
           "#636efa",
           "#EF553B",
           "#00cc96",
           "#ab63fa",
           "#FFA15A",
           "#19d3f3",
           "#FF6692",
           "#B6E880",
           "#FF97FF",
           "#FECB52"
          ],
          "font": {
           "color": "#2a3f5f"
          },
          "geo": {
           "bgcolor": "white",
           "lakecolor": "white",
           "landcolor": "#E5ECF6",
           "showlakes": true,
           "showland": true,
           "subunitcolor": "white"
          },
          "hoverlabel": {
           "align": "left"
          },
          "hovermode": "closest",
          "mapbox": {
           "style": "light"
          },
          "paper_bgcolor": "white",
          "plot_bgcolor": "#E5ECF6",
          "polar": {
           "angularaxis": {
            "gridcolor": "white",
            "linecolor": "white",
            "ticks": ""
           },
           "bgcolor": "#E5ECF6",
           "radialaxis": {
            "gridcolor": "white",
            "linecolor": "white",
            "ticks": ""
           }
          },
          "scene": {
           "xaxis": {
            "backgroundcolor": "#E5ECF6",
            "gridcolor": "white",
            "gridwidth": 2,
            "linecolor": "white",
            "showbackground": true,
            "ticks": "",
            "zerolinecolor": "white"
           },
           "yaxis": {
            "backgroundcolor": "#E5ECF6",
            "gridcolor": "white",
            "gridwidth": 2,
            "linecolor": "white",
            "showbackground": true,
            "ticks": "",
            "zerolinecolor": "white"
           },
           "zaxis": {
            "backgroundcolor": "#E5ECF6",
            "gridcolor": "white",
            "gridwidth": 2,
            "linecolor": "white",
            "showbackground": true,
            "ticks": "",
            "zerolinecolor": "white"
           }
          },
          "shapedefaults": {
           "line": {
            "color": "#2a3f5f"
           }
          },
          "ternary": {
           "aaxis": {
            "gridcolor": "white",
            "linecolor": "white",
            "ticks": ""
           },
           "baxis": {
            "gridcolor": "white",
            "linecolor": "white",
            "ticks": ""
           },
           "bgcolor": "#E5ECF6",
           "caxis": {
            "gridcolor": "white",
            "linecolor": "white",
            "ticks": ""
           }
          },
          "title": {
           "x": 0.05
          },
          "xaxis": {
           "automargin": true,
           "gridcolor": "white",
           "linecolor": "white",
           "ticks": "",
           "title": {
            "standoff": 15
           },
           "zerolinecolor": "white",
           "zerolinewidth": 2
          },
          "yaxis": {
           "automargin": true,
           "gridcolor": "white",
           "linecolor": "white",
           "ticks": "",
           "title": {
            "standoff": 15
           },
           "zerolinecolor": "white",
           "zerolinewidth": 2
          }
         }
        },
        "title": {
         "text": "Prelim Exams / GBOs"
        },
        "xaxis": {
         "anchor": "y",
         "autorange": true,
         "domain": [
          0,
          1
         ],
         "range": [
          2001.5,
          2021.5
         ],
         "title": {
          "text": "Year"
         },
         "type": "linear"
        },
        "yaxis": {
         "anchor": "x",
         "autorange": true,
         "domain": [
          0,
          1
         ],
         "range": [
          0,
          11.578947368421053
         ],
         "title": {
          "text": "Count"
         },
         "type": "linear"
        }
       }
      },
      "image/png": "[encoded data removed]",
      "text/html": [
       "<div>                            <div id=\"29e7bd57-9185-4ef5-82a1-c9e8d45daf8c\" class=\"plotly-graph-div\" style=\"height:525px; width:100%;\"></div>            <script type=\"text/javascript\">                require([\"plotly\"], function(Plotly) {                    window.PLOTLYENV=window.PLOTLYENV || {};                                    if (document.getElementById(\"29e7bd57-9185-4ef5-82a1-c9e8d45daf8c\")) {                    Plotly.newPlot(                        \"29e7bd57-9185-4ef5-82a1-c9e8d45daf8c\",                        [{\"alignmentgroup\":\"True\",\"hovertemplate\":\"Department=BME<br>Year=%{x}<br>Count=%{y}<extra></extra>\",\"legendgroup\":\"BME\",\"marker\":{\"color\":\"#636efa\",\"pattern\":{\"shape\":\"\"}},\"name\":\"BME\",\"offsetgroup\":\"BME\",\"orientation\":\"v\",\"showlegend\":true,\"textposition\":\"auto\",\"type\":\"bar\",\"x\":[2021,2010,2008,2019,2007,2009],\"xaxis\":\"x\",\"y\":[7,3,2,1,1,1],\"yaxis\":\"y\"},{\"alignmentgroup\":\"True\",\"hovertemplate\":\"Department=Biostat<br>Year=%{x}<br>Count=%{y}<extra></extra>\",\"legendgroup\":\"Biostat\",\"marker\":{\"color\":\"#EF553B\",\"pattern\":{\"shape\":\"\"}},\"name\":\"Biostat\",\"offsetgroup\":\"Biostat\",\"orientation\":\"v\",\"showlegend\":true,\"textposition\":\"auto\",\"type\":\"bar\",\"x\":[2012,2006,2014,2020,2013,2010,2008,2011,2018,2004,2021,2019,2015,2002,2003],\"xaxis\":\"x\",\"y\":[4,3,3,3,3,2,2,2,2,2,1,1,1,1,1],\"yaxis\":\"y\"},{\"alignmentgroup\":\"True\",\"hovertemplate\":\"Department=Epi<br>Year=%{x}<br>Count=%{y}<extra></extra>\",\"legendgroup\":\"Epi\",\"marker\":{\"color\":\"#00cc96\",\"pattern\":{\"shape\":\"\"}},\"name\":\"Epi\",\"offsetgroup\":\"Epi\",\"orientation\":\"v\",\"showlegend\":true,\"textposition\":\"auto\",\"type\":\"bar\",\"x\":[2007,2011,2021,2006,2003,2010,2008],\"xaxis\":\"x\",\"y\":[2,2,1,1,1,1,1],\"yaxis\":\"y\"},{\"alignmentgroup\":\"True\",\"hovertemplate\":\"Department=HPM<br>Year=%{x}<br>Count=%{y}<extra></extra>\",\"legendgroup\":\"HPM\",\"marker\":{\"color\":\"#ab63fa\",\"pattern\":{\"shape\":\"\"}},\"name\":\"HPM\",\"offsetgroup\":\"HPM\",\"orientation\":\"v\",\"showlegend\":true,\"textposition\":\"auto\",\"type\":\"bar\",\"x\":[2007,2005,2008],\"xaxis\":\"x\",\"y\":[2,1,1],\"yaxis\":\"y\"},{\"alignmentgroup\":\"True\",\"hovertemplate\":\"Department=GTPCI<br>Year=%{x}<br>Count=%{y}<extra></extra>\",\"legendgroup\":\"GTPCI\",\"marker\":{\"color\":\"#FFA15A\",\"pattern\":{\"shape\":\"\"}},\"name\":\"GTPCI\",\"offsetgroup\":\"GTPCI\",\"orientation\":\"v\",\"showlegend\":true,\"textposition\":\"auto\",\"type\":\"bar\",\"x\":[2021,2020,2016,2014,2006,2011,2010],\"xaxis\":\"x\",\"y\":[2,1,1,1,1,1,1],\"yaxis\":\"y\"},{\"alignmentgroup\":\"True\",\"hovertemplate\":\"Department=AMS<br>Year=%{x}<br>Count=%{y}<extra></extra>\",\"legendgroup\":\"AMS\",\"marker\":{\"color\":\"#19d3f3\",\"pattern\":{\"shape\":\"\"}},\"name\":\"AMS\",\"offsetgroup\":\"AMS\",\"orientation\":\"v\",\"showlegend\":true,\"textposition\":\"auto\",\"type\":\"bar\",\"x\":[2008,2018,2017],\"xaxis\":\"x\",\"y\":[2,1,1],\"yaxis\":\"y\"},{\"alignmentgroup\":\"True\",\"hovertemplate\":\"Department=EE<br>Year=%{x}<br>Count=%{y}<extra></extra>\",\"legendgroup\":\"EE\",\"marker\":{\"color\":\"#FF6692\",\"pattern\":{\"shape\":\"\"}},\"name\":\"EE\",\"offsetgroup\":\"EE\",\"orientation\":\"v\",\"showlegend\":true,\"textposition\":\"auto\",\"type\":\"bar\",\"x\":[2020,2008],\"xaxis\":\"x\",\"y\":[2,1],\"yaxis\":\"y\"},{\"alignmentgroup\":\"True\",\"hovertemplate\":\"Department=MMI<br>Year=%{x}<br>Count=%{y}<extra></extra>\",\"legendgroup\":\"MMI\",\"marker\":{\"color\":\"#B6E880\",\"pattern\":{\"shape\":\"\"}},\"name\":\"MMI\",\"offsetgroup\":\"MMI\",\"orientation\":\"v\",\"showlegend\":true,\"textposition\":\"auto\",\"type\":\"bar\",\"x\":[2012],\"xaxis\":\"x\",\"y\":[1],\"yaxis\":\"y\"},{\"alignmentgroup\":\"True\",\"hovertemplate\":\"Department=EHE<br>Year=%{x}<br>Count=%{y}<extra></extra>\",\"legendgroup\":\"EHE\",\"marker\":{\"color\":\"#FF97FF\",\"pattern\":{\"shape\":\"\"}},\"name\":\"EHE\",\"offsetgroup\":\"EHE\",\"orientation\":\"v\",\"showlegend\":true,\"textposition\":\"auto\",\"type\":\"bar\",\"x\":[2020],\"xaxis\":\"x\",\"y\":[1],\"yaxis\":\"y\"},{\"alignmentgroup\":\"True\",\"hovertemplate\":\"Department=PFRH<br>Year=%{x}<br>Count=%{y}<extra></extra>\",\"legendgroup\":\"PFRH\",\"marker\":{\"color\":\"#FECB52\",\"pattern\":{\"shape\":\"\"}},\"name\":\"PFRH\",\"offsetgroup\":\"PFRH\",\"orientation\":\"v\",\"showlegend\":true,\"textposition\":\"auto\",\"type\":\"bar\",\"x\":[2018,2013],\"xaxis\":\"x\",\"y\":[1,1],\"yaxis\":\"y\"},{\"alignmentgroup\":\"True\",\"hovertemplate\":\"Department=IH<br>Year=%{x}<br>Count=%{y}<extra></extra>\",\"legendgroup\":\"IH\",\"marker\":{\"color\":\"#636efa\",\"pattern\":{\"shape\":\"\"}},\"name\":\"IH\",\"offsetgroup\":\"IH\",\"orientation\":\"v\",\"showlegend\":true,\"textposition\":\"auto\",\"type\":\"bar\",\"x\":[2013,2010],\"xaxis\":\"x\",\"y\":[1,1],\"yaxis\":\"y\"},{\"alignmentgroup\":\"True\",\"hovertemplate\":\"Department=MH<br>Year=%{x}<br>Count=%{y}<extra></extra>\",\"legendgroup\":\"MH\",\"marker\":{\"color\":\"#EF553B\",\"pattern\":{\"shape\":\"\"}},\"name\":\"MH\",\"offsetgroup\":\"MH\",\"orientation\":\"v\",\"showlegend\":true,\"textposition\":\"auto\",\"type\":\"bar\",\"x\":[2011,2008],\"xaxis\":\"x\",\"y\":[1,1],\"yaxis\":\"y\"},{\"alignmentgroup\":\"True\",\"hovertemplate\":\"Department=EHS<br>Year=%{x}<br>Count=%{y}<extra></extra>\",\"legendgroup\":\"EHS\",\"marker\":{\"color\":\"#00cc96\",\"pattern\":{\"shape\":\"\"}},\"name\":\"EHS\",\"offsetgroup\":\"EHS\",\"orientation\":\"v\",\"showlegend\":true,\"textposition\":\"auto\",\"type\":\"bar\",\"x\":[2006,2007,2005,2004],\"xaxis\":\"x\",\"y\":[1,1,1,1],\"yaxis\":\"y\"},{\"alignmentgroup\":\"True\",\"hovertemplate\":\"Department=PFH<br>Year=%{x}<br>Count=%{y}<extra></extra>\",\"legendgroup\":\"PFH\",\"marker\":{\"color\":\"#ab63fa\",\"pattern\":{\"shape\":\"\"}},\"name\":\"PFH\",\"offsetgroup\":\"PFH\",\"orientation\":\"v\",\"showlegend\":true,\"textposition\":\"auto\",\"type\":\"bar\",\"x\":[2002,2007],\"xaxis\":\"x\",\"y\":[1,1],\"yaxis\":\"y\"}],                        {\"barmode\":\"relative\",\"legend\":{\"title\":{\"text\":\"Department\"},\"tracegroupgap\":0},\"template\":{\"data\":{\"bar\":[{\"error_x\":{\"color\":\"#2a3f5f\"},\"error_y\":{\"color\":\"#2a3f5f\"},\"marker\":{\"line\":{\"color\":\"#E5ECF6\",\"width\":0.5},\"pattern\":{\"fillmode\":\"overlay\",\"size\":10,\"solidity\":0.2}},\"type\":\"bar\"}],\"barpolar\":[{\"marker\":{\"line\":{\"color\":\"#E5ECF6\",\"width\":0.5},\"pattern\":{\"fillmode\":\"overlay\",\"size\":10,\"solidity\":0.2}},\"type\":\"barpolar\"}],\"carpet\":[{\"aaxis\":{\"endlinecolor\":\"#2a3f5f\",\"gridcolor\":\"white\",\"linecolor\":\"white\",\"minorgridcolor\":\"white\",\"startlinecolor\":\"#2a3f5f\"},\"baxis\":{\"endlinecolor\":\"#2a3f5f\",\"gridcolor\":\"white\",\"linecolor\":\"white\",\"minorgridcolor\":\"white\",\"startlinecolor\":\"#2a3f5f\"},\"type\":\"carpet\"}],\"choropleth\":[{\"colorbar\":{\"outlinewidth\":0,\"ticks\":\"\"},\"type\":\"choropleth\"}],\"contour\":[{\"colorbar\":{\"outlinewidth\":0,\"ticks\":\"\"},\"colorscale\":[[0.0,\"#0d0887\"],[0.1111111111111111,\"#46039f\"],[0.2222222222222222,\"#7201a8\"],[0.3333333333333333,\"#9c179e\"],[0.4444444444444444,\"#bd3786\"],[0.5555555555555556,\"#d8576b\"],[0.6666666666666666,\"#ed7953\"],[0.7777777777777778,\"#fb9f3a\"],[0.8888888888888888,\"#fdca26\"],[1.0,\"#f0f921\"]],\"type\":\"contour\"}],\"contourcarpet\":[{\"colorbar\":{\"outlinewidth\":0,\"ticks\":\"\"},\"type\":\"contourcarpet\"}],\"heatmap\":[{\"colorbar\":{\"outlinewidth\":0,\"ticks\":\"\"},\"colorscale\":[[0.0,\"#0d0887\"],[0.1111111111111111,\"#46039f\"],[0.2222222222222222,\"#7201a8\"],[0.3333333333333333,\"#9c179e\"],[0.4444444444444444,\"#bd3786\"],[0.5555555555555556,\"#d8576b\"],[0.6666666666666666,\"#ed7953\"],[0.7777777777777778,\"#fb9f3a\"],[0.8888888888888888,\"#fdca26\"],[1.0,\"#f0f921\"]],\"type\":\"heatmap\"}],\"heatmapgl\":[{\"colorbar\":{\"outlinewidth\":0,\"ticks\":\"\"},\"colorscale\":[[0.0,\"#0d0887\"],[0.1111111111111111,\"#46039f\"],[0.2222222222222222,\"#7201a8\"],[0.3333333333333333,\"#9c179e\"],[0.4444444444444444,\"#bd3786\"],[0.5555555555555556,\"#d8576b\"],[0.6666666666666666,\"#ed7953\"],[0.7777777777777778,\"#fb9f3a\"],[0.8888888888888888,\"#fdca26\"],[1.0,\"#f0f921\"]],\"type\":\"heatmapgl\"}],\"histogram\":[{\"marker\":{\"pattern\":{\"fillmode\":\"overlay\",\"size\":10,\"solidity\":0.2}},\"type\":\"histogram\"}],\"histogram2d\":[{\"colorbar\":{\"outlinewidth\":0,\"ticks\":\"\"},\"colorscale\":[[0.0,\"#0d0887\"],[0.1111111111111111,\"#46039f\"],[0.2222222222222222,\"#7201a8\"],[0.3333333333333333,\"#9c179e\"],[0.4444444444444444,\"#bd3786\"],[0.5555555555555556,\"#d8576b\"],[0.6666666666666666,\"#ed7953\"],[0.7777777777777778,\"#fb9f3a\"],[0.8888888888888888,\"#fdca26\"],[1.0,\"#f0f921\"]],\"type\":\"histogram2d\"}],\"histogram2dcontour\":[{\"colorbar\":{\"outlinewidth\":0,\"ticks\":\"\"},\"colorscale\":[[0.0,\"#0d0887\"],[0.1111111111111111,\"#46039f\"],[0.2222222222222222,\"#7201a8\"],[0.3333333333333333,\"#9c179e\"],[0.4444444444444444,\"#bd3786\"],[0.5555555555555556,\"#d8576b\"],[0.6666666666666666,\"#ed7953\"],[0.7777777777777778,\"#fb9f3a\"],[0.8888888888888888,\"#fdca26\"],[1.0,\"#f0f921\"]],\"type\":\"histogram2dcontour\"}],\"mesh3d\":[{\"colorbar\":{\"outlinewidth\":0,\"ticks\":\"\"},\"type\":\"mesh3d\"}],\"parcoords\":[{\"line\":{\"colorbar\":{\"outlinewidth\":0,\"ticks\":\"\"}},\"type\":\"parcoords\"}],\"pie\":[{\"automargin\":true,\"type\":\"pie\"}],\"scatter\":[{\"marker\":{\"colorbar\":{\"outlinewidth\":0,\"ticks\":\"\"}},\"type\":\"scatter\"}],\"scatter3d\":[{\"line\":{\"colorbar\":{\"outlinewidth\":0,\"ticks\":\"\"}},\"marker\":{\"colorbar\":{\"outlinewidth\":0,\"ticks\":\"\"}},\"type\":\"scatter3d\"}],\"scattercarpet\":[{\"marker\":{\"colorbar\":{\"outlinewidth\":0,\"ticks\":\"\"}},\"type\":\"scattercarpet\"}],\"scattergeo\":[{\"marker\":{\"colorbar\":{\"outlinewidth\":0,\"ticks\":\"\"}},\"type\":\"scattergeo\"}],\"scattergl\":[{\"marker\":{\"colorbar\":{\"outlinewidth\":0,\"ticks\":\"\"}},\"type\":\"scattergl\"}],\"scattermapbox\":[{\"marker\":{\"colorbar\":{\"outlinewidth\":0,\"ticks\":\"\"}},\"type\":\"scattermapbox\"}],\"scatterpolar\":[{\"marker\":{\"colorbar\":{\"outlinewidth\":0,\"ticks\":\"\"}},\"type\":\"scatterpolar\"}],\"scatterpolargl\":[{\"marker\":{\"colorbar\":{\"outlinewidth\":0,\"ticks\":\"\"}},\"type\":\"scatterpolargl\"}],\"scatterternary\":[{\"marker\":{\"colorbar\":{\"outlinewidth\":0,\"ticks\":\"\"}},\"type\":\"scatterternary\"}],\"surface\":[{\"colorbar\":{\"outlinewidth\":0,\"ticks\":\"\"},\"colorscale\":[[0.0,\"#0d0887\"],[0.1111111111111111,\"#46039f\"],[0.2222222222222222,\"#7201a8\"],[0.3333333333333333,\"#9c179e\"],[0.4444444444444444,\"#bd3786\"],[0.5555555555555556,\"#d8576b\"],[0.6666666666666666,\"#ed7953\"],[0.7777777777777778,\"#fb9f3a\"],[0.8888888888888888,\"#fdca26\"],[1.0,\"#f0f921\"]],\"type\":\"surface\"}],\"table\":[{\"cells\":{\"fill\":{\"color\":\"#EBF0F8\"},\"line\":{\"color\":\"white\"}},\"header\":{\"fill\":{\"color\":\"#C8D4E3\"},\"line\":{\"color\":\"white\"}},\"type\":\"table\"}]},\"layout\":{\"annotationdefaults\":{\"arrowcolor\":\"#2a3f5f\",\"arrowhead\":0,\"arrowwidth\":1},\"autotypenumbers\":\"strict\",\"coloraxis\":{\"colorbar\":{\"outlinewidth\":0,\"ticks\":\"\"}},\"colorscale\":{\"diverging\":[[0,\"#8e0152\"],[0.1,\"#c51b7d\"],[0.2,\"#de77ae\"],[0.3,\"#f1b6da\"],[0.4,\"#fde0ef\"],[0.5,\"#f7f7f7\"],[0.6,\"#e6f5d0\"],[0.7,\"#b8e186\"],[0.8,\"#7fbc41\"],[0.9,\"#4d9221\"],[1,\"#276419\"]],\"sequential\":[[0.0,\"#0d0887\"],[0.1111111111111111,\"#46039f\"],[0.2222222222222222,\"#7201a8\"],[0.3333333333333333,\"#9c179e\"],[0.4444444444444444,\"#bd3786\"],[0.5555555555555556,\"#d8576b\"],[0.6666666666666666,\"#ed7953\"],[0.7777777777777778,\"#fb9f3a\"],[0.8888888888888888,\"#fdca26\"],[1.0,\"#f0f921\"]],\"sequentialminus\":[[0.0,\"#0d0887\"],[0.1111111111111111,\"#46039f\"],[0.2222222222222222,\"#7201a8\"],[0.3333333333333333,\"#9c179e\"],[0.4444444444444444,\"#bd3786\"],[0.5555555555555556,\"#d8576b\"],[0.6666666666666666,\"#ed7953\"],[0.7777777777777778,\"#fb9f3a\"],[0.8888888888888888,\"#fdca26\"],[1.0,\"#f0f921\"]]},\"colorway\":[\"#636efa\",\"#EF553B\",\"#00cc96\",\"#ab63fa\",\"#FFA15A\",\"#19d3f3\",\"#FF6692\",\"#B6E880\",\"#FF97FF\",\"#FECB52\"],\"font\":{\"color\":\"#2a3f5f\"},\"geo\":{\"bgcolor\":\"white\",\"lakecolor\":\"white\",\"landcolor\":\"#E5ECF6\",\"showlakes\":true,\"showland\":true,\"subunitcolor\":\"white\"},\"hoverlabel\":{\"align\":\"left\"},\"hovermode\":\"closest\",\"mapbox\":{\"style\":\"light\"},\"paper_bgcolor\":\"white\",\"plot_bgcolor\":\"#E5ECF6\",\"polar\":{\"angularaxis\":{\"gridcolor\":\"white\",\"linecolor\":\"white\",\"ticks\":\"\"},\"bgcolor\":\"#E5ECF6\",\"radialaxis\":{\"gridcolor\":\"white\",\"linecolor\":\"white\",\"ticks\":\"\"}},\"scene\":{\"xaxis\":{\"backgroundcolor\":\"#E5ECF6\",\"gridcolor\":\"white\",\"gridwidth\":2,\"linecolor\":\"white\",\"showbackground\":true,\"ticks\":\"\",\"zerolinecolor\":\"white\"},\"yaxis\":{\"backgroundcolor\":\"#E5ECF6\",\"gridcolor\":\"white\",\"gridwidth\":2,\"linecolor\":\"white\",\"showbackground\":true,\"ticks\":\"\",\"zerolinecolor\":\"white\"},\"zaxis\":{\"backgroundcolor\":\"#E5ECF6\",\"gridcolor\":\"white\",\"gridwidth\":2,\"linecolor\":\"white\",\"showbackground\":true,\"ticks\":\"\",\"zerolinecolor\":\"white\"}},\"shapedefaults\":{\"line\":{\"color\":\"#2a3f5f\"}},\"ternary\":{\"aaxis\":{\"gridcolor\":\"white\",\"linecolor\":\"white\",\"ticks\":\"\"},\"baxis\":{\"gridcolor\":\"white\",\"linecolor\":\"white\",\"ticks\":\"\"},\"bgcolor\":\"#E5ECF6\",\"caxis\":{\"gridcolor\":\"white\",\"linecolor\":\"white\",\"ticks\":\"\"}},\"title\":{\"x\":0.05},\"xaxis\":{\"automargin\":true,\"gridcolor\":\"white\",\"linecolor\":\"white\",\"ticks\":\"\",\"title\":{\"standoff\":15},\"zerolinecolor\":\"white\",\"zerolinewidth\":2},\"yaxis\":{\"automargin\":true,\"gridcolor\":\"white\",\"linecolor\":\"white\",\"ticks\":\"\",\"title\":{\"standoff\":15},\"zerolinecolor\":\"white\",\"zerolinewidth\":2}}},\"title\":{\"text\":\"Prelim Exams / GBOs\"},\"xaxis\":{\"anchor\":\"y\",\"domain\":[0.0,1.0],\"title\":{\"text\":\"Year\"}},\"yaxis\":{\"anchor\":\"x\",\"domain\":[0.0,1.0],\"title\":{\"text\":\"Count\"}}},                        {\"responsive\": true}                    ).then(function(){\n",
       "                            \n",
       "var gd = document.getElementById('29e7bd57-9185-4ef5-82a1-c9e8d45daf8c');\n",
       "var x = new MutationObserver(function (mutations, observer) {{\n",
       "        var display = window.getComputedStyle(gd).display;\n",
       "        if (!display || display === 'none') {{\n",
       "            console.log([gd, 'removed!']);\n",
       "            Plotly.purge(gd);\n",
       "            observer.disconnect();\n",
       "        }}\n",
       "}});\n",
       "\n",
       "// Listen for the removal of the full notebook cells\n",
       "var notebookContainer = gd.closest('#notebook-container');\n",
       "if (notebookContainer) {{\n",
       "    x.observe(notebookContainer, {childList: true});\n",
       "}}\n",
       "\n",
       "// Listen for the clearing of the current output cell\n",
       "var outputEl = gd.closest('.output');\n",
       "if (outputEl) {{\n",
       "    x.observe(outputEl, {childList: true});\n",
       "}}\n",
       "\n",
       "                        })                };                });            </script>        </div>"
      ]
     },
     "metadata": {},
     "output_type": "display_data"
    }
   ],
   "source": [
    "exams = pd.read_csv(\"exams.csv\")\n",
    "exams['Exam'] = exams['Exam'].str.strip()\n",
    "exams['Department'] = exams['Department'].str.strip()\n",
    "exams = exams[ ['Year', 'Department', 'Exam'] ].value_counts().reset_index()\n",
    "exams = exams.rename(columns = {0 : 'Count'})\n",
    "\n",
    "fig = px.bar(exams[ exams['Exam'] == \"prelim\"], x = \"Year\", y = \"Count\", color = \"Department\", title = \"Prelim Exams / GBOs\")\n",
    "\n",
    "#exams.sort_values([\"Year\", \"Department\", \"Exam\"])\n",
    "#fig = px.scatter(exams, x=\"Year\", y=\"Count\", color=\"Department\", symbol = \"Exam\", title=\"Oral Exams\")\n",
    "fig.show()\n",
    "\n"
   ]
  },
  {
   "cell_type": "code",
   "execution_count": 196,
   "id": "107fbf8d-8f0d-4909-b2df-535a7fa5f04e",
   "metadata": {},
   "outputs": [
    {
     "data": {
      "application/vnd.plotly.v1+json": {
       "config": {
        "plotlyServerURL": "https://plot.ly"
       },
       "data": [
        {
         "alignmentgroup": "True",
         "hovertemplate": "Department=Biostat<br>Year=%{x}<br>Count=%{y}<extra></extra>",
         "legendgroup": "Biostat",
         "marker": {
          "color": "#636efa",
          "pattern": {
           "shape": ""
          }
         },
         "name": "Biostat",
         "offsetgroup": "Biostat",
         "orientation": "v",
         "showlegend": true,
         "textposition": "auto",
         "type": "bar",
         "x": [
          2016,
          2014,
          2005,
          2011,
          2008,
          2013,
          2021,
          2020,
          2006,
          2007
         ],
         "xaxis": "x",
         "y": [
          5,
          5,
          3,
          3,
          2,
          1,
          1,
          1,
          1,
          1
         ],
         "yaxis": "y"
        },
        {
         "alignmentgroup": "True",
         "hovertemplate": "Department=Epi<br>Year=%{x}<br>Count=%{y}<extra></extra>",
         "legendgroup": "Epi",
         "marker": {
          "color": "#EF553B",
          "pattern": {
           "shape": ""
          }
         },
         "name": "Epi",
         "offsetgroup": "Epi",
         "orientation": "v",
         "showlegend": true,
         "textposition": "auto",
         "type": "bar",
         "x": [
          2012,
          2011,
          2009,
          2008
         ],
         "xaxis": "x",
         "y": [
          4,
          1,
          1,
          1
         ],
         "yaxis": "y"
        },
        {
         "alignmentgroup": "True",
         "hovertemplate": "Department=GTPCI<br>Year=%{x}<br>Count=%{y}<extra></extra>",
         "legendgroup": "GTPCI",
         "marker": {
          "color": "#00cc96",
          "pattern": {
           "shape": ""
          }
         },
         "name": "GTPCI",
         "offsetgroup": "GTPCI",
         "orientation": "v",
         "showlegend": true,
         "textposition": "auto",
         "type": "bar",
         "x": [
          2019,
          2013,
          2015,
          2008
         ],
         "xaxis": "x",
         "y": [
          3,
          1,
          1,
          1
         ],
         "yaxis": "y"
        },
        {
         "alignmentgroup": "True",
         "hovertemplate": "Department=EHS<br>Year=%{x}<br>Count=%{y}<extra></extra>",
         "legendgroup": "EHS",
         "marker": {
          "color": "#ab63fa",
          "pattern": {
           "shape": ""
          }
         },
         "name": "EHS",
         "offsetgroup": "EHS",
         "orientation": "v",
         "showlegend": true,
         "textposition": "auto",
         "type": "bar",
         "x": [
          2009,
          2006,
          2008
         ],
         "xaxis": "x",
         "y": [
          2,
          1,
          1
         ],
         "yaxis": "y"
        },
        {
         "alignmentgroup": "True",
         "hovertemplate": "Department=PFRH<br>Year=%{x}<br>Count=%{y}<extra></extra>",
         "legendgroup": "PFRH",
         "marker": {
          "color": "#FFA15A",
          "pattern": {
           "shape": ""
          }
         },
         "name": "PFRH",
         "offsetgroup": "PFRH",
         "orientation": "v",
         "showlegend": true,
         "textposition": "auto",
         "type": "bar",
         "x": [
          2020,
          2018
         ],
         "xaxis": "x",
         "y": [
          2,
          1
         ],
         "yaxis": "y"
        },
        {
         "alignmentgroup": "True",
         "hovertemplate": "Department=PFHS<br>Year=%{x}<br>Count=%{y}<extra></extra>",
         "legendgroup": "PFHS",
         "marker": {
          "color": "#19d3f3",
          "pattern": {
           "shape": ""
          }
         },
         "name": "PFHS",
         "offsetgroup": "PFHS",
         "orientation": "v",
         "showlegend": true,
         "textposition": "auto",
         "type": "bar",
         "x": [
          2012
         ],
         "xaxis": "x",
         "y": [
          1
         ],
         "yaxis": "y"
        },
        {
         "alignmentgroup": "True",
         "hovertemplate": "Department=IH<br>Year=%{x}<br>Count=%{y}<extra></extra>",
         "legendgroup": "IH",
         "marker": {
          "color": "#FF6692",
          "pattern": {
           "shape": ""
          }
         },
         "name": "IH",
         "offsetgroup": "IH",
         "orientation": "v",
         "showlegend": true,
         "textposition": "auto",
         "type": "bar",
         "x": [
          2012,
          2013,
          2008
         ],
         "xaxis": "x",
         "y": [
          1,
          1,
          1
         ],
         "yaxis": "y"
        },
        {
         "alignmentgroup": "True",
         "hovertemplate": "Department=MH<br>Year=%{x}<br>Count=%{y}<extra></extra>",
         "legendgroup": "MH",
         "marker": {
          "color": "#B6E880",
          "pattern": {
           "shape": ""
          }
         },
         "name": "MH",
         "offsetgroup": "MH",
         "orientation": "v",
         "showlegend": true,
         "textposition": "auto",
         "type": "bar",
         "x": [
          2012,
          2014,
          2009
         ],
         "xaxis": "x",
         "y": [
          1,
          1,
          1
         ],
         "yaxis": "y"
        },
        {
         "alignmentgroup": "True",
         "hovertemplate": "Department=PFH<br>Year=%{x}<br>Count=%{y}<extra></extra>",
         "legendgroup": "PFH",
         "marker": {
          "color": "#FF97FF",
          "pattern": {
           "shape": ""
          }
         },
         "name": "PFH",
         "offsetgroup": "PFH",
         "orientation": "v",
         "showlegend": true,
         "textposition": "auto",
         "type": "bar",
         "x": [
          2005,
          2004
         ],
         "xaxis": "x",
         "y": [
          1,
          1
         ],
         "yaxis": "y"
        },
        {
         "alignmentgroup": "True",
         "hovertemplate": "Department=AMS<br>Year=%{x}<br>Count=%{y}<extra></extra>",
         "legendgroup": "AMS",
         "marker": {
          "color": "#FECB52",
          "pattern": {
           "shape": ""
          }
         },
         "name": "AMS",
         "offsetgroup": "AMS",
         "orientation": "v",
         "showlegend": true,
         "textposition": "auto",
         "type": "bar",
         "x": [
          2005
         ],
         "xaxis": "x",
         "y": [
          1
         ],
         "yaxis": "y"
        },
        {
         "alignmentgroup": "True",
         "hovertemplate": "Department=HPM<br>Year=%{x}<br>Count=%{y}<extra></extra>",
         "legendgroup": "HPM",
         "marker": {
          "color": "#636efa",
          "pattern": {
           "shape": ""
          }
         },
         "name": "HPM",
         "offsetgroup": "HPM",
         "orientation": "v",
         "showlegend": true,
         "textposition": "auto",
         "type": "bar",
         "x": [
          2004,
          2007
         ],
         "xaxis": "x",
         "y": [
          1,
          1
         ],
         "yaxis": "y"
        }
       ],
       "layout": {
        "autosize": true,
        "barmode": "relative",
        "legend": {
         "title": {
          "text": "Department"
         },
         "tracegroupgap": 0
        },
        "template": {
         "data": {
          "bar": [
           {
            "error_x": {
             "color": "#2a3f5f"
            },
            "error_y": {
             "color": "#2a3f5f"
            },
            "marker": {
             "line": {
              "color": "#E5ECF6",
              "width": 0.5
             },
             "pattern": {
              "fillmode": "overlay",
              "size": 10,
              "solidity": 0.2
             }
            },
            "type": "bar"
           }
          ],
          "barpolar": [
           {
            "marker": {
             "line": {
              "color": "#E5ECF6",
              "width": 0.5
             },
             "pattern": {
              "fillmode": "overlay",
              "size": 10,
              "solidity": 0.2
             }
            },
            "type": "barpolar"
           }
          ],
          "carpet": [
           {
            "aaxis": {
             "endlinecolor": "#2a3f5f",
             "gridcolor": "white",
             "linecolor": "white",
             "minorgridcolor": "white",
             "startlinecolor": "#2a3f5f"
            },
            "baxis": {
             "endlinecolor": "#2a3f5f",
             "gridcolor": "white",
             "linecolor": "white",
             "minorgridcolor": "white",
             "startlinecolor": "#2a3f5f"
            },
            "type": "carpet"
           }
          ],
          "choropleth": [
           {
            "colorbar": {
             "outlinewidth": 0,
             "ticks": ""
            },
            "type": "choropleth"
           }
          ],
          "contour": [
           {
            "colorbar": {
             "outlinewidth": 0,
             "ticks": ""
            },
            "colorscale": [
             [
              0,
              "#0d0887"
             ],
             [
              0.1111111111111111,
              "#46039f"
             ],
             [
              0.2222222222222222,
              "#7201a8"
             ],
             [
              0.3333333333333333,
              "#9c179e"
             ],
             [
              0.4444444444444444,
              "#bd3786"
             ],
             [
              0.5555555555555556,
              "#d8576b"
             ],
             [
              0.6666666666666666,
              "#ed7953"
             ],
             [
              0.7777777777777778,
              "#fb9f3a"
             ],
             [
              0.8888888888888888,
              "#fdca26"
             ],
             [
              1,
              "#f0f921"
             ]
            ],
            "type": "contour"
           }
          ],
          "contourcarpet": [
           {
            "colorbar": {
             "outlinewidth": 0,
             "ticks": ""
            },
            "type": "contourcarpet"
           }
          ],
          "heatmap": [
           {
            "colorbar": {
             "outlinewidth": 0,
             "ticks": ""
            },
            "colorscale": [
             [
              0,
              "#0d0887"
             ],
             [
              0.1111111111111111,
              "#46039f"
             ],
             [
              0.2222222222222222,
              "#7201a8"
             ],
             [
              0.3333333333333333,
              "#9c179e"
             ],
             [
              0.4444444444444444,
              "#bd3786"
             ],
             [
              0.5555555555555556,
              "#d8576b"
             ],
             [
              0.6666666666666666,
              "#ed7953"
             ],
             [
              0.7777777777777778,
              "#fb9f3a"
             ],
             [
              0.8888888888888888,
              "#fdca26"
             ],
             [
              1,
              "#f0f921"
             ]
            ],
            "type": "heatmap"
           }
          ],
          "heatmapgl": [
           {
            "colorbar": {
             "outlinewidth": 0,
             "ticks": ""
            },
            "colorscale": [
             [
              0,
              "#0d0887"
             ],
             [
              0.1111111111111111,
              "#46039f"
             ],
             [
              0.2222222222222222,
              "#7201a8"
             ],
             [
              0.3333333333333333,
              "#9c179e"
             ],
             [
              0.4444444444444444,
              "#bd3786"
             ],
             [
              0.5555555555555556,
              "#d8576b"
             ],
             [
              0.6666666666666666,
              "#ed7953"
             ],
             [
              0.7777777777777778,
              "#fb9f3a"
             ],
             [
              0.8888888888888888,
              "#fdca26"
             ],
             [
              1,
              "#f0f921"
             ]
            ],
            "type": "heatmapgl"
           }
          ],
          "histogram": [
           {
            "marker": {
             "pattern": {
              "fillmode": "overlay",
              "size": 10,
              "solidity": 0.2
             }
            },
            "type": "histogram"
           }
          ],
          "histogram2d": [
           {
            "colorbar": {
             "outlinewidth": 0,
             "ticks": ""
            },
            "colorscale": [
             [
              0,
              "#0d0887"
             ],
             [
              0.1111111111111111,
              "#46039f"
             ],
             [
              0.2222222222222222,
              "#7201a8"
             ],
             [
              0.3333333333333333,
              "#9c179e"
             ],
             [
              0.4444444444444444,
              "#bd3786"
             ],
             [
              0.5555555555555556,
              "#d8576b"
             ],
             [
              0.6666666666666666,
              "#ed7953"
             ],
             [
              0.7777777777777778,
              "#fb9f3a"
             ],
             [
              0.8888888888888888,
              "#fdca26"
             ],
             [
              1,
              "#f0f921"
             ]
            ],
            "type": "histogram2d"
           }
          ],
          "histogram2dcontour": [
           {
            "colorbar": {
             "outlinewidth": 0,
             "ticks": ""
            },
            "colorscale": [
             [
              0,
              "#0d0887"
             ],
             [
              0.1111111111111111,
              "#46039f"
             ],
             [
              0.2222222222222222,
              "#7201a8"
             ],
             [
              0.3333333333333333,
              "#9c179e"
             ],
             [
              0.4444444444444444,
              "#bd3786"
             ],
             [
              0.5555555555555556,
              "#d8576b"
             ],
             [
              0.6666666666666666,
              "#ed7953"
             ],
             [
              0.7777777777777778,
              "#fb9f3a"
             ],
             [
              0.8888888888888888,
              "#fdca26"
             ],
             [
              1,
              "#f0f921"
             ]
            ],
            "type": "histogram2dcontour"
           }
          ],
          "mesh3d": [
           {
            "colorbar": {
             "outlinewidth": 0,
             "ticks": ""
            },
            "type": "mesh3d"
           }
          ],
          "parcoords": [
           {
            "line": {
             "colorbar": {
              "outlinewidth": 0,
              "ticks": ""
             }
            },
            "type": "parcoords"
           }
          ],
          "pie": [
           {
            "automargin": true,
            "type": "pie"
           }
          ],
          "scatter": [
           {
            "marker": {
             "colorbar": {
              "outlinewidth": 0,
              "ticks": ""
             }
            },
            "type": "scatter"
           }
          ],
          "scatter3d": [
           {
            "line": {
             "colorbar": {
              "outlinewidth": 0,
              "ticks": ""
             }
            },
            "marker": {
             "colorbar": {
              "outlinewidth": 0,
              "ticks": ""
             }
            },
            "type": "scatter3d"
           }
          ],
          "scattercarpet": [
           {
            "marker": {
             "colorbar": {
              "outlinewidth": 0,
              "ticks": ""
             }
            },
            "type": "scattercarpet"
           }
          ],
          "scattergeo": [
           {
            "marker": {
             "colorbar": {
              "outlinewidth": 0,
              "ticks": ""
             }
            },
            "type": "scattergeo"
           }
          ],
          "scattergl": [
           {
            "marker": {
             "colorbar": {
              "outlinewidth": 0,
              "ticks": ""
             }
            },
            "type": "scattergl"
           }
          ],
          "scattermapbox": [
           {
            "marker": {
             "colorbar": {
              "outlinewidth": 0,
              "ticks": ""
             }
            },
            "type": "scattermapbox"
           }
          ],
          "scatterpolar": [
           {
            "marker": {
             "colorbar": {
              "outlinewidth": 0,
              "ticks": ""
             }
            },
            "type": "scatterpolar"
           }
          ],
          "scatterpolargl": [
           {
            "marker": {
             "colorbar": {
              "outlinewidth": 0,
              "ticks": ""
             }
            },
            "type": "scatterpolargl"
           }
          ],
          "scatterternary": [
           {
            "marker": {
             "colorbar": {
              "outlinewidth": 0,
              "ticks": ""
             }
            },
            "type": "scatterternary"
           }
          ],
          "surface": [
           {
            "colorbar": {
             "outlinewidth": 0,
             "ticks": ""
            },
            "colorscale": [
             [
              0,
              "#0d0887"
             ],
             [
              0.1111111111111111,
              "#46039f"
             ],
             [
              0.2222222222222222,
              "#7201a8"
             ],
             [
              0.3333333333333333,
              "#9c179e"
             ],
             [
              0.4444444444444444,
              "#bd3786"
             ],
             [
              0.5555555555555556,
              "#d8576b"
             ],
             [
              0.6666666666666666,
              "#ed7953"
             ],
             [
              0.7777777777777778,
              "#fb9f3a"
             ],
             [
              0.8888888888888888,
              "#fdca26"
             ],
             [
              1,
              "#f0f921"
             ]
            ],
            "type": "surface"
           }
          ],
          "table": [
           {
            "cells": {
             "fill": {
              "color": "#EBF0F8"
             },
             "line": {
              "color": "white"
             }
            },
            "header": {
             "fill": {
              "color": "#C8D4E3"
             },
             "line": {
              "color": "white"
             }
            },
            "type": "table"
           }
          ]
         },
         "layout": {
          "annotationdefaults": {
           "arrowcolor": "#2a3f5f",
           "arrowhead": 0,
           "arrowwidth": 1
          },
          "autotypenumbers": "strict",
          "coloraxis": {
           "colorbar": {
            "outlinewidth": 0,
            "ticks": ""
           }
          },
          "colorscale": {
           "diverging": [
            [
             0,
             "#8e0152"
            ],
            [
             0.1,
             "#c51b7d"
            ],
            [
             0.2,
             "#de77ae"
            ],
            [
             0.3,
             "#f1b6da"
            ],
            [
             0.4,
             "#fde0ef"
            ],
            [
             0.5,
             "#f7f7f7"
            ],
            [
             0.6,
             "#e6f5d0"
            ],
            [
             0.7,
             "#b8e186"
            ],
            [
             0.8,
             "#7fbc41"
            ],
            [
             0.9,
             "#4d9221"
            ],
            [
             1,
             "#276419"
            ]
           ],
           "sequential": [
            [
             0,
             "#0d0887"
            ],
            [
             0.1111111111111111,
             "#46039f"
            ],
            [
             0.2222222222222222,
             "#7201a8"
            ],
            [
             0.3333333333333333,
             "#9c179e"
            ],
            [
             0.4444444444444444,
             "#bd3786"
            ],
            [
             0.5555555555555556,
             "#d8576b"
            ],
            [
             0.6666666666666666,
             "#ed7953"
            ],
            [
             0.7777777777777778,
             "#fb9f3a"
            ],
            [
             0.8888888888888888,
             "#fdca26"
            ],
            [
             1,
             "#f0f921"
            ]
           ],
           "sequentialminus": [
            [
             0,
             "#0d0887"
            ],
            [
             0.1111111111111111,
             "#46039f"
            ],
            [
             0.2222222222222222,
             "#7201a8"
            ],
            [
             0.3333333333333333,
             "#9c179e"
            ],
            [
             0.4444444444444444,
             "#bd3786"
            ],
            [
             0.5555555555555556,
             "#d8576b"
            ],
            [
             0.6666666666666666,
             "#ed7953"
            ],
            [
             0.7777777777777778,
             "#fb9f3a"
            ],
            [
             0.8888888888888888,
             "#fdca26"
            ],
            [
             1,
             "#f0f921"
            ]
           ]
          },
          "colorway": [
           "#636efa",
           "#EF553B",
           "#00cc96",
           "#ab63fa",
           "#FFA15A",
           "#19d3f3",
           "#FF6692",
           "#B6E880",
           "#FF97FF",
           "#FECB52"
          ],
          "font": {
           "color": "#2a3f5f"
          },
          "geo": {
           "bgcolor": "white",
           "lakecolor": "white",
           "landcolor": "#E5ECF6",
           "showlakes": true,
           "showland": true,
           "subunitcolor": "white"
          },
          "hoverlabel": {
           "align": "left"
          },
          "hovermode": "closest",
          "mapbox": {
           "style": "light"
          },
          "paper_bgcolor": "white",
          "plot_bgcolor": "#E5ECF6",
          "polar": {
           "angularaxis": {
            "gridcolor": "white",
            "linecolor": "white",
            "ticks": ""
           },
           "bgcolor": "#E5ECF6",
           "radialaxis": {
            "gridcolor": "white",
            "linecolor": "white",
            "ticks": ""
           }
          },
          "scene": {
           "xaxis": {
            "backgroundcolor": "#E5ECF6",
            "gridcolor": "white",
            "gridwidth": 2,
            "linecolor": "white",
            "showbackground": true,
            "ticks": "",
            "zerolinecolor": "white"
           },
           "yaxis": {
            "backgroundcolor": "#E5ECF6",
            "gridcolor": "white",
            "gridwidth": 2,
            "linecolor": "white",
            "showbackground": true,
            "ticks": "",
            "zerolinecolor": "white"
           },
           "zaxis": {
            "backgroundcolor": "#E5ECF6",
            "gridcolor": "white",
            "gridwidth": 2,
            "linecolor": "white",
            "showbackground": true,
            "ticks": "",
            "zerolinecolor": "white"
           }
          },
          "shapedefaults": {
           "line": {
            "color": "#2a3f5f"
           }
          },
          "ternary": {
           "aaxis": {
            "gridcolor": "white",
            "linecolor": "white",
            "ticks": ""
           },
           "baxis": {
            "gridcolor": "white",
            "linecolor": "white",
            "ticks": ""
           },
           "bgcolor": "#E5ECF6",
           "caxis": {
            "gridcolor": "white",
            "linecolor": "white",
            "ticks": ""
           }
          },
          "title": {
           "x": 0.05
          },
          "xaxis": {
           "automargin": true,
           "gridcolor": "white",
           "linecolor": "white",
           "ticks": "",
           "title": {
            "standoff": 15
           },
           "zerolinecolor": "white",
           "zerolinewidth": 2
          },
          "yaxis": {
           "automargin": true,
           "gridcolor": "white",
           "linecolor": "white",
           "ticks": "",
           "title": {
            "standoff": 15
           },
           "zerolinecolor": "white",
           "zerolinewidth": 2
          }
         }
        },
        "title": {
         "text": "Final Exams"
        },
        "xaxis": {
         "anchor": "y",
         "autorange": true,
         "domain": [
          0,
          1
         ],
         "range": [
          2003.5,
          2021.5
         ],
         "title": {
          "text": "Year"
         },
         "type": "linear"
        },
        "yaxis": {
         "anchor": "x",
         "autorange": true,
         "domain": [
          0,
          1
         ],
         "range": [
          0,
          7.368421052631579
         ],
         "title": {
          "text": "Count"
         },
         "type": "linear"
        }
       }
      },
      "image/png": "[encoded data removed]",
      "text/html": [
       "<div>                            <div id=\"ec550086-a169-4d45-8625-9d35df1635c2\" class=\"plotly-graph-div\" style=\"height:525px; width:100%;\"></div>            <script type=\"text/javascript\">                require([\"plotly\"], function(Plotly) {                    window.PLOTLYENV=window.PLOTLYENV || {};                                    if (document.getElementById(\"ec550086-a169-4d45-8625-9d35df1635c2\")) {                    Plotly.newPlot(                        \"ec550086-a169-4d45-8625-9d35df1635c2\",                        [{\"alignmentgroup\":\"True\",\"hovertemplate\":\"Department=Biostat<br>Year=%{x}<br>Count=%{y}<extra></extra>\",\"legendgroup\":\"Biostat\",\"marker\":{\"color\":\"#636efa\",\"pattern\":{\"shape\":\"\"}},\"name\":\"Biostat\",\"offsetgroup\":\"Biostat\",\"orientation\":\"v\",\"showlegend\":true,\"textposition\":\"auto\",\"type\":\"bar\",\"x\":[2016,2014,2005,2011,2008,2013,2021,2020,2006,2007],\"xaxis\":\"x\",\"y\":[5,5,3,3,2,1,1,1,1,1],\"yaxis\":\"y\"},{\"alignmentgroup\":\"True\",\"hovertemplate\":\"Department=Epi<br>Year=%{x}<br>Count=%{y}<extra></extra>\",\"legendgroup\":\"Epi\",\"marker\":{\"color\":\"#EF553B\",\"pattern\":{\"shape\":\"\"}},\"name\":\"Epi\",\"offsetgroup\":\"Epi\",\"orientation\":\"v\",\"showlegend\":true,\"textposition\":\"auto\",\"type\":\"bar\",\"x\":[2012,2011,2009,2008],\"xaxis\":\"x\",\"y\":[4,1,1,1],\"yaxis\":\"y\"},{\"alignmentgroup\":\"True\",\"hovertemplate\":\"Department=GTPCI<br>Year=%{x}<br>Count=%{y}<extra></extra>\",\"legendgroup\":\"GTPCI\",\"marker\":{\"color\":\"#00cc96\",\"pattern\":{\"shape\":\"\"}},\"name\":\"GTPCI\",\"offsetgroup\":\"GTPCI\",\"orientation\":\"v\",\"showlegend\":true,\"textposition\":\"auto\",\"type\":\"bar\",\"x\":[2019,2013,2015,2008],\"xaxis\":\"x\",\"y\":[3,1,1,1],\"yaxis\":\"y\"},{\"alignmentgroup\":\"True\",\"hovertemplate\":\"Department=EHS<br>Year=%{x}<br>Count=%{y}<extra></extra>\",\"legendgroup\":\"EHS\",\"marker\":{\"color\":\"#ab63fa\",\"pattern\":{\"shape\":\"\"}},\"name\":\"EHS\",\"offsetgroup\":\"EHS\",\"orientation\":\"v\",\"showlegend\":true,\"textposition\":\"auto\",\"type\":\"bar\",\"x\":[2009,2006,2008],\"xaxis\":\"x\",\"y\":[2,1,1],\"yaxis\":\"y\"},{\"alignmentgroup\":\"True\",\"hovertemplate\":\"Department=PFRH<br>Year=%{x}<br>Count=%{y}<extra></extra>\",\"legendgroup\":\"PFRH\",\"marker\":{\"color\":\"#FFA15A\",\"pattern\":{\"shape\":\"\"}},\"name\":\"PFRH\",\"offsetgroup\":\"PFRH\",\"orientation\":\"v\",\"showlegend\":true,\"textposition\":\"auto\",\"type\":\"bar\",\"x\":[2020,2018],\"xaxis\":\"x\",\"y\":[2,1],\"yaxis\":\"y\"},{\"alignmentgroup\":\"True\",\"hovertemplate\":\"Department=PFHS<br>Year=%{x}<br>Count=%{y}<extra></extra>\",\"legendgroup\":\"PFHS\",\"marker\":{\"color\":\"#19d3f3\",\"pattern\":{\"shape\":\"\"}},\"name\":\"PFHS\",\"offsetgroup\":\"PFHS\",\"orientation\":\"v\",\"showlegend\":true,\"textposition\":\"auto\",\"type\":\"bar\",\"x\":[2012],\"xaxis\":\"x\",\"y\":[1],\"yaxis\":\"y\"},{\"alignmentgroup\":\"True\",\"hovertemplate\":\"Department=IH<br>Year=%{x}<br>Count=%{y}<extra></extra>\",\"legendgroup\":\"IH\",\"marker\":{\"color\":\"#FF6692\",\"pattern\":{\"shape\":\"\"}},\"name\":\"IH\",\"offsetgroup\":\"IH\",\"orientation\":\"v\",\"showlegend\":true,\"textposition\":\"auto\",\"type\":\"bar\",\"x\":[2012,2013,2008],\"xaxis\":\"x\",\"y\":[1,1,1],\"yaxis\":\"y\"},{\"alignmentgroup\":\"True\",\"hovertemplate\":\"Department=MH<br>Year=%{x}<br>Count=%{y}<extra></extra>\",\"legendgroup\":\"MH\",\"marker\":{\"color\":\"#B6E880\",\"pattern\":{\"shape\":\"\"}},\"name\":\"MH\",\"offsetgroup\":\"MH\",\"orientation\":\"v\",\"showlegend\":true,\"textposition\":\"auto\",\"type\":\"bar\",\"x\":[2012,2014,2009],\"xaxis\":\"x\",\"y\":[1,1,1],\"yaxis\":\"y\"},{\"alignmentgroup\":\"True\",\"hovertemplate\":\"Department=PFH<br>Year=%{x}<br>Count=%{y}<extra></extra>\",\"legendgroup\":\"PFH\",\"marker\":{\"color\":\"#FF97FF\",\"pattern\":{\"shape\":\"\"}},\"name\":\"PFH\",\"offsetgroup\":\"PFH\",\"orientation\":\"v\",\"showlegend\":true,\"textposition\":\"auto\",\"type\":\"bar\",\"x\":[2005,2004],\"xaxis\":\"x\",\"y\":[1,1],\"yaxis\":\"y\"},{\"alignmentgroup\":\"True\",\"hovertemplate\":\"Department=AMS<br>Year=%{x}<br>Count=%{y}<extra></extra>\",\"legendgroup\":\"AMS\",\"marker\":{\"color\":\"#FECB52\",\"pattern\":{\"shape\":\"\"}},\"name\":\"AMS\",\"offsetgroup\":\"AMS\",\"orientation\":\"v\",\"showlegend\":true,\"textposition\":\"auto\",\"type\":\"bar\",\"x\":[2005],\"xaxis\":\"x\",\"y\":[1],\"yaxis\":\"y\"},{\"alignmentgroup\":\"True\",\"hovertemplate\":\"Department=HPM<br>Year=%{x}<br>Count=%{y}<extra></extra>\",\"legendgroup\":\"HPM\",\"marker\":{\"color\":\"#636efa\",\"pattern\":{\"shape\":\"\"}},\"name\":\"HPM\",\"offsetgroup\":\"HPM\",\"orientation\":\"v\",\"showlegend\":true,\"textposition\":\"auto\",\"type\":\"bar\",\"x\":[2004,2007],\"xaxis\":\"x\",\"y\":[1,1],\"yaxis\":\"y\"}],                        {\"barmode\":\"relative\",\"legend\":{\"title\":{\"text\":\"Department\"},\"tracegroupgap\":0},\"template\":{\"data\":{\"bar\":[{\"error_x\":{\"color\":\"#2a3f5f\"},\"error_y\":{\"color\":\"#2a3f5f\"},\"marker\":{\"line\":{\"color\":\"#E5ECF6\",\"width\":0.5},\"pattern\":{\"fillmode\":\"overlay\",\"size\":10,\"solidity\":0.2}},\"type\":\"bar\"}],\"barpolar\":[{\"marker\":{\"line\":{\"color\":\"#E5ECF6\",\"width\":0.5},\"pattern\":{\"fillmode\":\"overlay\",\"size\":10,\"solidity\":0.2}},\"type\":\"barpolar\"}],\"carpet\":[{\"aaxis\":{\"endlinecolor\":\"#2a3f5f\",\"gridcolor\":\"white\",\"linecolor\":\"white\",\"minorgridcolor\":\"white\",\"startlinecolor\":\"#2a3f5f\"},\"baxis\":{\"endlinecolor\":\"#2a3f5f\",\"gridcolor\":\"white\",\"linecolor\":\"white\",\"minorgridcolor\":\"white\",\"startlinecolor\":\"#2a3f5f\"},\"type\":\"carpet\"}],\"choropleth\":[{\"colorbar\":{\"outlinewidth\":0,\"ticks\":\"\"},\"type\":\"choropleth\"}],\"contour\":[{\"colorbar\":{\"outlinewidth\":0,\"ticks\":\"\"},\"colorscale\":[[0.0,\"#0d0887\"],[0.1111111111111111,\"#46039f\"],[0.2222222222222222,\"#7201a8\"],[0.3333333333333333,\"#9c179e\"],[0.4444444444444444,\"#bd3786\"],[0.5555555555555556,\"#d8576b\"],[0.6666666666666666,\"#ed7953\"],[0.7777777777777778,\"#fb9f3a\"],[0.8888888888888888,\"#fdca26\"],[1.0,\"#f0f921\"]],\"type\":\"contour\"}],\"contourcarpet\":[{\"colorbar\":{\"outlinewidth\":0,\"ticks\":\"\"},\"type\":\"contourcarpet\"}],\"heatmap\":[{\"colorbar\":{\"outlinewidth\":0,\"ticks\":\"\"},\"colorscale\":[[0.0,\"#0d0887\"],[0.1111111111111111,\"#46039f\"],[0.2222222222222222,\"#7201a8\"],[0.3333333333333333,\"#9c179e\"],[0.4444444444444444,\"#bd3786\"],[0.5555555555555556,\"#d8576b\"],[0.6666666666666666,\"#ed7953\"],[0.7777777777777778,\"#fb9f3a\"],[0.8888888888888888,\"#fdca26\"],[1.0,\"#f0f921\"]],\"type\":\"heatmap\"}],\"heatmapgl\":[{\"colorbar\":{\"outlinewidth\":0,\"ticks\":\"\"},\"colorscale\":[[0.0,\"#0d0887\"],[0.1111111111111111,\"#46039f\"],[0.2222222222222222,\"#7201a8\"],[0.3333333333333333,\"#9c179e\"],[0.4444444444444444,\"#bd3786\"],[0.5555555555555556,\"#d8576b\"],[0.6666666666666666,\"#ed7953\"],[0.7777777777777778,\"#fb9f3a\"],[0.8888888888888888,\"#fdca26\"],[1.0,\"#f0f921\"]],\"type\":\"heatmapgl\"}],\"histogram\":[{\"marker\":{\"pattern\":{\"fillmode\":\"overlay\",\"size\":10,\"solidity\":0.2}},\"type\":\"histogram\"}],\"histogram2d\":[{\"colorbar\":{\"outlinewidth\":0,\"ticks\":\"\"},\"colorscale\":[[0.0,\"#0d0887\"],[0.1111111111111111,\"#46039f\"],[0.2222222222222222,\"#7201a8\"],[0.3333333333333333,\"#9c179e\"],[0.4444444444444444,\"#bd3786\"],[0.5555555555555556,\"#d8576b\"],[0.6666666666666666,\"#ed7953\"],[0.7777777777777778,\"#fb9f3a\"],[0.8888888888888888,\"#fdca26\"],[1.0,\"#f0f921\"]],\"type\":\"histogram2d\"}],\"histogram2dcontour\":[{\"colorbar\":{\"outlinewidth\":0,\"ticks\":\"\"},\"colorscale\":[[0.0,\"#0d0887\"],[0.1111111111111111,\"#46039f\"],[0.2222222222222222,\"#7201a8\"],[0.3333333333333333,\"#9c179e\"],[0.4444444444444444,\"#bd3786\"],[0.5555555555555556,\"#d8576b\"],[0.6666666666666666,\"#ed7953\"],[0.7777777777777778,\"#fb9f3a\"],[0.8888888888888888,\"#fdca26\"],[1.0,\"#f0f921\"]],\"type\":\"histogram2dcontour\"}],\"mesh3d\":[{\"colorbar\":{\"outlinewidth\":0,\"ticks\":\"\"},\"type\":\"mesh3d\"}],\"parcoords\":[{\"line\":{\"colorbar\":{\"outlinewidth\":0,\"ticks\":\"\"}},\"type\":\"parcoords\"}],\"pie\":[{\"automargin\":true,\"type\":\"pie\"}],\"scatter\":[{\"marker\":{\"colorbar\":{\"outlinewidth\":0,\"ticks\":\"\"}},\"type\":\"scatter\"}],\"scatter3d\":[{\"line\":{\"colorbar\":{\"outlinewidth\":0,\"ticks\":\"\"}},\"marker\":{\"colorbar\":{\"outlinewidth\":0,\"ticks\":\"\"}},\"type\":\"scatter3d\"}],\"scattercarpet\":[{\"marker\":{\"colorbar\":{\"outlinewidth\":0,\"ticks\":\"\"}},\"type\":\"scattercarpet\"}],\"scattergeo\":[{\"marker\":{\"colorbar\":{\"outlinewidth\":0,\"ticks\":\"\"}},\"type\":\"scattergeo\"}],\"scattergl\":[{\"marker\":{\"colorbar\":{\"outlinewidth\":0,\"ticks\":\"\"}},\"type\":\"scattergl\"}],\"scattermapbox\":[{\"marker\":{\"colorbar\":{\"outlinewidth\":0,\"ticks\":\"\"}},\"type\":\"scattermapbox\"}],\"scatterpolar\":[{\"marker\":{\"colorbar\":{\"outlinewidth\":0,\"ticks\":\"\"}},\"type\":\"scatterpolar\"}],\"scatterpolargl\":[{\"marker\":{\"colorbar\":{\"outlinewidth\":0,\"ticks\":\"\"}},\"type\":\"scatterpolargl\"}],\"scatterternary\":[{\"marker\":{\"colorbar\":{\"outlinewidth\":0,\"ticks\":\"\"}},\"type\":\"scatterternary\"}],\"surface\":[{\"colorbar\":{\"outlinewidth\":0,\"ticks\":\"\"},\"colorscale\":[[0.0,\"#0d0887\"],[0.1111111111111111,\"#46039f\"],[0.2222222222222222,\"#7201a8\"],[0.3333333333333333,\"#9c179e\"],[0.4444444444444444,\"#bd3786\"],[0.5555555555555556,\"#d8576b\"],[0.6666666666666666,\"#ed7953\"],[0.7777777777777778,\"#fb9f3a\"],[0.8888888888888888,\"#fdca26\"],[1.0,\"#f0f921\"]],\"type\":\"surface\"}],\"table\":[{\"cells\":{\"fill\":{\"color\":\"#EBF0F8\"},\"line\":{\"color\":\"white\"}},\"header\":{\"fill\":{\"color\":\"#C8D4E3\"},\"line\":{\"color\":\"white\"}},\"type\":\"table\"}]},\"layout\":{\"annotationdefaults\":{\"arrowcolor\":\"#2a3f5f\",\"arrowhead\":0,\"arrowwidth\":1},\"autotypenumbers\":\"strict\",\"coloraxis\":{\"colorbar\":{\"outlinewidth\":0,\"ticks\":\"\"}},\"colorscale\":{\"diverging\":[[0,\"#8e0152\"],[0.1,\"#c51b7d\"],[0.2,\"#de77ae\"],[0.3,\"#f1b6da\"],[0.4,\"#fde0ef\"],[0.5,\"#f7f7f7\"],[0.6,\"#e6f5d0\"],[0.7,\"#b8e186\"],[0.8,\"#7fbc41\"],[0.9,\"#4d9221\"],[1,\"#276419\"]],\"sequential\":[[0.0,\"#0d0887\"],[0.1111111111111111,\"#46039f\"],[0.2222222222222222,\"#7201a8\"],[0.3333333333333333,\"#9c179e\"],[0.4444444444444444,\"#bd3786\"],[0.5555555555555556,\"#d8576b\"],[0.6666666666666666,\"#ed7953\"],[0.7777777777777778,\"#fb9f3a\"],[0.8888888888888888,\"#fdca26\"],[1.0,\"#f0f921\"]],\"sequentialminus\":[[0.0,\"#0d0887\"],[0.1111111111111111,\"#46039f\"],[0.2222222222222222,\"#7201a8\"],[0.3333333333333333,\"#9c179e\"],[0.4444444444444444,\"#bd3786\"],[0.5555555555555556,\"#d8576b\"],[0.6666666666666666,\"#ed7953\"],[0.7777777777777778,\"#fb9f3a\"],[0.8888888888888888,\"#fdca26\"],[1.0,\"#f0f921\"]]},\"colorway\":[\"#636efa\",\"#EF553B\",\"#00cc96\",\"#ab63fa\",\"#FFA15A\",\"#19d3f3\",\"#FF6692\",\"#B6E880\",\"#FF97FF\",\"#FECB52\"],\"font\":{\"color\":\"#2a3f5f\"},\"geo\":{\"bgcolor\":\"white\",\"lakecolor\":\"white\",\"landcolor\":\"#E5ECF6\",\"showlakes\":true,\"showland\":true,\"subunitcolor\":\"white\"},\"hoverlabel\":{\"align\":\"left\"},\"hovermode\":\"closest\",\"mapbox\":{\"style\":\"light\"},\"paper_bgcolor\":\"white\",\"plot_bgcolor\":\"#E5ECF6\",\"polar\":{\"angularaxis\":{\"gridcolor\":\"white\",\"linecolor\":\"white\",\"ticks\":\"\"},\"bgcolor\":\"#E5ECF6\",\"radialaxis\":{\"gridcolor\":\"white\",\"linecolor\":\"white\",\"ticks\":\"\"}},\"scene\":{\"xaxis\":{\"backgroundcolor\":\"#E5ECF6\",\"gridcolor\":\"white\",\"gridwidth\":2,\"linecolor\":\"white\",\"showbackground\":true,\"ticks\":\"\",\"zerolinecolor\":\"white\"},\"yaxis\":{\"backgroundcolor\":\"#E5ECF6\",\"gridcolor\":\"white\",\"gridwidth\":2,\"linecolor\":\"white\",\"showbackground\":true,\"ticks\":\"\",\"zerolinecolor\":\"white\"},\"zaxis\":{\"backgroundcolor\":\"#E5ECF6\",\"gridcolor\":\"white\",\"gridwidth\":2,\"linecolor\":\"white\",\"showbackground\":true,\"ticks\":\"\",\"zerolinecolor\":\"white\"}},\"shapedefaults\":{\"line\":{\"color\":\"#2a3f5f\"}},\"ternary\":{\"aaxis\":{\"gridcolor\":\"white\",\"linecolor\":\"white\",\"ticks\":\"\"},\"baxis\":{\"gridcolor\":\"white\",\"linecolor\":\"white\",\"ticks\":\"\"},\"bgcolor\":\"#E5ECF6\",\"caxis\":{\"gridcolor\":\"white\",\"linecolor\":\"white\",\"ticks\":\"\"}},\"title\":{\"x\":0.05},\"xaxis\":{\"automargin\":true,\"gridcolor\":\"white\",\"linecolor\":\"white\",\"ticks\":\"\",\"title\":{\"standoff\":15},\"zerolinecolor\":\"white\",\"zerolinewidth\":2},\"yaxis\":{\"automargin\":true,\"gridcolor\":\"white\",\"linecolor\":\"white\",\"ticks\":\"\",\"title\":{\"standoff\":15},\"zerolinecolor\":\"white\",\"zerolinewidth\":2}}},\"title\":{\"text\":\"Final Exams\"},\"xaxis\":{\"anchor\":\"y\",\"domain\":[0.0,1.0],\"title\":{\"text\":\"Year\"}},\"yaxis\":{\"anchor\":\"x\",\"domain\":[0.0,1.0],\"title\":{\"text\":\"Count\"}}},                        {\"responsive\": true}                    ).then(function(){\n",
       "                            \n",
       "var gd = document.getElementById('ec550086-a169-4d45-8625-9d35df1635c2');\n",
       "var x = new MutationObserver(function (mutations, observer) {{\n",
       "        var display = window.getComputedStyle(gd).display;\n",
       "        if (!display || display === 'none') {{\n",
       "            console.log([gd, 'removed!']);\n",
       "            Plotly.purge(gd);\n",
       "            observer.disconnect();\n",
       "        }}\n",
       "}});\n",
       "\n",
       "// Listen for the removal of the full notebook cells\n",
       "var notebookContainer = gd.closest('#notebook-container');\n",
       "if (notebookContainer) {{\n",
       "    x.observe(notebookContainer, {childList: true});\n",
       "}}\n",
       "\n",
       "// Listen for the clearing of the current output cell\n",
       "var outputEl = gd.closest('.output');\n",
       "if (outputEl) {{\n",
       "    x.observe(outputEl, {childList: true});\n",
       "}}\n",
       "\n",
       "                        })                };                });            </script>        </div>"
      ]
     },
     "metadata": {},
     "output_type": "display_data"
    }
   ],
   "source": [
    "fig = px.bar(exams[ exams['Exam'] == \"final\"], x = \"Year\", y = \"Count\", color = \"Department\", title = \"Final Exams\")\n",
    "fig.show()\n"
   ]
  },
  {
   "cell_type": "code",
   "execution_count": 197,
   "id": "25779d5d-6133-4082-8ca9-4b012d51f043",
   "metadata": {},
   "outputs": [
    {
     "data": {
      "application/vnd.plotly.v1+json": {
       "config": {
        "plotlyServerURL": "https://plot.ly"
       },
       "data": [
        {
         "alignmentgroup": "True",
         "hovertemplate": "Department=Biostat<br>Year=%{x}<br>Count=%{y}<extra></extra>",
         "legendgroup": "Biostat",
         "marker": {
          "color": "#636efa",
          "pattern": {
           "shape": ""
          }
         },
         "name": "Biostat",
         "offsetgroup": "Biostat",
         "orientation": "v",
         "showlegend": true,
         "textposition": "auto",
         "type": "bar",
         "x": [
          2011,
          2005,
          2021,
          2012,
          2020,
          2004,
          2009,
          2010
         ],
         "xaxis": "x",
         "y": [
          2,
          2,
          2,
          1,
          1,
          1,
          1,
          1
         ],
         "yaxis": "y"
        },
        {
         "alignmentgroup": "True",
         "hovertemplate": "Department=GTPCI<br>Year=%{x}<br>Count=%{y}<extra></extra>",
         "legendgroup": "GTPCI",
         "marker": {
          "color": "#EF553B",
          "pattern": {
           "shape": ""
          }
         },
         "name": "GTPCI",
         "offsetgroup": "GTPCI",
         "orientation": "v",
         "showlegend": true,
         "textposition": "auto",
         "type": "bar",
         "x": [
          2012,
          2006
         ],
         "xaxis": "x",
         "y": [
          1,
          1
         ],
         "yaxis": "y"
        },
        {
         "alignmentgroup": "True",
         "hovertemplate": "Department=UMD Epi<br>Year=%{x}<br>Count=%{y}<extra></extra>",
         "legendgroup": "UMD Epi",
         "marker": {
          "color": "#00cc96",
          "pattern": {
           "shape": ""
          }
         },
         "name": "UMD Epi",
         "offsetgroup": "UMD Epi",
         "orientation": "v",
         "showlegend": true,
         "textposition": "auto",
         "type": "bar",
         "x": [
          2014
         ],
         "xaxis": "x",
         "y": [
          1
         ],
         "yaxis": "y"
        },
        {
         "alignmentgroup": "True",
         "hovertemplate": "Department=UC Denver Biostat<br>Year=%{x}<br>Count=%{y}<extra></extra>",
         "legendgroup": "UC Denver Biostat",
         "marker": {
          "color": "#ab63fa",
          "pattern": {
           "shape": ""
          }
         },
         "name": "UC Denver Biostat",
         "offsetgroup": "UC Denver Biostat",
         "orientation": "v",
         "showlegend": true,
         "textposition": "auto",
         "type": "bar",
         "x": [
          2006
         ],
         "xaxis": "x",
         "y": [
          1
         ],
         "yaxis": "y"
        },
        {
         "alignmentgroup": "True",
         "hovertemplate": "Department=Epi<br>Year=%{x}<br>Count=%{y}<extra></extra>",
         "legendgroup": "Epi",
         "marker": {
          "color": "#FFA15A",
          "pattern": {
           "shape": ""
          }
         },
         "name": "Epi",
         "offsetgroup": "Epi",
         "orientation": "v",
         "showlegend": true,
         "textposition": "auto",
         "type": "bar",
         "x": [
          2009
         ],
         "xaxis": "x",
         "y": [
          1
         ],
         "yaxis": "y"
        }
       ],
       "layout": {
        "autosize": true,
        "barmode": "relative",
        "legend": {
         "title": {
          "text": "Department"
         },
         "tracegroupgap": 0
        },
        "template": {
         "data": {
          "bar": [
           {
            "error_x": {
             "color": "#2a3f5f"
            },
            "error_y": {
             "color": "#2a3f5f"
            },
            "marker": {
             "line": {
              "color": "#E5ECF6",
              "width": 0.5
             },
             "pattern": {
              "fillmode": "overlay",
              "size": 10,
              "solidity": 0.2
             }
            },
            "type": "bar"
           }
          ],
          "barpolar": [
           {
            "marker": {
             "line": {
              "color": "#E5ECF6",
              "width": 0.5
             },
             "pattern": {
              "fillmode": "overlay",
              "size": 10,
              "solidity": 0.2
             }
            },
            "type": "barpolar"
           }
          ],
          "carpet": [
           {
            "aaxis": {
             "endlinecolor": "#2a3f5f",
             "gridcolor": "white",
             "linecolor": "white",
             "minorgridcolor": "white",
             "startlinecolor": "#2a3f5f"
            },
            "baxis": {
             "endlinecolor": "#2a3f5f",
             "gridcolor": "white",
             "linecolor": "white",
             "minorgridcolor": "white",
             "startlinecolor": "#2a3f5f"
            },
            "type": "carpet"
           }
          ],
          "choropleth": [
           {
            "colorbar": {
             "outlinewidth": 0,
             "ticks": ""
            },
            "type": "choropleth"
           }
          ],
          "contour": [
           {
            "colorbar": {
             "outlinewidth": 0,
             "ticks": ""
            },
            "colorscale": [
             [
              0,
              "#0d0887"
             ],
             [
              0.1111111111111111,
              "#46039f"
             ],
             [
              0.2222222222222222,
              "#7201a8"
             ],
             [
              0.3333333333333333,
              "#9c179e"
             ],
             [
              0.4444444444444444,
              "#bd3786"
             ],
             [
              0.5555555555555556,
              "#d8576b"
             ],
             [
              0.6666666666666666,
              "#ed7953"
             ],
             [
              0.7777777777777778,
              "#fb9f3a"
             ],
             [
              0.8888888888888888,
              "#fdca26"
             ],
             [
              1,
              "#f0f921"
             ]
            ],
            "type": "contour"
           }
          ],
          "contourcarpet": [
           {
            "colorbar": {
             "outlinewidth": 0,
             "ticks": ""
            },
            "type": "contourcarpet"
           }
          ],
          "heatmap": [
           {
            "colorbar": {
             "outlinewidth": 0,
             "ticks": ""
            },
            "colorscale": [
             [
              0,
              "#0d0887"
             ],
             [
              0.1111111111111111,
              "#46039f"
             ],
             [
              0.2222222222222222,
              "#7201a8"
             ],
             [
              0.3333333333333333,
              "#9c179e"
             ],
             [
              0.4444444444444444,
              "#bd3786"
             ],
             [
              0.5555555555555556,
              "#d8576b"
             ],
             [
              0.6666666666666666,
              "#ed7953"
             ],
             [
              0.7777777777777778,
              "#fb9f3a"
             ],
             [
              0.8888888888888888,
              "#fdca26"
             ],
             [
              1,
              "#f0f921"
             ]
            ],
            "type": "heatmap"
           }
          ],
          "heatmapgl": [
           {
            "colorbar": {
             "outlinewidth": 0,
             "ticks": ""
            },
            "colorscale": [
             [
              0,
              "#0d0887"
             ],
             [
              0.1111111111111111,
              "#46039f"
             ],
             [
              0.2222222222222222,
              "#7201a8"
             ],
             [
              0.3333333333333333,
              "#9c179e"
             ],
             [
              0.4444444444444444,
              "#bd3786"
             ],
             [
              0.5555555555555556,
              "#d8576b"
             ],
             [
              0.6666666666666666,
              "#ed7953"
             ],
             [
              0.7777777777777778,
              "#fb9f3a"
             ],
             [
              0.8888888888888888,
              "#fdca26"
             ],
             [
              1,
              "#f0f921"
             ]
            ],
            "type": "heatmapgl"
           }
          ],
          "histogram": [
           {
            "marker": {
             "pattern": {
              "fillmode": "overlay",
              "size": 10,
              "solidity": 0.2
             }
            },
            "type": "histogram"
           }
          ],
          "histogram2d": [
           {
            "colorbar": {
             "outlinewidth": 0,
             "ticks": ""
            },
            "colorscale": [
             [
              0,
              "#0d0887"
             ],
             [
              0.1111111111111111,
              "#46039f"
             ],
             [
              0.2222222222222222,
              "#7201a8"
             ],
             [
              0.3333333333333333,
              "#9c179e"
             ],
             [
              0.4444444444444444,
              "#bd3786"
             ],
             [
              0.5555555555555556,
              "#d8576b"
             ],
             [
              0.6666666666666666,
              "#ed7953"
             ],
             [
              0.7777777777777778,
              "#fb9f3a"
             ],
             [
              0.8888888888888888,
              "#fdca26"
             ],
             [
              1,
              "#f0f921"
             ]
            ],
            "type": "histogram2d"
           }
          ],
          "histogram2dcontour": [
           {
            "colorbar": {
             "outlinewidth": 0,
             "ticks": ""
            },
            "colorscale": [
             [
              0,
              "#0d0887"
             ],
             [
              0.1111111111111111,
              "#46039f"
             ],
             [
              0.2222222222222222,
              "#7201a8"
             ],
             [
              0.3333333333333333,
              "#9c179e"
             ],
             [
              0.4444444444444444,
              "#bd3786"
             ],
             [
              0.5555555555555556,
              "#d8576b"
             ],
             [
              0.6666666666666666,
              "#ed7953"
             ],
             [
              0.7777777777777778,
              "#fb9f3a"
             ],
             [
              0.8888888888888888,
              "#fdca26"
             ],
             [
              1,
              "#f0f921"
             ]
            ],
            "type": "histogram2dcontour"
           }
          ],
          "mesh3d": [
           {
            "colorbar": {
             "outlinewidth": 0,
             "ticks": ""
            },
            "type": "mesh3d"
           }
          ],
          "parcoords": [
           {
            "line": {
             "colorbar": {
              "outlinewidth": 0,
              "ticks": ""
             }
            },
            "type": "parcoords"
           }
          ],
          "pie": [
           {
            "automargin": true,
            "type": "pie"
           }
          ],
          "scatter": [
           {
            "marker": {
             "colorbar": {
              "outlinewidth": 0,
              "ticks": ""
             }
            },
            "type": "scatter"
           }
          ],
          "scatter3d": [
           {
            "line": {
             "colorbar": {
              "outlinewidth": 0,
              "ticks": ""
             }
            },
            "marker": {
             "colorbar": {
              "outlinewidth": 0,
              "ticks": ""
             }
            },
            "type": "scatter3d"
           }
          ],
          "scattercarpet": [
           {
            "marker": {
             "colorbar": {
              "outlinewidth": 0,
              "ticks": ""
             }
            },
            "type": "scattercarpet"
           }
          ],
          "scattergeo": [
           {
            "marker": {
             "colorbar": {
              "outlinewidth": 0,
              "ticks": ""
             }
            },
            "type": "scattergeo"
           }
          ],
          "scattergl": [
           {
            "marker": {
             "colorbar": {
              "outlinewidth": 0,
              "ticks": ""
             }
            },
            "type": "scattergl"
           }
          ],
          "scattermapbox": [
           {
            "marker": {
             "colorbar": {
              "outlinewidth": 0,
              "ticks": ""
             }
            },
            "type": "scattermapbox"
           }
          ],
          "scatterpolar": [
           {
            "marker": {
             "colorbar": {
              "outlinewidth": 0,
              "ticks": ""
             }
            },
            "type": "scatterpolar"
           }
          ],
          "scatterpolargl": [
           {
            "marker": {
             "colorbar": {
              "outlinewidth": 0,
              "ticks": ""
             }
            },
            "type": "scatterpolargl"
           }
          ],
          "scatterternary": [
           {
            "marker": {
             "colorbar": {
              "outlinewidth": 0,
              "ticks": ""
             }
            },
            "type": "scatterternary"
           }
          ],
          "surface": [
           {
            "colorbar": {
             "outlinewidth": 0,
             "ticks": ""
            },
            "colorscale": [
             [
              0,
              "#0d0887"
             ],
             [
              0.1111111111111111,
              "#46039f"
             ],
             [
              0.2222222222222222,
              "#7201a8"
             ],
             [
              0.3333333333333333,
              "#9c179e"
             ],
             [
              0.4444444444444444,
              "#bd3786"
             ],
             [
              0.5555555555555556,
              "#d8576b"
             ],
             [
              0.6666666666666666,
              "#ed7953"
             ],
             [
              0.7777777777777778,
              "#fb9f3a"
             ],
             [
              0.8888888888888888,
              "#fdca26"
             ],
             [
              1,
              "#f0f921"
             ]
            ],
            "type": "surface"
           }
          ],
          "table": [
           {
            "cells": {
             "fill": {
              "color": "#EBF0F8"
             },
             "line": {
              "color": "white"
             }
            },
            "header": {
             "fill": {
              "color": "#C8D4E3"
             },
             "line": {
              "color": "white"
             }
            },
            "type": "table"
           }
          ]
         },
         "layout": {
          "annotationdefaults": {
           "arrowcolor": "#2a3f5f",
           "arrowhead": 0,
           "arrowwidth": 1
          },
          "autotypenumbers": "strict",
          "coloraxis": {
           "colorbar": {
            "outlinewidth": 0,
            "ticks": ""
           }
          },
          "colorscale": {
           "diverging": [
            [
             0,
             "#8e0152"
            ],
            [
             0.1,
             "#c51b7d"
            ],
            [
             0.2,
             "#de77ae"
            ],
            [
             0.3,
             "#f1b6da"
            ],
            [
             0.4,
             "#fde0ef"
            ],
            [
             0.5,
             "#f7f7f7"
            ],
            [
             0.6,
             "#e6f5d0"
            ],
            [
             0.7,
             "#b8e186"
            ],
            [
             0.8,
             "#7fbc41"
            ],
            [
             0.9,
             "#4d9221"
            ],
            [
             1,
             "#276419"
            ]
           ],
           "sequential": [
            [
             0,
             "#0d0887"
            ],
            [
             0.1111111111111111,
             "#46039f"
            ],
            [
             0.2222222222222222,
             "#7201a8"
            ],
            [
             0.3333333333333333,
             "#9c179e"
            ],
            [
             0.4444444444444444,
             "#bd3786"
            ],
            [
             0.5555555555555556,
             "#d8576b"
            ],
            [
             0.6666666666666666,
             "#ed7953"
            ],
            [
             0.7777777777777778,
             "#fb9f3a"
            ],
            [
             0.8888888888888888,
             "#fdca26"
            ],
            [
             1,
             "#f0f921"
            ]
           ],
           "sequentialminus": [
            [
             0,
             "#0d0887"
            ],
            [
             0.1111111111111111,
             "#46039f"
            ],
            [
             0.2222222222222222,
             "#7201a8"
            ],
            [
             0.3333333333333333,
             "#9c179e"
            ],
            [
             0.4444444444444444,
             "#bd3786"
            ],
            [
             0.5555555555555556,
             "#d8576b"
            ],
            [
             0.6666666666666666,
             "#ed7953"
            ],
            [
             0.7777777777777778,
             "#fb9f3a"
            ],
            [
             0.8888888888888888,
             "#fdca26"
            ],
            [
             1,
             "#f0f921"
            ]
           ]
          },
          "colorway": [
           "#636efa",
           "#EF553B",
           "#00cc96",
           "#ab63fa",
           "#FFA15A",
           "#19d3f3",
           "#FF6692",
           "#B6E880",
           "#FF97FF",
           "#FECB52"
          ],
          "font": {
           "color": "#2a3f5f"
          },
          "geo": {
           "bgcolor": "white",
           "lakecolor": "white",
           "landcolor": "#E5ECF6",
           "showlakes": true,
           "showland": true,
           "subunitcolor": "white"
          },
          "hoverlabel": {
           "align": "left"
          },
          "hovermode": "closest",
          "mapbox": {
           "style": "light"
          },
          "paper_bgcolor": "white",
          "plot_bgcolor": "#E5ECF6",
          "polar": {
           "angularaxis": {
            "gridcolor": "white",
            "linecolor": "white",
            "ticks": ""
           },
           "bgcolor": "#E5ECF6",
           "radialaxis": {
            "gridcolor": "white",
            "linecolor": "white",
            "ticks": ""
           }
          },
          "scene": {
           "xaxis": {
            "backgroundcolor": "#E5ECF6",
            "gridcolor": "white",
            "gridwidth": 2,
            "linecolor": "white",
            "showbackground": true,
            "ticks": "",
            "zerolinecolor": "white"
           },
           "yaxis": {
            "backgroundcolor": "#E5ECF6",
            "gridcolor": "white",
            "gridwidth": 2,
            "linecolor": "white",
            "showbackground": true,
            "ticks": "",
            "zerolinecolor": "white"
           },
           "zaxis": {
            "backgroundcolor": "#E5ECF6",
            "gridcolor": "white",
            "gridwidth": 2,
            "linecolor": "white",
            "showbackground": true,
            "ticks": "",
            "zerolinecolor": "white"
           }
          },
          "shapedefaults": {
           "line": {
            "color": "#2a3f5f"
           }
          },
          "ternary": {
           "aaxis": {
            "gridcolor": "white",
            "linecolor": "white",
            "ticks": ""
           },
           "baxis": {
            "gridcolor": "white",
            "linecolor": "white",
            "ticks": ""
           },
           "bgcolor": "#E5ECF6",
           "caxis": {
            "gridcolor": "white",
            "linecolor": "white",
            "ticks": ""
           }
          },
          "title": {
           "x": 0.05
          },
          "xaxis": {
           "automargin": true,
           "gridcolor": "white",
           "linecolor": "white",
           "ticks": "",
           "title": {
            "standoff": 15
           },
           "zerolinecolor": "white",
           "zerolinewidth": 2
          },
          "yaxis": {
           "automargin": true,
           "gridcolor": "white",
           "linecolor": "white",
           "ticks": "",
           "title": {
            "standoff": 15
           },
           "zerolinecolor": "white",
           "zerolinewidth": 2
          }
         }
        },
        "title": {
         "text": "Masters reader"
        },
        "xaxis": {
         "anchor": "y",
         "autorange": true,
         "domain": [
          0,
          1
         ],
         "range": [
          2003.5,
          2021.5
         ],
         "title": {
          "text": "Year"
         },
         "type": "linear"
        },
        "yaxis": {
         "anchor": "x",
         "autorange": true,
         "domain": [
          0,
          1
         ],
         "range": [
          0,
          2.1052631578947367
         ],
         "title": {
          "text": "Count"
         },
         "type": "linear"
        }
       }
      },
      "image/png": "[encoded data removed]",
      "text/html": [
       "<div>                            <div id=\"aadfa629-a8b7-45db-a84f-40fa7ab2397f\" class=\"plotly-graph-div\" style=\"height:525px; width:100%;\"></div>            <script type=\"text/javascript\">                require([\"plotly\"], function(Plotly) {                    window.PLOTLYENV=window.PLOTLYENV || {};                                    if (document.getElementById(\"aadfa629-a8b7-45db-a84f-40fa7ab2397f\")) {                    Plotly.newPlot(                        \"aadfa629-a8b7-45db-a84f-40fa7ab2397f\",                        [{\"alignmentgroup\":\"True\",\"hovertemplate\":\"Department=Biostat<br>Year=%{x}<br>Count=%{y}<extra></extra>\",\"legendgroup\":\"Biostat\",\"marker\":{\"color\":\"#636efa\",\"pattern\":{\"shape\":\"\"}},\"name\":\"Biostat\",\"offsetgroup\":\"Biostat\",\"orientation\":\"v\",\"showlegend\":true,\"textposition\":\"auto\",\"type\":\"bar\",\"x\":[2011,2005,2021,2012,2020,2004,2009,2010],\"xaxis\":\"x\",\"y\":[2,2,2,1,1,1,1,1],\"yaxis\":\"y\"},{\"alignmentgroup\":\"True\",\"hovertemplate\":\"Department=GTPCI<br>Year=%{x}<br>Count=%{y}<extra></extra>\",\"legendgroup\":\"GTPCI\",\"marker\":{\"color\":\"#EF553B\",\"pattern\":{\"shape\":\"\"}},\"name\":\"GTPCI\",\"offsetgroup\":\"GTPCI\",\"orientation\":\"v\",\"showlegend\":true,\"textposition\":\"auto\",\"type\":\"bar\",\"x\":[2012,2006],\"xaxis\":\"x\",\"y\":[1,1],\"yaxis\":\"y\"},{\"alignmentgroup\":\"True\",\"hovertemplate\":\"Department=UMD Epi<br>Year=%{x}<br>Count=%{y}<extra></extra>\",\"legendgroup\":\"UMD Epi\",\"marker\":{\"color\":\"#00cc96\",\"pattern\":{\"shape\":\"\"}},\"name\":\"UMD Epi\",\"offsetgroup\":\"UMD Epi\",\"orientation\":\"v\",\"showlegend\":true,\"textposition\":\"auto\",\"type\":\"bar\",\"x\":[2014],\"xaxis\":\"x\",\"y\":[1],\"yaxis\":\"y\"},{\"alignmentgroup\":\"True\",\"hovertemplate\":\"Department=UC Denver Biostat<br>Year=%{x}<br>Count=%{y}<extra></extra>\",\"legendgroup\":\"UC Denver Biostat\",\"marker\":{\"color\":\"#ab63fa\",\"pattern\":{\"shape\":\"\"}},\"name\":\"UC Denver Biostat\",\"offsetgroup\":\"UC Denver Biostat\",\"orientation\":\"v\",\"showlegend\":true,\"textposition\":\"auto\",\"type\":\"bar\",\"x\":[2006],\"xaxis\":\"x\",\"y\":[1],\"yaxis\":\"y\"},{\"alignmentgroup\":\"True\",\"hovertemplate\":\"Department=Epi<br>Year=%{x}<br>Count=%{y}<extra></extra>\",\"legendgroup\":\"Epi\",\"marker\":{\"color\":\"#FFA15A\",\"pattern\":{\"shape\":\"\"}},\"name\":\"Epi\",\"offsetgroup\":\"Epi\",\"orientation\":\"v\",\"showlegend\":true,\"textposition\":\"auto\",\"type\":\"bar\",\"x\":[2009],\"xaxis\":\"x\",\"y\":[1],\"yaxis\":\"y\"}],                        {\"barmode\":\"relative\",\"legend\":{\"title\":{\"text\":\"Department\"},\"tracegroupgap\":0},\"template\":{\"data\":{\"bar\":[{\"error_x\":{\"color\":\"#2a3f5f\"},\"error_y\":{\"color\":\"#2a3f5f\"},\"marker\":{\"line\":{\"color\":\"#E5ECF6\",\"width\":0.5},\"pattern\":{\"fillmode\":\"overlay\",\"size\":10,\"solidity\":0.2}},\"type\":\"bar\"}],\"barpolar\":[{\"marker\":{\"line\":{\"color\":\"#E5ECF6\",\"width\":0.5},\"pattern\":{\"fillmode\":\"overlay\",\"size\":10,\"solidity\":0.2}},\"type\":\"barpolar\"}],\"carpet\":[{\"aaxis\":{\"endlinecolor\":\"#2a3f5f\",\"gridcolor\":\"white\",\"linecolor\":\"white\",\"minorgridcolor\":\"white\",\"startlinecolor\":\"#2a3f5f\"},\"baxis\":{\"endlinecolor\":\"#2a3f5f\",\"gridcolor\":\"white\",\"linecolor\":\"white\",\"minorgridcolor\":\"white\",\"startlinecolor\":\"#2a3f5f\"},\"type\":\"carpet\"}],\"choropleth\":[{\"colorbar\":{\"outlinewidth\":0,\"ticks\":\"\"},\"type\":\"choropleth\"}],\"contour\":[{\"colorbar\":{\"outlinewidth\":0,\"ticks\":\"\"},\"colorscale\":[[0.0,\"#0d0887\"],[0.1111111111111111,\"#46039f\"],[0.2222222222222222,\"#7201a8\"],[0.3333333333333333,\"#9c179e\"],[0.4444444444444444,\"#bd3786\"],[0.5555555555555556,\"#d8576b\"],[0.6666666666666666,\"#ed7953\"],[0.7777777777777778,\"#fb9f3a\"],[0.8888888888888888,\"#fdca26\"],[1.0,\"#f0f921\"]],\"type\":\"contour\"}],\"contourcarpet\":[{\"colorbar\":{\"outlinewidth\":0,\"ticks\":\"\"},\"type\":\"contourcarpet\"}],\"heatmap\":[{\"colorbar\":{\"outlinewidth\":0,\"ticks\":\"\"},\"colorscale\":[[0.0,\"#0d0887\"],[0.1111111111111111,\"#46039f\"],[0.2222222222222222,\"#7201a8\"],[0.3333333333333333,\"#9c179e\"],[0.4444444444444444,\"#bd3786\"],[0.5555555555555556,\"#d8576b\"],[0.6666666666666666,\"#ed7953\"],[0.7777777777777778,\"#fb9f3a\"],[0.8888888888888888,\"#fdca26\"],[1.0,\"#f0f921\"]],\"type\":\"heatmap\"}],\"heatmapgl\":[{\"colorbar\":{\"outlinewidth\":0,\"ticks\":\"\"},\"colorscale\":[[0.0,\"#0d0887\"],[0.1111111111111111,\"#46039f\"],[0.2222222222222222,\"#7201a8\"],[0.3333333333333333,\"#9c179e\"],[0.4444444444444444,\"#bd3786\"],[0.5555555555555556,\"#d8576b\"],[0.6666666666666666,\"#ed7953\"],[0.7777777777777778,\"#fb9f3a\"],[0.8888888888888888,\"#fdca26\"],[1.0,\"#f0f921\"]],\"type\":\"heatmapgl\"}],\"histogram\":[{\"marker\":{\"pattern\":{\"fillmode\":\"overlay\",\"size\":10,\"solidity\":0.2}},\"type\":\"histogram\"}],\"histogram2d\":[{\"colorbar\":{\"outlinewidth\":0,\"ticks\":\"\"},\"colorscale\":[[0.0,\"#0d0887\"],[0.1111111111111111,\"#46039f\"],[0.2222222222222222,\"#7201a8\"],[0.3333333333333333,\"#9c179e\"],[0.4444444444444444,\"#bd3786\"],[0.5555555555555556,\"#d8576b\"],[0.6666666666666666,\"#ed7953\"],[0.7777777777777778,\"#fb9f3a\"],[0.8888888888888888,\"#fdca26\"],[1.0,\"#f0f921\"]],\"type\":\"histogram2d\"}],\"histogram2dcontour\":[{\"colorbar\":{\"outlinewidth\":0,\"ticks\":\"\"},\"colorscale\":[[0.0,\"#0d0887\"],[0.1111111111111111,\"#46039f\"],[0.2222222222222222,\"#7201a8\"],[0.3333333333333333,\"#9c179e\"],[0.4444444444444444,\"#bd3786\"],[0.5555555555555556,\"#d8576b\"],[0.6666666666666666,\"#ed7953\"],[0.7777777777777778,\"#fb9f3a\"],[0.8888888888888888,\"#fdca26\"],[1.0,\"#f0f921\"]],\"type\":\"histogram2dcontour\"}],\"mesh3d\":[{\"colorbar\":{\"outlinewidth\":0,\"ticks\":\"\"},\"type\":\"mesh3d\"}],\"parcoords\":[{\"line\":{\"colorbar\":{\"outlinewidth\":0,\"ticks\":\"\"}},\"type\":\"parcoords\"}],\"pie\":[{\"automargin\":true,\"type\":\"pie\"}],\"scatter\":[{\"marker\":{\"colorbar\":{\"outlinewidth\":0,\"ticks\":\"\"}},\"type\":\"scatter\"}],\"scatter3d\":[{\"line\":{\"colorbar\":{\"outlinewidth\":0,\"ticks\":\"\"}},\"marker\":{\"colorbar\":{\"outlinewidth\":0,\"ticks\":\"\"}},\"type\":\"scatter3d\"}],\"scattercarpet\":[{\"marker\":{\"colorbar\":{\"outlinewidth\":0,\"ticks\":\"\"}},\"type\":\"scattercarpet\"}],\"scattergeo\":[{\"marker\":{\"colorbar\":{\"outlinewidth\":0,\"ticks\":\"\"}},\"type\":\"scattergeo\"}],\"scattergl\":[{\"marker\":{\"colorbar\":{\"outlinewidth\":0,\"ticks\":\"\"}},\"type\":\"scattergl\"}],\"scattermapbox\":[{\"marker\":{\"colorbar\":{\"outlinewidth\":0,\"ticks\":\"\"}},\"type\":\"scattermapbox\"}],\"scatterpolar\":[{\"marker\":{\"colorbar\":{\"outlinewidth\":0,\"ticks\":\"\"}},\"type\":\"scatterpolar\"}],\"scatterpolargl\":[{\"marker\":{\"colorbar\":{\"outlinewidth\":0,\"ticks\":\"\"}},\"type\":\"scatterpolargl\"}],\"scatterternary\":[{\"marker\":{\"colorbar\":{\"outlinewidth\":0,\"ticks\":\"\"}},\"type\":\"scatterternary\"}],\"surface\":[{\"colorbar\":{\"outlinewidth\":0,\"ticks\":\"\"},\"colorscale\":[[0.0,\"#0d0887\"],[0.1111111111111111,\"#46039f\"],[0.2222222222222222,\"#7201a8\"],[0.3333333333333333,\"#9c179e\"],[0.4444444444444444,\"#bd3786\"],[0.5555555555555556,\"#d8576b\"],[0.6666666666666666,\"#ed7953\"],[0.7777777777777778,\"#fb9f3a\"],[0.8888888888888888,\"#fdca26\"],[1.0,\"#f0f921\"]],\"type\":\"surface\"}],\"table\":[{\"cells\":{\"fill\":{\"color\":\"#EBF0F8\"},\"line\":{\"color\":\"white\"}},\"header\":{\"fill\":{\"color\":\"#C8D4E3\"},\"line\":{\"color\":\"white\"}},\"type\":\"table\"}]},\"layout\":{\"annotationdefaults\":{\"arrowcolor\":\"#2a3f5f\",\"arrowhead\":0,\"arrowwidth\":1},\"autotypenumbers\":\"strict\",\"coloraxis\":{\"colorbar\":{\"outlinewidth\":0,\"ticks\":\"\"}},\"colorscale\":{\"diverging\":[[0,\"#8e0152\"],[0.1,\"#c51b7d\"],[0.2,\"#de77ae\"],[0.3,\"#f1b6da\"],[0.4,\"#fde0ef\"],[0.5,\"#f7f7f7\"],[0.6,\"#e6f5d0\"],[0.7,\"#b8e186\"],[0.8,\"#7fbc41\"],[0.9,\"#4d9221\"],[1,\"#276419\"]],\"sequential\":[[0.0,\"#0d0887\"],[0.1111111111111111,\"#46039f\"],[0.2222222222222222,\"#7201a8\"],[0.3333333333333333,\"#9c179e\"],[0.4444444444444444,\"#bd3786\"],[0.5555555555555556,\"#d8576b\"],[0.6666666666666666,\"#ed7953\"],[0.7777777777777778,\"#fb9f3a\"],[0.8888888888888888,\"#fdca26\"],[1.0,\"#f0f921\"]],\"sequentialminus\":[[0.0,\"#0d0887\"],[0.1111111111111111,\"#46039f\"],[0.2222222222222222,\"#7201a8\"],[0.3333333333333333,\"#9c179e\"],[0.4444444444444444,\"#bd3786\"],[0.5555555555555556,\"#d8576b\"],[0.6666666666666666,\"#ed7953\"],[0.7777777777777778,\"#fb9f3a\"],[0.8888888888888888,\"#fdca26\"],[1.0,\"#f0f921\"]]},\"colorway\":[\"#636efa\",\"#EF553B\",\"#00cc96\",\"#ab63fa\",\"#FFA15A\",\"#19d3f3\",\"#FF6692\",\"#B6E880\",\"#FF97FF\",\"#FECB52\"],\"font\":{\"color\":\"#2a3f5f\"},\"geo\":{\"bgcolor\":\"white\",\"lakecolor\":\"white\",\"landcolor\":\"#E5ECF6\",\"showlakes\":true,\"showland\":true,\"subunitcolor\":\"white\"},\"hoverlabel\":{\"align\":\"left\"},\"hovermode\":\"closest\",\"mapbox\":{\"style\":\"light\"},\"paper_bgcolor\":\"white\",\"plot_bgcolor\":\"#E5ECF6\",\"polar\":{\"angularaxis\":{\"gridcolor\":\"white\",\"linecolor\":\"white\",\"ticks\":\"\"},\"bgcolor\":\"#E5ECF6\",\"radialaxis\":{\"gridcolor\":\"white\",\"linecolor\":\"white\",\"ticks\":\"\"}},\"scene\":{\"xaxis\":{\"backgroundcolor\":\"#E5ECF6\",\"gridcolor\":\"white\",\"gridwidth\":2,\"linecolor\":\"white\",\"showbackground\":true,\"ticks\":\"\",\"zerolinecolor\":\"white\"},\"yaxis\":{\"backgroundcolor\":\"#E5ECF6\",\"gridcolor\":\"white\",\"gridwidth\":2,\"linecolor\":\"white\",\"showbackground\":true,\"ticks\":\"\",\"zerolinecolor\":\"white\"},\"zaxis\":{\"backgroundcolor\":\"#E5ECF6\",\"gridcolor\":\"white\",\"gridwidth\":2,\"linecolor\":\"white\",\"showbackground\":true,\"ticks\":\"\",\"zerolinecolor\":\"white\"}},\"shapedefaults\":{\"line\":{\"color\":\"#2a3f5f\"}},\"ternary\":{\"aaxis\":{\"gridcolor\":\"white\",\"linecolor\":\"white\",\"ticks\":\"\"},\"baxis\":{\"gridcolor\":\"white\",\"linecolor\":\"white\",\"ticks\":\"\"},\"bgcolor\":\"#E5ECF6\",\"caxis\":{\"gridcolor\":\"white\",\"linecolor\":\"white\",\"ticks\":\"\"}},\"title\":{\"x\":0.05},\"xaxis\":{\"automargin\":true,\"gridcolor\":\"white\",\"linecolor\":\"white\",\"ticks\":\"\",\"title\":{\"standoff\":15},\"zerolinecolor\":\"white\",\"zerolinewidth\":2},\"yaxis\":{\"automargin\":true,\"gridcolor\":\"white\",\"linecolor\":\"white\",\"ticks\":\"\",\"title\":{\"standoff\":15},\"zerolinecolor\":\"white\",\"zerolinewidth\":2}}},\"title\":{\"text\":\"Masters reader\"},\"xaxis\":{\"anchor\":\"y\",\"domain\":[0.0,1.0],\"title\":{\"text\":\"Year\"}},\"yaxis\":{\"anchor\":\"x\",\"domain\":[0.0,1.0],\"title\":{\"text\":\"Count\"}}},                        {\"responsive\": true}                    ).then(function(){\n",
       "                            \n",
       "var gd = document.getElementById('aadfa629-a8b7-45db-a84f-40fa7ab2397f');\n",
       "var x = new MutationObserver(function (mutations, observer) {{\n",
       "        var display = window.getComputedStyle(gd).display;\n",
       "        if (!display || display === 'none') {{\n",
       "            console.log([gd, 'removed!']);\n",
       "            Plotly.purge(gd);\n",
       "            observer.disconnect();\n",
       "        }}\n",
       "}});\n",
       "\n",
       "// Listen for the removal of the full notebook cells\n",
       "var notebookContainer = gd.closest('#notebook-container');\n",
       "if (notebookContainer) {{\n",
       "    x.observe(notebookContainer, {childList: true});\n",
       "}}\n",
       "\n",
       "// Listen for the clearing of the current output cell\n",
       "var outputEl = gd.closest('.output');\n",
       "if (outputEl) {{\n",
       "    x.observe(outputEl, {childList: true});\n",
       "}}\n",
       "\n",
       "                        })                };                });            </script>        </div>"
      ]
     },
     "metadata": {},
     "output_type": "display_data"
    }
   ],
   "source": [
    "fig = px.bar(exams[ exams['Exam'] == \"masters\"], x = \"Year\", y = \"Count\", color = \"Department\", title = \"Masters reader\")\n",
    "fig.show()\n"
   ]
  },
  {
   "cell_type": "markdown",
   "id": "0aa750e0-b922-4472-9d0a-145fad8d9876",
   "metadata": {},
   "source": [
    "### Classroom Instruction \n",
    "#### JHU\n",
    "+ 2001-2005 Primary instructor, Advanced Statistical Computing \n",
    "+ 2003-2004 Primary instructor, Advanced Methods in Biostatistics IV\n",
    "+ 2003-2004 Guest lecturer, Advanced Methods in Biostatistics II\n",
    "+ 2003-2008 Guest lecturer, Computing orientation and student computing club \n",
    "+ 2003-2004 2008 primary instructor, Statistical Computing\n",
    "+ 2004-2005 Primary instructor, Advanced Methods in Biostatistics III \n",
    "+ 2005-2010 Primary instructor, Methods in Biostatistics  I \n",
    "+ 2005-2010 Primary instructor, Methods in Biostatistics II\n",
    "+ 2008  Primary instructor, Medical Imaging Statistics, Biostatistics PhD and ScM elective \n",
    "+ 2010-2017 Guest lecturer, Public Health Perspectives Biostatistics Module\n",
    "+ 2011-2014 Primary instructor, Advanced Methods in Biostatistics I and II\n",
    "+ 2013 Guest instructor, ICTR training program\n",
    "+ 2015-2018 Primary instructor, Advanced Linear Models I and II\n",
    "+ 2019-2021 Primary instructor, Introduction to Data Science for Biomedical Engineering\n",
    "\n",
    "#### Short courses\n",
    "+ 2011 ENAR Statistical methods for new high throughput technological measurements; with Ciprian Crainiceanu\n",
    "+ 2015 Data Science Hackathon Co-organizer with Leah Jager, Jeff Leek and Roger Peng. Funded by the NIH\n",
    "+ 2017-2019 quarterly MRICloud and R Johns Hopkins tutorial series\n",
    "\n",
    "#### Open Education\n",
    "##### Coursera\n",
    "+ Mathematical Biostatistics Boot Camp - 7 week course \n",
    "+ Mathematical Biostatistics Boot Camp 2 - 7 week courses \n",
    "+ Advanced Linear Models for Data Science 1: Least Squares\n",
    "+ Advanced Linear Models for Data Science 2: Statistical Linear Models\n",
    "+ Data Science Specialization (with Roger Peng and Jeff Leek); 9 one month classes run monthly plus a  capstone project class; primary instructor for:\n",
    "    + Statistical Inference\n",
    "    + Regression Models\n",
    "    + Developing Data Products\n",
    "+ Executive Data Science Specialization (with Roger Peng and Jeff Leek); 4 one month classes plus a capstone project\n",
    "+ PI (roll of executive producer, non-instructor) for the BD2K R25 Genomic Data Science Specialization, fMRI 1 and 2 (Lindquist / Wager), Neurohacking in R (Craininceanu, Sweeney, Muschelli), Neuroscience for Neuroimaging (Baker)\n",
    "\n",
    "##### E-books\n",
    "+ Statistical Inference\n",
    "+ Regression Models\n",
    "+ Developing Data Products\n",
    "+ Advanced Linear Models for Data Science\n",
    "+ Methods in Biostatistics with R (with John Muschelli and Ciprian Crainiceanu)\n",
    "+ Executive Data Science (with Roger Peng and Jeff Leek)\n",
    "\n",
    "##### Other\n",
    "+ swirl: Mentored project by Nick Carchedi intiated during his internship\n",
    "+ Course notes for Biostatistics 140.651-2 listed on the Johns Hopkins Open Courseware project "
   ]
  },
  {
   "cell_type": "markdown",
   "id": "1f5f8fc4-29dc-4872-8fa0-e2fcf346ae42",
   "metadata": {},
   "source": [
    "### Research support, PI grants\n",
    "\n",
    "+ 8/27/12 - 8/26/14 Johns Hopkins Brain Science Institute *The Center for Quantitative Neuroscience: a core for population neuroanalytics and translational systems neuroscience* as part of the RFA *Traumatic brain injury: mechanisms and treatment*\n",
    "+ 09/30/2010-8/31/2014 NIH NIBIB R01 EB012547 *Statistical methods for hierarchical large n large p problems* \n",
    "+ 05/01/06-04/30/09 NIH NIBIB K25 EB003491 *A mentored training program in imaging science* \n",
    "+ 12/01/14-11/30/17 NIH R25EB020378 *Big Data Education for the Masses: MOOCs, Modules and Intelligent Tutoring Systems*\n",
    "+ 09/01/11- 08/31/16 NIH NIBIB P41 EB015909 *Resource for quantitative functional MRI* R01 component of a P41 grant. R01 PIs Caffo/Pekar, P41 PI Van Zijl.\n",
    "+ 3/14/2012-3/14/2014 Amazon AWS Research Grant for Cloud Development of Neuroimaging Software.\n",
    "+ 8/16/2019 NVIDIA hardware grant\n",
    "\n",
    "### Co-investigator awards\n",
    "Available by request"
   ]
  },
  {
   "cell_type": "markdown",
   "id": "89f36021-7548-4441-bf4b-3bc870370a45",
   "metadata": {},
   "source": [
    "### JHU major academic service \n",
    "+ JHPCE Co-director 2019-\n",
    "+ Malone Center director search committee 2021/2022 \n",
    "+ JHSPH Faculty senate president-elect 2019-2020\n",
    "+ JHSPH Honors and Awards committee 2017-2019\n",
    "+ JHSPH Faculty Innovation Fund grant referee 2017 - 2018\n",
    "+ BME faculty hiring committee 2016\n",
    "+ Biostat faculty hiring committee 2016\n",
    "+ Malone Center Steering Committee 2016 -\n",
    "+ Biostatistics admissions committee member 2002 - 2009, 2010 -\n",
    "+ Biostatistics co-director of the graduate program 2010 - 2012\n",
    "+ Biostatistics director of the graduate program 2012 - 2016\n",
    "+ Biostatistics information technology committee member 2001 - 2009 \n",
    "+ Biostatistics seminar coordinator 2001 - 2002 \n",
    "+ Co-director Biostatistics/Epidemiology MPH concentration 2008 - 2010\n",
    "+ Co-organizer Junior Faculty Meetings 2003 \n",
    "+ CEDC (originally Committee on Affirmative Action) member 2007 - 2010\n",
    "+ Faculty Senate representative 2002 - 2004 \n",
    "+ MPH Admissions Committee member 2009 - 2011\n",
    "+ MPH Executive Board member 2009 -  2011"
   ]
  },
  {
   "cell_type": "markdown",
   "id": "2cccd0ee-ce1f-4c40-9da4-c291a5e619e5",
   "metadata": {},
   "source": [
    "### Seminars\n",
    "Here's a count of the invited seminars I've kept track of by count. The list with presentation files can be found \n",
    "[here](https://docs.google.com/spreadsheets/d/1mRC6xxZmNj3DnwwvCh_8GpErwhvJNq9gkRB3mQz1JIg/edit?usp=sharing)."
   ]
  },
  {
   "cell_type": "code",
   "execution_count": 207,
   "id": "03be3f20-1e25-4df0-98d9-0d3e9de164fc",
   "metadata": {},
   "outputs": [
    {
     "data": {
      "application/vnd.plotly.v1+json": {
       "config": {
        "plotlyServerURL": "https://plot.ly"
       },
       "data": [
        {
         "hovertemplate": "Year=%{x}<br>Count=%{y}<extra></extra>",
         "legendgroup": "",
         "marker": {
          "color": "#636efa",
          "symbol": "circle"
         },
         "mode": "markers",
         "name": "",
         "orientation": "v",
         "showlegend": false,
         "type": "scatter",
         "x": [
          2021,
          2020,
          2019,
          2018,
          2017,
          2016,
          2015,
          2014,
          2013,
          2012,
          2011,
          2010,
          2009,
          2008,
          2007,
          2006,
          2005,
          2004,
          2003,
          2002,
          2001
         ],
         "xaxis": "x",
         "y": [
          4,
          6,
          2,
          8,
          10,
          2,
          3,
          9,
          9,
          10,
          10,
          3,
          4,
          9,
          5,
          2,
          4,
          2,
          5,
          3,
          6
         ],
         "yaxis": "y"
        }
       ],
       "layout": {
        "autosize": true,
        "legend": {
         "tracegroupgap": 0
        },
        "margin": {
         "t": 60
        },
        "template": {
         "data": {
          "bar": [
           {
            "error_x": {
             "color": "#2a3f5f"
            },
            "error_y": {
             "color": "#2a3f5f"
            },
            "marker": {
             "line": {
              "color": "#E5ECF6",
              "width": 0.5
             },
             "pattern": {
              "fillmode": "overlay",
              "size": 10,
              "solidity": 0.2
             }
            },
            "type": "bar"
           }
          ],
          "barpolar": [
           {
            "marker": {
             "line": {
              "color": "#E5ECF6",
              "width": 0.5
             },
             "pattern": {
              "fillmode": "overlay",
              "size": 10,
              "solidity": 0.2
             }
            },
            "type": "barpolar"
           }
          ],
          "carpet": [
           {
            "aaxis": {
             "endlinecolor": "#2a3f5f",
             "gridcolor": "white",
             "linecolor": "white",
             "minorgridcolor": "white",
             "startlinecolor": "#2a3f5f"
            },
            "baxis": {
             "endlinecolor": "#2a3f5f",
             "gridcolor": "white",
             "linecolor": "white",
             "minorgridcolor": "white",
             "startlinecolor": "#2a3f5f"
            },
            "type": "carpet"
           }
          ],
          "choropleth": [
           {
            "colorbar": {
             "outlinewidth": 0,
             "ticks": ""
            },
            "type": "choropleth"
           }
          ],
          "contour": [
           {
            "colorbar": {
             "outlinewidth": 0,
             "ticks": ""
            },
            "colorscale": [
             [
              0,
              "#0d0887"
             ],
             [
              0.1111111111111111,
              "#46039f"
             ],
             [
              0.2222222222222222,
              "#7201a8"
             ],
             [
              0.3333333333333333,
              "#9c179e"
             ],
             [
              0.4444444444444444,
              "#bd3786"
             ],
             [
              0.5555555555555556,
              "#d8576b"
             ],
             [
              0.6666666666666666,
              "#ed7953"
             ],
             [
              0.7777777777777778,
              "#fb9f3a"
             ],
             [
              0.8888888888888888,
              "#fdca26"
             ],
             [
              1,
              "#f0f921"
             ]
            ],
            "type": "contour"
           }
          ],
          "contourcarpet": [
           {
            "colorbar": {
             "outlinewidth": 0,
             "ticks": ""
            },
            "type": "contourcarpet"
           }
          ],
          "heatmap": [
           {
            "colorbar": {
             "outlinewidth": 0,
             "ticks": ""
            },
            "colorscale": [
             [
              0,
              "#0d0887"
             ],
             [
              0.1111111111111111,
              "#46039f"
             ],
             [
              0.2222222222222222,
              "#7201a8"
             ],
             [
              0.3333333333333333,
              "#9c179e"
             ],
             [
              0.4444444444444444,
              "#bd3786"
             ],
             [
              0.5555555555555556,
              "#d8576b"
             ],
             [
              0.6666666666666666,
              "#ed7953"
             ],
             [
              0.7777777777777778,
              "#fb9f3a"
             ],
             [
              0.8888888888888888,
              "#fdca26"
             ],
             [
              1,
              "#f0f921"
             ]
            ],
            "type": "heatmap"
           }
          ],
          "heatmapgl": [
           {
            "colorbar": {
             "outlinewidth": 0,
             "ticks": ""
            },
            "colorscale": [
             [
              0,
              "#0d0887"
             ],
             [
              0.1111111111111111,
              "#46039f"
             ],
             [
              0.2222222222222222,
              "#7201a8"
             ],
             [
              0.3333333333333333,
              "#9c179e"
             ],
             [
              0.4444444444444444,
              "#bd3786"
             ],
             [
              0.5555555555555556,
              "#d8576b"
             ],
             [
              0.6666666666666666,
              "#ed7953"
             ],
             [
              0.7777777777777778,
              "#fb9f3a"
             ],
             [
              0.8888888888888888,
              "#fdca26"
             ],
             [
              1,
              "#f0f921"
             ]
            ],
            "type": "heatmapgl"
           }
          ],
          "histogram": [
           {
            "marker": {
             "pattern": {
              "fillmode": "overlay",
              "size": 10,
              "solidity": 0.2
             }
            },
            "type": "histogram"
           }
          ],
          "histogram2d": [
           {
            "colorbar": {
             "outlinewidth": 0,
             "ticks": ""
            },
            "colorscale": [
             [
              0,
              "#0d0887"
             ],
             [
              0.1111111111111111,
              "#46039f"
             ],
             [
              0.2222222222222222,
              "#7201a8"
             ],
             [
              0.3333333333333333,
              "#9c179e"
             ],
             [
              0.4444444444444444,
              "#bd3786"
             ],
             [
              0.5555555555555556,
              "#d8576b"
             ],
             [
              0.6666666666666666,
              "#ed7953"
             ],
             [
              0.7777777777777778,
              "#fb9f3a"
             ],
             [
              0.8888888888888888,
              "#fdca26"
             ],
             [
              1,
              "#f0f921"
             ]
            ],
            "type": "histogram2d"
           }
          ],
          "histogram2dcontour": [
           {
            "colorbar": {
             "outlinewidth": 0,
             "ticks": ""
            },
            "colorscale": [
             [
              0,
              "#0d0887"
             ],
             [
              0.1111111111111111,
              "#46039f"
             ],
             [
              0.2222222222222222,
              "#7201a8"
             ],
             [
              0.3333333333333333,
              "#9c179e"
             ],
             [
              0.4444444444444444,
              "#bd3786"
             ],
             [
              0.5555555555555556,
              "#d8576b"
             ],
             [
              0.6666666666666666,
              "#ed7953"
             ],
             [
              0.7777777777777778,
              "#fb9f3a"
             ],
             [
              0.8888888888888888,
              "#fdca26"
             ],
             [
              1,
              "#f0f921"
             ]
            ],
            "type": "histogram2dcontour"
           }
          ],
          "mesh3d": [
           {
            "colorbar": {
             "outlinewidth": 0,
             "ticks": ""
            },
            "type": "mesh3d"
           }
          ],
          "parcoords": [
           {
            "line": {
             "colorbar": {
              "outlinewidth": 0,
              "ticks": ""
             }
            },
            "type": "parcoords"
           }
          ],
          "pie": [
           {
            "automargin": true,
            "type": "pie"
           }
          ],
          "scatter": [
           {
            "marker": {
             "colorbar": {
              "outlinewidth": 0,
              "ticks": ""
             }
            },
            "type": "scatter"
           }
          ],
          "scatter3d": [
           {
            "line": {
             "colorbar": {
              "outlinewidth": 0,
              "ticks": ""
             }
            },
            "marker": {
             "colorbar": {
              "outlinewidth": 0,
              "ticks": ""
             }
            },
            "type": "scatter3d"
           }
          ],
          "scattercarpet": [
           {
            "marker": {
             "colorbar": {
              "outlinewidth": 0,
              "ticks": ""
             }
            },
            "type": "scattercarpet"
           }
          ],
          "scattergeo": [
           {
            "marker": {
             "colorbar": {
              "outlinewidth": 0,
              "ticks": ""
             }
            },
            "type": "scattergeo"
           }
          ],
          "scattergl": [
           {
            "marker": {
             "colorbar": {
              "outlinewidth": 0,
              "ticks": ""
             }
            },
            "type": "scattergl"
           }
          ],
          "scattermapbox": [
           {
            "marker": {
             "colorbar": {
              "outlinewidth": 0,
              "ticks": ""
             }
            },
            "type": "scattermapbox"
           }
          ],
          "scatterpolar": [
           {
            "marker": {
             "colorbar": {
              "outlinewidth": 0,
              "ticks": ""
             }
            },
            "type": "scatterpolar"
           }
          ],
          "scatterpolargl": [
           {
            "marker": {
             "colorbar": {
              "outlinewidth": 0,
              "ticks": ""
             }
            },
            "type": "scatterpolargl"
           }
          ],
          "scatterternary": [
           {
            "marker": {
             "colorbar": {
              "outlinewidth": 0,
              "ticks": ""
             }
            },
            "type": "scatterternary"
           }
          ],
          "surface": [
           {
            "colorbar": {
             "outlinewidth": 0,
             "ticks": ""
            },
            "colorscale": [
             [
              0,
              "#0d0887"
             ],
             [
              0.1111111111111111,
              "#46039f"
             ],
             [
              0.2222222222222222,
              "#7201a8"
             ],
             [
              0.3333333333333333,
              "#9c179e"
             ],
             [
              0.4444444444444444,
              "#bd3786"
             ],
             [
              0.5555555555555556,
              "#d8576b"
             ],
             [
              0.6666666666666666,
              "#ed7953"
             ],
             [
              0.7777777777777778,
              "#fb9f3a"
             ],
             [
              0.8888888888888888,
              "#fdca26"
             ],
             [
              1,
              "#f0f921"
             ]
            ],
            "type": "surface"
           }
          ],
          "table": [
           {
            "cells": {
             "fill": {
              "color": "#EBF0F8"
             },
             "line": {
              "color": "white"
             }
            },
            "header": {
             "fill": {
              "color": "#C8D4E3"
             },
             "line": {
              "color": "white"
             }
            },
            "type": "table"
           }
          ]
         },
         "layout": {
          "annotationdefaults": {
           "arrowcolor": "#2a3f5f",
           "arrowhead": 0,
           "arrowwidth": 1
          },
          "autotypenumbers": "strict",
          "coloraxis": {
           "colorbar": {
            "outlinewidth": 0,
            "ticks": ""
           }
          },
          "colorscale": {
           "diverging": [
            [
             0,
             "#8e0152"
            ],
            [
             0.1,
             "#c51b7d"
            ],
            [
             0.2,
             "#de77ae"
            ],
            [
             0.3,
             "#f1b6da"
            ],
            [
             0.4,
             "#fde0ef"
            ],
            [
             0.5,
             "#f7f7f7"
            ],
            [
             0.6,
             "#e6f5d0"
            ],
            [
             0.7,
             "#b8e186"
            ],
            [
             0.8,
             "#7fbc41"
            ],
            [
             0.9,
             "#4d9221"
            ],
            [
             1,
             "#276419"
            ]
           ],
           "sequential": [
            [
             0,
             "#0d0887"
            ],
            [
             0.1111111111111111,
             "#46039f"
            ],
            [
             0.2222222222222222,
             "#7201a8"
            ],
            [
             0.3333333333333333,
             "#9c179e"
            ],
            [
             0.4444444444444444,
             "#bd3786"
            ],
            [
             0.5555555555555556,
             "#d8576b"
            ],
            [
             0.6666666666666666,
             "#ed7953"
            ],
            [
             0.7777777777777778,
             "#fb9f3a"
            ],
            [
             0.8888888888888888,
             "#fdca26"
            ],
            [
             1,
             "#f0f921"
            ]
           ],
           "sequentialminus": [
            [
             0,
             "#0d0887"
            ],
            [
             0.1111111111111111,
             "#46039f"
            ],
            [
             0.2222222222222222,
             "#7201a8"
            ],
            [
             0.3333333333333333,
             "#9c179e"
            ],
            [
             0.4444444444444444,
             "#bd3786"
            ],
            [
             0.5555555555555556,
             "#d8576b"
            ],
            [
             0.6666666666666666,
             "#ed7953"
            ],
            [
             0.7777777777777778,
             "#fb9f3a"
            ],
            [
             0.8888888888888888,
             "#fdca26"
            ],
            [
             1,
             "#f0f921"
            ]
           ]
          },
          "colorway": [
           "#636efa",
           "#EF553B",
           "#00cc96",
           "#ab63fa",
           "#FFA15A",
           "#19d3f3",
           "#FF6692",
           "#B6E880",
           "#FF97FF",
           "#FECB52"
          ],
          "font": {
           "color": "#2a3f5f"
          },
          "geo": {
           "bgcolor": "white",
           "lakecolor": "white",
           "landcolor": "#E5ECF6",
           "showlakes": true,
           "showland": true,
           "subunitcolor": "white"
          },
          "hoverlabel": {
           "align": "left"
          },
          "hovermode": "closest",
          "mapbox": {
           "style": "light"
          },
          "paper_bgcolor": "white",
          "plot_bgcolor": "#E5ECF6",
          "polar": {
           "angularaxis": {
            "gridcolor": "white",
            "linecolor": "white",
            "ticks": ""
           },
           "bgcolor": "#E5ECF6",
           "radialaxis": {
            "gridcolor": "white",
            "linecolor": "white",
            "ticks": ""
           }
          },
          "scene": {
           "xaxis": {
            "backgroundcolor": "#E5ECF6",
            "gridcolor": "white",
            "gridwidth": 2,
            "linecolor": "white",
            "showbackground": true,
            "ticks": "",
            "zerolinecolor": "white"
           },
           "yaxis": {
            "backgroundcolor": "#E5ECF6",
            "gridcolor": "white",
            "gridwidth": 2,
            "linecolor": "white",
            "showbackground": true,
            "ticks": "",
            "zerolinecolor": "white"
           },
           "zaxis": {
            "backgroundcolor": "#E5ECF6",
            "gridcolor": "white",
            "gridwidth": 2,
            "linecolor": "white",
            "showbackground": true,
            "ticks": "",
            "zerolinecolor": "white"
           }
          },
          "shapedefaults": {
           "line": {
            "color": "#2a3f5f"
           }
          },
          "ternary": {
           "aaxis": {
            "gridcolor": "white",
            "linecolor": "white",
            "ticks": ""
           },
           "baxis": {
            "gridcolor": "white",
            "linecolor": "white",
            "ticks": ""
           },
           "bgcolor": "#E5ECF6",
           "caxis": {
            "gridcolor": "white",
            "linecolor": "white",
            "ticks": ""
           }
          },
          "title": {
           "x": 0.05
          },
          "xaxis": {
           "automargin": true,
           "gridcolor": "white",
           "linecolor": "white",
           "ticks": "",
           "title": {
            "standoff": 15
           },
           "zerolinecolor": "white",
           "zerolinewidth": 2
          },
          "yaxis": {
           "automargin": true,
           "gridcolor": "white",
           "linecolor": "white",
           "ticks": "",
           "title": {
            "standoff": 15
           },
           "zerolinecolor": "white",
           "zerolinewidth": 2
          }
         }
        },
        "xaxis": {
         "anchor": "y",
         "autorange": true,
         "domain": [
          0,
          1
         ],
         "range": [
          1999.7801696020874,
          2022.2198303979126
         ],
         "title": {
          "text": "Year"
         },
         "type": "linear"
        },
        "yaxis": {
         "anchor": "x",
         "autorange": true,
         "domain": [
          0,
          1
         ],
         "range": [
          1.3805774278215224,
          10.619422572178477
         ],
         "title": {
          "text": "Count"
         },
         "type": "linear"
        }
       }
      },
      "image/png": "[encoded data removed]",
      "text/html": [
       "<div>                            <div id=\"484e0df4-cec0-4c01-8f83-f08921120e72\" class=\"plotly-graph-div\" style=\"height:525px; width:100%;\"></div>            <script type=\"text/javascript\">                require([\"plotly\"], function(Plotly) {                    window.PLOTLYENV=window.PLOTLYENV || {};                                    if (document.getElementById(\"484e0df4-cec0-4c01-8f83-f08921120e72\")) {                    Plotly.newPlot(                        \"484e0df4-cec0-4c01-8f83-f08921120e72\",                        [{\"hovertemplate\":\"Year=%{x}<br>Count=%{y}<extra></extra>\",\"legendgroup\":\"\",\"marker\":{\"color\":\"#636efa\",\"symbol\":\"circle\"},\"mode\":\"markers\",\"name\":\"\",\"orientation\":\"v\",\"showlegend\":false,\"type\":\"scatter\",\"x\":[2021,2020,2019,2018,2017,2016,2015,2014,2013,2012,2011,2010,2009,2008,2007,2006,2005,2004,2003,2002,2001],\"xaxis\":\"x\",\"y\":[4,6,2,8,10,2,3,9,9,10,10,3,4,9,5,2,4,2,5,3,6],\"yaxis\":\"y\"}],                        {\"legend\":{\"tracegroupgap\":0},\"margin\":{\"t\":60},\"template\":{\"data\":{\"bar\":[{\"error_x\":{\"color\":\"#2a3f5f\"},\"error_y\":{\"color\":\"#2a3f5f\"},\"marker\":{\"line\":{\"color\":\"#E5ECF6\",\"width\":0.5},\"pattern\":{\"fillmode\":\"overlay\",\"size\":10,\"solidity\":0.2}},\"type\":\"bar\"}],\"barpolar\":[{\"marker\":{\"line\":{\"color\":\"#E5ECF6\",\"width\":0.5},\"pattern\":{\"fillmode\":\"overlay\",\"size\":10,\"solidity\":0.2}},\"type\":\"barpolar\"}],\"carpet\":[{\"aaxis\":{\"endlinecolor\":\"#2a3f5f\",\"gridcolor\":\"white\",\"linecolor\":\"white\",\"minorgridcolor\":\"white\",\"startlinecolor\":\"#2a3f5f\"},\"baxis\":{\"endlinecolor\":\"#2a3f5f\",\"gridcolor\":\"white\",\"linecolor\":\"white\",\"minorgridcolor\":\"white\",\"startlinecolor\":\"#2a3f5f\"},\"type\":\"carpet\"}],\"choropleth\":[{\"colorbar\":{\"outlinewidth\":0,\"ticks\":\"\"},\"type\":\"choropleth\"}],\"contour\":[{\"colorbar\":{\"outlinewidth\":0,\"ticks\":\"\"},\"colorscale\":[[0.0,\"#0d0887\"],[0.1111111111111111,\"#46039f\"],[0.2222222222222222,\"#7201a8\"],[0.3333333333333333,\"#9c179e\"],[0.4444444444444444,\"#bd3786\"],[0.5555555555555556,\"#d8576b\"],[0.6666666666666666,\"#ed7953\"],[0.7777777777777778,\"#fb9f3a\"],[0.8888888888888888,\"#fdca26\"],[1.0,\"#f0f921\"]],\"type\":\"contour\"}],\"contourcarpet\":[{\"colorbar\":{\"outlinewidth\":0,\"ticks\":\"\"},\"type\":\"contourcarpet\"}],\"heatmap\":[{\"colorbar\":{\"outlinewidth\":0,\"ticks\":\"\"},\"colorscale\":[[0.0,\"#0d0887\"],[0.1111111111111111,\"#46039f\"],[0.2222222222222222,\"#7201a8\"],[0.3333333333333333,\"#9c179e\"],[0.4444444444444444,\"#bd3786\"],[0.5555555555555556,\"#d8576b\"],[0.6666666666666666,\"#ed7953\"],[0.7777777777777778,\"#fb9f3a\"],[0.8888888888888888,\"#fdca26\"],[1.0,\"#f0f921\"]],\"type\":\"heatmap\"}],\"heatmapgl\":[{\"colorbar\":{\"outlinewidth\":0,\"ticks\":\"\"},\"colorscale\":[[0.0,\"#0d0887\"],[0.1111111111111111,\"#46039f\"],[0.2222222222222222,\"#7201a8\"],[0.3333333333333333,\"#9c179e\"],[0.4444444444444444,\"#bd3786\"],[0.5555555555555556,\"#d8576b\"],[0.6666666666666666,\"#ed7953\"],[0.7777777777777778,\"#fb9f3a\"],[0.8888888888888888,\"#fdca26\"],[1.0,\"#f0f921\"]],\"type\":\"heatmapgl\"}],\"histogram\":[{\"marker\":{\"pattern\":{\"fillmode\":\"overlay\",\"size\":10,\"solidity\":0.2}},\"type\":\"histogram\"}],\"histogram2d\":[{\"colorbar\":{\"outlinewidth\":0,\"ticks\":\"\"},\"colorscale\":[[0.0,\"#0d0887\"],[0.1111111111111111,\"#46039f\"],[0.2222222222222222,\"#7201a8\"],[0.3333333333333333,\"#9c179e\"],[0.4444444444444444,\"#bd3786\"],[0.5555555555555556,\"#d8576b\"],[0.6666666666666666,\"#ed7953\"],[0.7777777777777778,\"#fb9f3a\"],[0.8888888888888888,\"#fdca26\"],[1.0,\"#f0f921\"]],\"type\":\"histogram2d\"}],\"histogram2dcontour\":[{\"colorbar\":{\"outlinewidth\":0,\"ticks\":\"\"},\"colorscale\":[[0.0,\"#0d0887\"],[0.1111111111111111,\"#46039f\"],[0.2222222222222222,\"#7201a8\"],[0.3333333333333333,\"#9c179e\"],[0.4444444444444444,\"#bd3786\"],[0.5555555555555556,\"#d8576b\"],[0.6666666666666666,\"#ed7953\"],[0.7777777777777778,\"#fb9f3a\"],[0.8888888888888888,\"#fdca26\"],[1.0,\"#f0f921\"]],\"type\":\"histogram2dcontour\"}],\"mesh3d\":[{\"colorbar\":{\"outlinewidth\":0,\"ticks\":\"\"},\"type\":\"mesh3d\"}],\"parcoords\":[{\"line\":{\"colorbar\":{\"outlinewidth\":0,\"ticks\":\"\"}},\"type\":\"parcoords\"}],\"pie\":[{\"automargin\":true,\"type\":\"pie\"}],\"scatter\":[{\"marker\":{\"colorbar\":{\"outlinewidth\":0,\"ticks\":\"\"}},\"type\":\"scatter\"}],\"scatter3d\":[{\"line\":{\"colorbar\":{\"outlinewidth\":0,\"ticks\":\"\"}},\"marker\":{\"colorbar\":{\"outlinewidth\":0,\"ticks\":\"\"}},\"type\":\"scatter3d\"}],\"scattercarpet\":[{\"marker\":{\"colorbar\":{\"outlinewidth\":0,\"ticks\":\"\"}},\"type\":\"scattercarpet\"}],\"scattergeo\":[{\"marker\":{\"colorbar\":{\"outlinewidth\":0,\"ticks\":\"\"}},\"type\":\"scattergeo\"}],\"scattergl\":[{\"marker\":{\"colorbar\":{\"outlinewidth\":0,\"ticks\":\"\"}},\"type\":\"scattergl\"}],\"scattermapbox\":[{\"marker\":{\"colorbar\":{\"outlinewidth\":0,\"ticks\":\"\"}},\"type\":\"scattermapbox\"}],\"scatterpolar\":[{\"marker\":{\"colorbar\":{\"outlinewidth\":0,\"ticks\":\"\"}},\"type\":\"scatterpolar\"}],\"scatterpolargl\":[{\"marker\":{\"colorbar\":{\"outlinewidth\":0,\"ticks\":\"\"}},\"type\":\"scatterpolargl\"}],\"scatterternary\":[{\"marker\":{\"colorbar\":{\"outlinewidth\":0,\"ticks\":\"\"}},\"type\":\"scatterternary\"}],\"surface\":[{\"colorbar\":{\"outlinewidth\":0,\"ticks\":\"\"},\"colorscale\":[[0.0,\"#0d0887\"],[0.1111111111111111,\"#46039f\"],[0.2222222222222222,\"#7201a8\"],[0.3333333333333333,\"#9c179e\"],[0.4444444444444444,\"#bd3786\"],[0.5555555555555556,\"#d8576b\"],[0.6666666666666666,\"#ed7953\"],[0.7777777777777778,\"#fb9f3a\"],[0.8888888888888888,\"#fdca26\"],[1.0,\"#f0f921\"]],\"type\":\"surface\"}],\"table\":[{\"cells\":{\"fill\":{\"color\":\"#EBF0F8\"},\"line\":{\"color\":\"white\"}},\"header\":{\"fill\":{\"color\":\"#C8D4E3\"},\"line\":{\"color\":\"white\"}},\"type\":\"table\"}]},\"layout\":{\"annotationdefaults\":{\"arrowcolor\":\"#2a3f5f\",\"arrowhead\":0,\"arrowwidth\":1},\"autotypenumbers\":\"strict\",\"coloraxis\":{\"colorbar\":{\"outlinewidth\":0,\"ticks\":\"\"}},\"colorscale\":{\"diverging\":[[0,\"#8e0152\"],[0.1,\"#c51b7d\"],[0.2,\"#de77ae\"],[0.3,\"#f1b6da\"],[0.4,\"#fde0ef\"],[0.5,\"#f7f7f7\"],[0.6,\"#e6f5d0\"],[0.7,\"#b8e186\"],[0.8,\"#7fbc41\"],[0.9,\"#4d9221\"],[1,\"#276419\"]],\"sequential\":[[0.0,\"#0d0887\"],[0.1111111111111111,\"#46039f\"],[0.2222222222222222,\"#7201a8\"],[0.3333333333333333,\"#9c179e\"],[0.4444444444444444,\"#bd3786\"],[0.5555555555555556,\"#d8576b\"],[0.6666666666666666,\"#ed7953\"],[0.7777777777777778,\"#fb9f3a\"],[0.8888888888888888,\"#fdca26\"],[1.0,\"#f0f921\"]],\"sequentialminus\":[[0.0,\"#0d0887\"],[0.1111111111111111,\"#46039f\"],[0.2222222222222222,\"#7201a8\"],[0.3333333333333333,\"#9c179e\"],[0.4444444444444444,\"#bd3786\"],[0.5555555555555556,\"#d8576b\"],[0.6666666666666666,\"#ed7953\"],[0.7777777777777778,\"#fb9f3a\"],[0.8888888888888888,\"#fdca26\"],[1.0,\"#f0f921\"]]},\"colorway\":[\"#636efa\",\"#EF553B\",\"#00cc96\",\"#ab63fa\",\"#FFA15A\",\"#19d3f3\",\"#FF6692\",\"#B6E880\",\"#FF97FF\",\"#FECB52\"],\"font\":{\"color\":\"#2a3f5f\"},\"geo\":{\"bgcolor\":\"white\",\"lakecolor\":\"white\",\"landcolor\":\"#E5ECF6\",\"showlakes\":true,\"showland\":true,\"subunitcolor\":\"white\"},\"hoverlabel\":{\"align\":\"left\"},\"hovermode\":\"closest\",\"mapbox\":{\"style\":\"light\"},\"paper_bgcolor\":\"white\",\"plot_bgcolor\":\"#E5ECF6\",\"polar\":{\"angularaxis\":{\"gridcolor\":\"white\",\"linecolor\":\"white\",\"ticks\":\"\"},\"bgcolor\":\"#E5ECF6\",\"radialaxis\":{\"gridcolor\":\"white\",\"linecolor\":\"white\",\"ticks\":\"\"}},\"scene\":{\"xaxis\":{\"backgroundcolor\":\"#E5ECF6\",\"gridcolor\":\"white\",\"gridwidth\":2,\"linecolor\":\"white\",\"showbackground\":true,\"ticks\":\"\",\"zerolinecolor\":\"white\"},\"yaxis\":{\"backgroundcolor\":\"#E5ECF6\",\"gridcolor\":\"white\",\"gridwidth\":2,\"linecolor\":\"white\",\"showbackground\":true,\"ticks\":\"\",\"zerolinecolor\":\"white\"},\"zaxis\":{\"backgroundcolor\":\"#E5ECF6\",\"gridcolor\":\"white\",\"gridwidth\":2,\"linecolor\":\"white\",\"showbackground\":true,\"ticks\":\"\",\"zerolinecolor\":\"white\"}},\"shapedefaults\":{\"line\":{\"color\":\"#2a3f5f\"}},\"ternary\":{\"aaxis\":{\"gridcolor\":\"white\",\"linecolor\":\"white\",\"ticks\":\"\"},\"baxis\":{\"gridcolor\":\"white\",\"linecolor\":\"white\",\"ticks\":\"\"},\"bgcolor\":\"#E5ECF6\",\"caxis\":{\"gridcolor\":\"white\",\"linecolor\":\"white\",\"ticks\":\"\"}},\"title\":{\"x\":0.05},\"xaxis\":{\"automargin\":true,\"gridcolor\":\"white\",\"linecolor\":\"white\",\"ticks\":\"\",\"title\":{\"standoff\":15},\"zerolinecolor\":\"white\",\"zerolinewidth\":2},\"yaxis\":{\"automargin\":true,\"gridcolor\":\"white\",\"linecolor\":\"white\",\"ticks\":\"\",\"title\":{\"standoff\":15},\"zerolinecolor\":\"white\",\"zerolinewidth\":2}}},\"xaxis\":{\"anchor\":\"y\",\"domain\":[0.0,1.0],\"title\":{\"text\":\"Year\"}},\"yaxis\":{\"anchor\":\"x\",\"domain\":[0.0,1.0],\"title\":{\"text\":\"Count\"}}},                        {\"responsive\": true}                    ).then(function(){\n",
       "                            \n",
       "var gd = document.getElementById('484e0df4-cec0-4c01-8f83-f08921120e72');\n",
       "var x = new MutationObserver(function (mutations, observer) {{\n",
       "        var display = window.getComputedStyle(gd).display;\n",
       "        if (!display || display === 'none') {{\n",
       "            console.log([gd, 'removed!']);\n",
       "            Plotly.purge(gd);\n",
       "            observer.disconnect();\n",
       "        }}\n",
       "}});\n",
       "\n",
       "// Listen for the removal of the full notebook cells\n",
       "var notebookContainer = gd.closest('#notebook-container');\n",
       "if (notebookContainer) {{\n",
       "    x.observe(notebookContainer, {childList: true});\n",
       "}}\n",
       "\n",
       "// Listen for the clearing of the current output cell\n",
       "var outputEl = gd.closest('.output');\n",
       "if (outputEl) {{\n",
       "    x.observe(outputEl, {childList: true});\n",
       "}}\n",
       "\n",
       "                        })                };                });            </script>        </div>"
      ]
     },
     "metadata": {},
     "output_type": "display_data"
    }
   ],
   "source": [
    "seminars = pd.read_csv(\"https://docs.google.com/spreadsheets/d/1mRC6xxZmNj3DnwwvCh_8GpErwhvJNq9gkRB3mQz1JIg/export?format=csv&gid=0\")\n",
    "seminarYear = seminars['Year'].value_counts().reset_index()\n",
    "seminarYear = seminarYear.rename(columns = {\"index\" : \"Year\", \"Year\" : \"Count\"}).sort_values(\"Year\", ascending =False)\n",
    "fig = px.scatter(seminarYear, x = \"Year\", y = \"Count\")\n",
    "fig.show()"
   ]
  },
  {
   "cell_type": "markdown",
   "id": "4d837473-226a-4e28-bf2d-7e638ce826a3",
   "metadata": {},
   "source": [
    "Here's a wordcloud of seminar titles."
   ]
  },
  {
   "cell_type": "code",
   "execution_count": 211,
   "id": "ef7e483a-b88e-4d41-862e-0cf6c81d3c38",
   "metadata": {},
   "outputs": [],
   "source": [
    "text = seminars['Talk'].to_list()\n",
    "titles = \" \".join(text)\n",
    "#titles = titles.replace(\"Using\", \"\")\n",
    "\n",
    "titleFile = open(\"seminarTitleFile.txt\", \"w\")\n",
    "titleFile.write(titles)\n",
    "titleFile.close()\n",
    "\n",
    "\n",
    "import stylecloud as sc\n",
    "sc.gen_stylecloud(file_path = 'seminarTitleFile.txt', \n",
    "                  icon_name = 'fas fa-brain',\n",
    "                  stopwords = True)\n",
    "\n",
    "os.rename('stylecloud.png', 'seminarTitles.png')"
   ]
  },
  {
   "cell_type": "markdown",
   "id": "0c56a69f-c95b-48aa-bb3b-ef46b218c19d",
   "metadata": {},
   "source": [
    "<img src=\"seminarTitles.png\" alt=\"Wordcloud\" style=\"height: 400px; width:400px;\"/>"
   ]
  }
 ],
 "metadata": {
  "kernelspec": {
   "display_name": "Python 3 (ipykernel)",
   "language": "python",
   "name": "python3"
  },
  "language_info": {
   "codemirror_mode": {
    "name": "ipython",
    "version": 3
   },
   "file_extension": ".py",
   "mimetype": "text/x-python",
   "name": "python",
   "nbconvert_exporter": "python",
   "pygments_lexer": "ipython3",
   "version": "3.9.7"
  }
 },
 "nbformat": 4,
 "nbformat_minor": 5
}
