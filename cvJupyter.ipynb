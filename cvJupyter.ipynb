{
  "cells": [
    {
      "cell_type": "raw",
      "metadata": {},
      "source": [
        "---\n",
        "format: html\n",
        "execute:\n",
        "  echo: false\n",
        "---"
      ]
    },
    {
      "cell_type": "markdown",
      "metadata": {},
      "source": [
        "# Brian S Caffo\n",
        "<hr>\n",
        "| Professor |\n",
        "|:---  |\n",
        "| [Departments of Biostatistics](https://publichealth.jhu.edu/departments/biostatistics) [Johns Hopkins University](www.jhu.edu) (primary),|\n",
        "| [Department of Biomedical Engineering](https://www.bme.jhu.edu/), [Johns Hopkins University](www.jhu.edu) (courtesy) |\n",
        "| [www.bcaffo.com](www.bcaffo.com), [CV repo](https://github.com/bcaffo/cv), [CV hosted version](https://bcaffo.github.io/cv/cvJupyter.html) |\n",
        "\n",
        "# Part I \n",
        "## Summary\n",
        "Brian Caffo, PhD is a professor in the Department of Biostatistics\n",
        "with a secondary appointment in the Department of Biomedical\n",
        "Engineering at Johns Hopkins University.  He graduated from the\n",
        "University of Florida Department of Statistics in 2001. He has worked\n",
        "in statistical computing, statistical modeling, computational\n",
        "statistics, multivariate and decomposition methods and statistics in\n",
        "neuroimaging and neuroscience. He led teams that won the ADHD 200\n",
        "prediction competition. He co-directs the SMART statistical\n",
        "group. With other faculty at JHU, he created and co-directs the\n",
        "Coursera Data Science Specialization, a 10 course specialization on\n",
        "statistical data analysis. He co-directs the JHU Data Science Lab, a\n",
        "group dedicated to open educational innovation and data science. He is\n",
        "the former director of the Biostatistics graduate programs and\n",
        "admissions committees. He is currently the co-director of the Johns\n",
        "Hopkins High Performance Computing Exchange super computing service\n",
        "center and past-president of the Bloomberg School of Public Health\n",
        "faculty senate.\n",
        "\n",
        "## Education and training\n",
        "\n",
        "| Year | Description | Institution | | \n",
        "|:---  |:---         | :--- | :--- | \n",
        "| 2006 | K25 training grant | NIH | *A mentored training program in imaging science* | \n",
        "| 2001 | PhD in statistics | U of Florida | *Candidate sampling schemes and some important applications* | \n",
        "| 1998 | MS in statistics|  U of Florida | |\n",
        "| 1995 | Dual BS in mathematics and statistics | U of Florida | |"
      ]
    },
    {
      "cell_type": "code",
      "metadata": {},
      "source": [
        "import pandas as pd\n",
        "import plotly.express as px\n",
        "import numpy as np\n",
        "import wordcloud as wc\n",
        "import stylecloud as sc\n",
        "import matplotlib.pyplot as plt\n",
        "import os\n",
        "from IPython.display import Image\n",
        "import plotly.graph_objects as go\n",
        "import plotly.io as pio\n",
        "import itertools\n",
        "from PIL import Image\n",
        "\n",
        "## pio.renderers.default = \"plotly_mimetype+notebook\"\n",
        "## pio.renderers.default = \"plotly_mimetype+notebook_connected\" \n",
        "## This allows for pdf rendering\n",
        "## pio.renderers.default = \"plotly_mimetype+notebook+pdf\"\n",
        "## pio.kaleido.scope.mathjax = None\n",
        "\n",
        "#static = True\n",
        "static = False\n",
        "\n",
        "#the default height and width\n",
        "height = 400\n",
        "width = 600\n",
        "\n",
        "## Note to render to pdf do\n",
        "## quarto render cvJupyter.qmd --to pdf\n",
        "pd.set_option(\"display.max_rows\", 999)\n",
        "#dat = pd.read_csv(\"publications_01042022_2.csv\")\n",
        "#dat = pd.read_csv(\"publications_12072022.csv\")\n",
        "dat = pd.read_csv(\"publications_01152024.csv\")\n",
        "\n",
        "## Not sure why these columns changes. \n",
        "## Here's the ones you need, reset these every year\n",
        "dat = dat.rename(columns = {\n",
        "    'Authors' : 'Authors',\n",
        "    'Year' : 'Publication Year',\n",
        "    'Title'        : 'Document Title',\n",
        "    'Source title' : 'Journal Title',\n",
        "    'Cited by'     : 'Citations'\n",
        "})\n",
        "dat['Citations'] = dat['Citations'].fillna(0)"
      ],
      "execution_count": null,
      "outputs": []
    },
    {
      "cell_type": "markdown",
      "metadata": {},
      "source": [
        "## Professional experience\n",
        "Relevant professional experience."
      ]
    },
    {
      "cell_type": "code",
      "metadata": {},
      "source": [
        "#bizarre, plotly works better if you write some random figure out first.\n",
        "fig=px.scatter(x=[0, 1, 2, 3, 4], y=[0, 1, 4, 9, 16])\n",
        "fig.write_image(\"temp.pdf\", format=\"pdf\")"
      ],
      "execution_count": null,
      "outputs": []
    },
    {
      "cell_type": "code",
      "metadata": {},
      "source": [
        "profExp = pd.read_csv(\"profExp.txt\", delimiter=\"|\")\n",
        "profExp['Start'] = pd.to_datetime(\"01/01/\"+profExp['Start'].astype(str))\n",
        "profExp['End'] = pd.to_datetime(\"12/31/\"+profExp['End'].astype(str))\n",
        "profExp = profExp.sort_values(by = ['Start', 'End'])\n",
        "profExp = profExp.assign(Position=profExp['Title']+\" \"+profExp['Place'])  \n",
        "    \n",
        "    \n",
        "fig = px.timeline(profExp, x_start=\"Start\", x_end=\"End\", \n",
        "                  y='Position', \n",
        "                  color=\"Organization\",\n",
        "                  height= 400)                  \n",
        "fig = fig.update_layout({\n",
        "    'plot_bgcolor' : 'rgba(0, 0, 0, 0)',\n",
        "    'paper_bgcolor' : 'rgba(0, 0, 0, 0)'})\n",
        "\n",
        "fig.update_yaxes(autorange=\"reversed\")\n",
        "\n",
        "fig.show(warn = False)"
      ],
      "execution_count": null,
      "outputs": []
    },
    {
      "cell_type": "markdown",
      "metadata": {},
      "source": [
        "## Profesional activities\n",
        "\n",
        "| Year | Activity | \n",
        "| :--- | :---     |\n",
        "| 2005-2006 |Publications Officer for the Biometrics Section of the American Statistical Association |\n",
        "| 2010 | Founding member Stat in Imaging ASA Section |\n",
        "| 2010-2011 | Secretary Stat in Imaging ASA Section |\n",
        "\n",
        "\n",
        "## Editorial activities\n",
        "\n",
        "| Year | Activity | \n",
        "| :--- | :---     |\n",
        "| 2006-2008 | Associate editor Computational Statistics and Data Analysis |\n",
        "| 2008-2010 | Associate editor for the Journal of the American Statistical Association |\n",
        "| 2009-2012 | Associate editor for the Journal of the Royal Statistical Society Series B |\n",
        "| 2010-2012 | Associate editor for Biometrics\n",
        "| 2011-2011 | Senior program committee member for the Fourteenth International Conference on Artificial Intelligence and Statistics| \n",
        "| 2016-2016 | Guest associate editor for Frontiers in Neuroscience special issues on Brain Imaging Methods\n",
        "| 2021-2021 | Guest associate editor for Frontiers special issue in Explainable Artificial Intelligence in Healthcare and Finance |\n",
        "\n",
        "I do NIH, EU, NSF ... ad hoc review panels whenever they ask me and I'm  able to. This usually translates to say 3 or so a year. I review manuscripts for journals I like whenever they're relevant to my research expertise and I have done a few conference abstract reviews and chaired sessions for conferences I like.\n",
        "\n",
        "## Honors and awards\n",
        "\n",
        "| Year | Award | \n",
        "| :--- | :--- |\n",
        "| 1998 | William S. Mendenhall Award |\n",
        "| 1999 | Anderson Scholar/Faculty nominee for the University of  Florida CLAS |\n",
        "| 2001 | University of Florida CLAS Dissertation Fellowship |\n",
        "| 2001 | University of Florida Statistics Faculty Award |\n",
        "| 2002 | Johns Hopkins Faculty Innovation Award |\n",
        "| 2006 | Johns Hopkins Bloomberg School of Public Health AMTRA award |\n",
        "| 2008 | Johns Hopkins Bloomberg School of Public Health Golden Apple teaching award |\n",
        "| 2011 | Leader and organizer of the declared winning entry of the 2011 ADHD200 prediction competition |\n",
        "| 2011 | Presidential Early Career Award for Scientists and Engineers (PECASE, 2010, awarded in 2011); *The highest honor bestowed by the United States government on science and engineering professionals in the early stages of their independent research careers* |\n",
        "| 2014 | Named a Fellow of the American Statistical Association |\n",
        "| 2015 | Special Invited Lecturer, European Meeting of Statisticians |\n",
        "| 2022 | Adrienne Cupples award; *This annual award recognizes a biostatistician whose academic achievements reflect the contributions to teaching, research, and service exemplified by [Professor L. Adrienne Cupples](https://www.bu.edu/sph/news/articles/2022/l-adrienne-cupples-in-memoriam/)*  \n",
        "\n",
        "## Publications\n",
        "\n",
        "Publications reported in Scopus as of 1/15/2024. My total number of Scopus publications is 257. Below is a plot of total publications by year where each small rectangle is a publication. "
      ]
    },
    {
      "cell_type": "code",
      "metadata": {},
      "source": [
        "## Create a temporary copy of the dataset and work with that\n",
        "temp = dat\n",
        "temp = temp.assign(Count = 1)\n",
        "\n",
        "\n",
        "fig = px.bar(temp, x = 'Publication Year', \n",
        "                 y = 'Count',\n",
        "                 color = 'Document Title',\n",
        "                 hover_data = ['Publication Year', 'Document Title', 'Journal Title', 'Authors', 'Citations'])\n",
        "\n",
        "\n",
        "fig = fig.update_layout({\n",
        "    'plot_bgcolor' : 'rgba(0, 0, 0, 0)',\n",
        "    'paper_bgcolor' : 'rgba(0, 0, 0, 0)'})\n",
        "\n",
        "fig.update_layout(showlegend=False)\n",
        "\n",
        "fig"
      ],
      "execution_count": null,
      "outputs": []
    },
    {
      "cell_type": "markdown",
      "metadata": {},
      "source": [
        "Here are journals I publish in the most. "
      ]
    },
    {
      "cell_type": "code",
      "metadata": {},
      "source": [
        "temp = dat['Journal Title'].value_counts().reset_index()\n",
        "temp = temp.rename(columns = {\"index\" : \"Title\", \"Journal Title\" : \"Count\"}).sort_values(\"Count\", ascending =False)\n",
        "\n",
        "temp['inplot'] = temp['Count'] > 5\n",
        "\n",
        "temp = temp.merge(dat, left_on = 'Title', \n",
        "    right_on = 'Journal Title', how = 'left')\n",
        "temp = temp[temp['Count'] > 5]\n",
        "temp = temp.assign(Count = 1)\n",
        "\n",
        "\n",
        "\n",
        "fig = px.bar(temp, x = 'Journal Title', \n",
        "                 y = 'Count',\n",
        "                 color = 'Document Title',\n",
        "                 hover_data = ['Publication Year', 'Document Title', 'Journal Title', 'Authors', 'Citations'])\n",
        "fig = fig.update_layout({\n",
        "    'plot_bgcolor' : 'rgba(0, 0, 0, 0)',\n",
        "    'paper_bgcolor' : 'rgba(0, 0, 0, 0)'})\n",
        "\n",
        "fig.update_layout(showlegend=False)\n",
        "\n",
        "fig.show()"
      ],
      "execution_count": null,
      "outputs": []
    },
    {
      "cell_type": "markdown",
      "metadata": {},
      "source": [
        "I have published with 793 coauthors (according to Scopus). Here is authors that I have had 7 or over manuscripts with."
      ]
    },
    {
      "cell_type": "code",
      "metadata": {},
      "source": [
        "## Get just the author last names. Have to strip out the initials\n",
        "text = [s.split(';') for s in dat['Authors']]\n",
        "text = list(itertools.chain(*text))\n",
        "authors = pd.DataFrame({'Author' : text}).value_counts().reset_index()\n",
        "authors = authors.rename(columns = {0 : 'Count'})\n",
        "authors = authors[authors['Count'] > 7]\n",
        "authors = authors[~authors['Author'].str.contains('Caffo')]\n",
        "authors = authors['Author']\n",
        "\n",
        "## Create a dataframe with just the info we need\n",
        "authorDF = dat.copy()\n",
        "\n",
        "## Create a column for every author included\n",
        "for author in  authors:\n",
        "    authorDF[author] = authorDF['Authors'].str.contains(author)\n",
        "\n",
        "## Get rid of rows where no author is included\n",
        "authorDF = authorDF[authorDF[authors].any(axis=1)]\n",
        "\n",
        "## Melt the dataframe so that each row is a manuscript and each column is an author\n",
        "authorDF = authorDF.melt(id_vars = ['Publication Year', 'Document Title', 'Journal Title', 'Authors', 'Citations'], \n",
        "                         value_vars = authors, \n",
        "                         var_name = 'Author', \n",
        "                         value_name = 'Included')\n",
        "\n",
        "\n",
        "authorDF['Count'] = 1\n",
        "\n",
        "authorDF = authorDF[authorDF['Included'] == True]\n",
        "\n",
        "authorDF['Last name'] = [name.split()[0] for name in authorDF['Author']]\n",
        "\n",
        "authorDF.sort_values(by = ['Last name', 'Publication Year'], inplace = True)\n",
        "\n",
        "fig = px.bar(authorDF, x = 'Last name', \n",
        "                 y = 'Count',\n",
        "                 color = 'Document Title',\n",
        "                 hover_data = ['Publication Year', 'Document Title', 'Journal Title', 'Authors', 'Citations'])\n",
        "fig = fig.update_layout({\n",
        "    'plot_bgcolor' : 'rgba(0, 0, 0, 0)',\n",
        "    'paper_bgcolor' : 'rgba(0, 0, 0, 0)'})\n",
        "\n",
        "fig.update_layout(showlegend=False)\n",
        "\n",
        "fig.show()\n"
      ],
      "execution_count": null,
      "outputs": []
    },
    {
      "cell_type": "markdown",
      "metadata": {},
      "source": [
        "Here's a plot of number of authors for each manuscript by my position. "
      ]
    },
    {
      "cell_type": "code",
      "metadata": {},
      "source": [
        "## Get a list of lists of last names\n",
        "text = [s.split(';') for s in dat['Authors']]\n",
        "lname= lambda namelist: [name.split()[0] for name in namelist]\n",
        "text = [lname(x) for x in text]\n",
        "\n",
        "authorno = [len(x) for x in text]\n",
        "position = [x.index('Caffo') + 1 for x in text]\n",
        "\n",
        "positionDF = pd.DataFrame({'# Authors' : authorno, 'Position' : position})\n",
        "\n",
        "\n",
        "fig = px.scatter(positionDF.groupby(['# Authors', 'Position']).size().reset_index(name = 'Count'),\n",
        "                 x = '# Authors',\n",
        "                 y = 'Position',\n",
        "                 color = 'Count',\n",
        "                 size = 'Count')\n",
        "fig = fig.update_layout({\n",
        "    'plot_bgcolor' : 'rgba(0, 0, 0, 0)',\n",
        "    'paper_bgcolor' : 'rgba(0, 0, 0, 0)'})\n",
        "\n",
        "fig.show()"
      ],
      "execution_count": null,
      "outputs": []
    },
    {
      "cell_type": "markdown",
      "metadata": {},
      "source": [
        "Here's the total citation counts of manuscripts plotted by year of publication."
      ]
    },
    {
      "cell_type": "code",
      "metadata": {},
      "source": [
        "temp = dat\n",
        "temp = temp.rename(columns = {'total' : 'Citations'})\n",
        "fig = px.bar(temp, \n",
        "             x = 'Publication Year', \n",
        "             y = 'Citations', \n",
        "             color = 'Document Title',\n",
        "             hover_data = ['Publication Year', 'Citations', 'Document Title', 'Journal Title'])\n",
        "\n",
        "fig = fig.update_layout({\n",
        "    'plot_bgcolor' : 'rgba(0, 0, 0, 0)',\n",
        "    'paper_bgcolor' : 'rgba(0, 0, 0, 0)'})\n",
        "\n",
        "fig.update_layout(showlegend=False)\n",
        "\n",
        "fig.show()"
      ],
      "execution_count": null,
      "outputs": []
    },
    {
      "cell_type": "markdown",
      "metadata": {},
      "source": [
        "# Part II \n",
        "## Teaching\n",
        "### Advisees\n",
        "To the nearest year from matriculation year. Includes advisees and co-advisees."
      ]
    },
    {
      "cell_type": "code",
      "metadata": {},
      "source": [
        "advisees = pd.read_csv(\"Advisees.txt\", sep = \"|\")\n",
        "\n",
        "advisees['Start'] = pd.to_datetime(\"01/01/\"+advisees['Start'].astype(str))\n",
        "advisees['End'] = pd.to_datetime(\"12/31/\"+advisees['End'].astype(str))\n",
        "advisees = advisees.sort_values(by = ['Start', 'End'])\n",
        "    \n",
        "    \n",
        "fig = px.timeline(advisees, \n",
        "                  x_start=\"Start\", \n",
        "                  x_end=\"End\", \n",
        "                  y='Advisee', \n",
        "                  color=\"Degree\",\n",
        "                  height=700,\n",
        "                  hover_data = ['Title', 'Notes'])\n",
        "\n",
        "fig = fig.update_layout({\n",
        "    'plot_bgcolor' : 'rgba(0, 0, 0, 0)',\n",
        "    'paper_bgcolor' : 'rgba(0, 0, 0, 0)'})\n",
        "\n",
        "fig.show()"
      ],
      "execution_count": null,
      "outputs": []
    },
    {
      "cell_type": "markdown",
      "metadata": {},
      "source": [
        "### Student exam participation\n",
        "Excludes alternate."
      ]
    },
    {
      "cell_type": "code",
      "metadata": {},
      "source": [
        "exams = pd.read_csv(\"exams.csv\")\n",
        "exams['Exam'] = exams['Exam'].str.strip()\n",
        "exams['Department'] = exams['Department'].str.strip()\n",
        "exams = exams[ ['Year', 'Department', 'Exam'] ].value_counts().reset_index()\n",
        "exams = exams.rename(columns = {0 : 'Count'})\n",
        "\n",
        "fig = px.bar(exams[ exams['Exam'] == \"prelim\"], x = \"Year\", y = \"Count\", color = \"Department\", title = \"Prelim Exams / GBOs\")\n",
        "\n",
        "fig = fig.update_layout({\n",
        "    'plot_bgcolor' : 'rgba(0, 0, 0, 0)',\n",
        "    'paper_bgcolor' : 'rgba(0, 0, 0, 0)'})\n",
        "\n",
        "\n",
        "## Static image\n",
        "#Image(fig.to_image(format=\"png\", width=600, height=300, scale=2))\n",
        "## Interactive\n",
        "fig.show()"
      ],
      "execution_count": null,
      "outputs": []
    },
    {
      "cell_type": "code",
      "metadata": {},
      "source": [
        "fig = px.bar(exams[ exams['Exam'] == \"final\"], x = \"Year\", y = \"Count\", color = \"Department\", title = \"Final Exams\")\n",
        "\n",
        "fig = fig.update_layout({\n",
        "    'plot_bgcolor' : 'rgba(0, 0, 0, 0)',\n",
        "    'paper_bgcolor' : 'rgba(0, 0, 0, 0)'})\n",
        "\n",
        "## Static\n",
        "#Image(fig.to_image(format=\"png\", width=600, height=300, scale=2))\n",
        "## Interactive\n",
        "fig.show()"
      ],
      "execution_count": null,
      "outputs": []
    },
    {
      "cell_type": "code",
      "metadata": {},
      "source": [
        "fig = px.bar(exams[ exams['Exam'] == \"masters\"], \n",
        "             x = \"Year\", y = \"Count\", color = \"Department\", title = \"Masters reader\")\n",
        "\n",
        "fig = fig.update_layout({\n",
        "    'plot_bgcolor' : 'rgba(0, 0, 0, 0)',\n",
        "    'paper_bgcolor' : 'rgba(0, 0, 0, 0)'})\n",
        "\n",
        "## Static\n",
        "#Image(fig.to_image(format=\"png\", width=600, height=300, scale=2))\n",
        "## Interactive\n",
        "fig.show()"
      ],
      "execution_count": null,
      "outputs": []
    },
    {
      "cell_type": "markdown",
      "metadata": {},
      "source": [
        "### Classroom Instruction\n",
        "To the nearest year. Data Science and EDS specializations were with Roger Peng and Jeff Leek. Data Science Hackathon was with Leah Jager, Jeff Leek, Roger Peng. Guest lectures not included."
      ]
    },
    {
      "cell_type": "code",
      "metadata": {},
      "source": [
        "classes = pd.read_csv(\"classes.txt\", delimiter=\"|\").drop(['Unnamed: 0', ' '], axis = 1)\n",
        "classes['Start'] = pd.to_datetime(\"01/01/\"+classes['Start'].astype(str))\n",
        "classes['End'] = pd.to_datetime(\"12/31/\"+classes['End'].astype(str))\n",
        "classes = classes.sort_values(by = ['Start', 'End'])\n",
        "   \n",
        "    \n",
        "fig = px.timeline(classes, x_start=\"Start\", x_end=\"End\", y=\"Course title\", color=\"Notes\",\n",
        "                 hover_data = ['Course title', 'Place', 'Notes'],\n",
        "                  height=1000)\n",
        "fig.update_yaxes(autorange=\"reversed\")\n",
        "\n",
        "fig = fig.update_layout({\n",
        "    'plot_bgcolor' : 'rgba(0, 0, 0, 0)',\n",
        "    'paper_bgcolor' : 'rgba(0, 0, 0, 0)'})\n",
        "\n",
        "fig.show()"
      ],
      "execution_count": null,
      "outputs": []
    },
    {
      "cell_type": "markdown",
      "metadata": {},
      "source": [
        "##### E-books\n",
        "E-books are free and open access, excepting *Methods in Biostatistics with R*. For all books, student get all subsequent version updates.\n",
        "\n",
        "+ *Statistical Inference*, Leanpub \n",
        "+ *Regression Models*, Leanpub\n",
        "+ *Developing Data Products*, Leanpub \n",
        "+ *Advanced Linear Models for Data Science*, Leabpub,\n",
        "+ *Methods in Biostatistics with R*, Leanpub, with John Muschelli, Ciprian Crainiceanu\n",
        "+ *Executive Data Science*, Leanpub, with Roger Peng, Jeff Leek\n",
        "\n",
        "##### Other\n",
        "+ PI (roll of executive producer, non-instructor) for the BD2K R25 Genomic Data Science Specialization, fMRI 1 and 2 (Lindquist / Wager), Neurohacking in R (Craininceanu, Sweeney, Muschelli), Neuroscience for Neuroimaging (Baker)\n",
        "+ swirl: Mentored project by Nick Carchedi intiated during his internship\n",
        "+ Course notes for Biostatistics 140.651-2 listed on the Johns Hopkins Open Courseware project \n",
        "+ YouTube channel (all educational content) - 14k subscribers, over 400 videos, 6.4k views in past 28 days, ~300 hours of total watch time in the last 28 days\n",
        "\n",
        "### Research grants"
      ]
    },
    {
      "cell_type": "code",
      "metadata": {},
      "source": [
        "pigrants = pd.read_csv(\"grants.txt\", delimiter=\"|\")\n",
        "pigrants = pigrants.drop([' '], axis = 1)\n",
        "pigrants = pigrants.assign(Number = np.arange(pigrants.shape[0]))\n",
        "pigrants['Start'] = pd.to_datetime(pigrants['Start'])\n",
        "pigrants['Finish'] = pd.to_datetime(pigrants['Finish'])\n",
        "\n",
        "fig = px.timeline(pigrants, x_start=\"Start\", x_end=\"Finish\", y=\"Number\", color=\"Organization\",\n",
        "                 hover_data = ['Role', 'Start', 'Finish', 'Organization', 'Mechanism', 'Title'])\n",
        "fig.update_yaxes(autorange=\"reversed\")\n",
        "\n",
        "fig = fig.update_layout({\n",
        "    'plot_bgcolor' : 'rgba(0, 0, 0, 0)',\n",
        "    'paper_bgcolor' : 'rgba(0, 0, 0, 0)'})\n",
        "\n",
        "fig.show()"
      ],
      "execution_count": null,
      "outputs": []
    },
    {
      "cell_type": "markdown",
      "metadata": {},
      "source": [
        "### Co-investigator and subcontract awards\n",
        "This is surprisingly hard and likely incomplete. Here's the best I could do for title and mechanism."
      ]
    },
    {
      "cell_type": "code",
      "metadata": {},
      "source": [
        "grants = pd.read_csv(\"grantsFull.csv\")\n",
        "grants.head()\n",
        "grants = grants.assign(Number = np.arange(grants.shape[0]))\n",
        "grants['Start'] = pd.to_datetime(grants['Start'])\n",
        "grants['End'] = pd.to_datetime(grants['End'])\n",
        "grants.loc[grants['Mechanism'].isna(), 'Mechanism'] = 'Other'\n",
        "grants.loc[grants['PI'].isna(), 'PI'] = 'Other'\n",
        "grants['Title small'] = [i[0 : 70] for i in grants['Title']]\n",
        "grants.loc[grants['YearlyDC'].isna(), 'YearlyDC'] = \"No info\"\n",
        "\n",
        "fig = px.timeline(grants, x_start=\"Start\", x_end=\"End\", y=\"Title small\", color = \"Mechanism\",\n",
        "                  height=1000)\n",
        "fig.update_yaxes(autorange=\"reversed\")\n",
        "\n",
        "fig = fig.update_layout({\n",
        "    'plot_bgcolor' : 'rgba(0, 0, 0, 0)',\n",
        "    'paper_bgcolor' : 'rgba(0, 0, 0, 0)'})\n",
        "fig.show()"
      ],
      "execution_count": null,
      "outputs": []
    },
    {
      "cell_type": "markdown",
      "metadata": {},
      "source": [
        "Here's my most frequent grant PIs."
      ]
    },
    {
      "cell_type": "code",
      "metadata": {},
      "source": [
        "grants['Count'] = 1\n",
        "\n",
        "fig = px.bar(grants, \n",
        "             x = 'PI', \n",
        "             y = 'Count', \n",
        "             color = 'Title',\n",
        "             hover_data = ['Start', 'End', 'Title', 'PI'])\n",
        "\n",
        "fig = fig.update_layout({\n",
        "    'plot_bgcolor' : 'rgba(0, 0, 0, 0)',\n",
        "    'paper_bgcolor' : 'rgba(0, 0, 0, 0)'})\n",
        "\n",
        "fig.update_layout(showlegend=False)\n",
        "\n",
        "fig.show()"
      ],
      "execution_count": null,
      "outputs": []
    },
    {
      "cell_type": "markdown",
      "metadata": {},
      "source": [
        "Here's a breakdown of grant mechanisms."
      ]
    },
    {
      "cell_type": "code",
      "metadata": {},
      "source": [
        "mechanism = grants['Mechanism'].value_counts().reset_index()\n",
        "\n",
        "\n",
        "labels = mechanism['index']\n",
        "values = mechanism['Mechanism']\n",
        "\n",
        "fig = go.Figure(data=[go.Pie(labels=labels, values=values, hole=.6)])\n",
        "\n",
        "fig.update_traces(textinfo='value')\n",
        "\n",
        "fig = fig.update_layout({\n",
        "    'plot_bgcolor' : 'rgba(0, 0, 0, 0)',\n",
        "    'paper_bgcolor' : 'rgba(0, 0, 0, 0)'})\n",
        "\n",
        "fig.show()"
      ],
      "execution_count": null,
      "outputs": []
    },
    {
      "cell_type": "markdown",
      "metadata": {},
      "source": [
        "Here's grants by the log base 10 of the yearly direct costs and start time. Note some grants only show subcontract value where as others show the parent grant."
      ]
    },
    {
      "cell_type": "code",
      "metadata": {},
      "source": [
        "YDC = []\n",
        "for x in grants['YearlyDC']:\n",
        "    if x != \"No info\":\n",
        "        x = np.log10(float(x.replace(\"$\", \"\").replace(\",\", \"\")))\n",
        "        YDC.append(x)\n",
        "    else :\n",
        "        YDC.append(-1)\n",
        "grants['Log10 YDC'] = YDC\n",
        "\n",
        "fig = px.scatter(grants[(grants['Log10 YDC'] > 0)],\n",
        "                 y = 'Log10 YDC',\n",
        "                 x = 'Start',\n",
        "                 color = 'Mechanism',\n",
        "                 size = 'Log10 YDC')\n",
        "fig = fig.update_layout({\n",
        "    'plot_bgcolor' : 'rgba(0, 0, 0, 0)',\n",
        "    'paper_bgcolor' : 'rgba(0, 0, 0, 0)'})\n",
        "\n",
        "fig.show()"
      ],
      "execution_count": null,
      "outputs": []
    },
    {
      "cell_type": "markdown",
      "metadata": {},
      "source": [
        "### Academic service \n",
        "Here's my major service roles by year rounded to the nearest year by the major organizational group that it represents. Also, I serve on ad hoc tenure and promotion committees whenever asked (not that often, maybe once every other year or so)."
      ]
    },
    {
      "cell_type": "code",
      "metadata": {},
      "source": [
        "service = pd.read_csv(\"service.txt\", delimiter=\"|\").drop(['Unnamed: 0', 'Unnamed: 5'], axis = 1)\n",
        "service['Start'] = pd.to_datetime(\"01/01/\"+service['Start'].astype(str))\n",
        "service['End'] = pd.to_datetime(\"12/31/\"+service['End'].astype(str))\n",
        "service = service.sort_values(by = ['Start', 'End'])\n",
        "\n",
        "    \n",
        "fig = px.timeline(service, x_start=\"Start\", x_end=\"End\", y=\"Role\", color=\"Group\",\n",
        "                 hover_data = ['Role', 'Group'],\n",
        "                 height = 600)\n",
        "fig.update_yaxes(autorange=\"reversed\")\n",
        "\n",
        "fig = fig.update_layout({\n",
        "    'plot_bgcolor' : 'rgba(0, 0, 0, 0)',\n",
        "    'paper_bgcolor' : 'rgba(0, 0, 0, 0)'})\n",
        "\n",
        "fig.show()"
      ],
      "execution_count": null,
      "outputs": []
    },
    {
      "cell_type": "markdown",
      "metadata": {},
      "source": [
        "### Seminars\n",
        "Here's a plot of the invited seminars I've logged. The list with presentation files can be found \n",
        "[here](https://docs.google.com/spreadsheets/d/1mRC6xxZmNj3DnwwvCh_8GpErwhvJNq9gkRB3mQz1JIg/edit?usp=sharing)."
      ]
    },
    {
      "cell_type": "code",
      "metadata": {},
      "source": [
        "seminars = pd.read_csv(\"https://docs.google.com/spreadsheets/d/1mRC6xxZmNj3DnwwvCh_8GpErwhvJNq9gkRB3mQz1JIg/export?format=csv&gid=0\")\n",
        "seminars = seminars.assign(Count = 1)\n",
        "#seminarYear = seminars['Year'].value_counts().reset_index()\n",
        "#seminarYear = seminarYear.rename(columns = {\"index\" : \"Year\", \"Year\" : \"Count\"}).sort_values(\"Year\", ascending =False)\n",
        "#fig = px.bar(seminarYear, x = \"Year\", y = \"Count\")\n",
        "fig = px.bar(seminars, x = \"Year\", y = \"Count\", color = \"Talk\",\n",
        "             hover_data = ['Year', 'Talk', 'Where'])\n",
        "fig = fig.update_layout({\n",
        "    'plot_bgcolor' : 'rgba(0, 0, 0, 0)',\n",
        "    'paper_bgcolor' : 'rgba(0, 0, 0, 0)'})\n",
        "\n",
        "fig.update_layout(showlegend=False)\n",
        "\n",
        "## Static\n",
        "#Image(fig.to_image(format=\"png\", width=400, height=200, scale=2))\n",
        "## Interactive\n",
        "fig.show()"
      ],
      "execution_count": null,
      "outputs": []
    }
  ],
  "metadata": {
    "kernelspec": {
      "name": "python3",
      "language": "python",
      "display_name": "Python 3"
    }
  },
  "nbformat": 4,
  "nbformat_minor": 4
}