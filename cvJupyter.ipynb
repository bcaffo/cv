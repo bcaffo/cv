{
 "cells": [
  {
   "cell_type": "markdown",
   "id": "b4e71abe-a920-4a31-b755-cbd8ea8244ac",
   "metadata": {},
   "source": [
    "# Brian S Caffo\n",
    "<hr>\n",
    "Professor<br>\n",
    "Departments of Biostatistics (primary)<br>\n",
    "Department of Biomedical Engineering (courtesy)<br>\n",
    "Johns Hopkins University<br>\n",
    "bcaffo@gmail.com <br>\n",
    "[www.bcaffo.com](www.bcaffo.com) <br>\n",
    "[CV version 0.9]()"
   ]
  },
  {
   "cell_type": "markdown",
   "id": "c45c047b-dcf5-434c-8fe0-9ab17352c1c9",
   "metadata": {},
   "source": [
    "## Summary\n",
    "Brian Caffo, PhD is a professor in the Department of Biostatistics with a secondary appointment in the Department of Biomedical Engineering at Johns Hopkins University. \n",
    "He graduated from the University of Florida Department of Statistics in 2001. He has worked in statistical computing, statistical modeling, computational statistics, multivariate and decomposition methods and statistics in neuroimaging and neuroscience. He led teams that won the ADHD 200 prediction competition. He co-directs the SMART statistical group. With other faculty at JHU, he created and co-directs the Coursera Data Science Specialization, a 10 course specialization on statistical data analysis. He co-directs the JHU Data Science Lab, a group dedicated to open educational innovation and data science. He is the former director of the Biostatistics graduate programs and admissions committees. He is currently the co-director of the Johns Hopkins High Performance Computing Exchange super computing service center and president of the Bloomberg School of Public Health faculty senate."
   ]
  },
  {
   "cell_type": "markdown",
   "id": "d099a0dc-da3e-4b4a-829a-1e5c9b31f325",
   "metadata": {},
   "source": [
    "## Education\n",
    "\n",
    "| Year | Description | Institution | | \n",
    "|:---  |:---         | :--- | :--- | \n",
    "| 2006 | K25 training grant | NIH | *A mentored training program in imaging science'' emphasizing research and coursework in medical imaging* | \n",
    "| 2001 | PhD in statistics | U of Florida | *Candidate sampling schemes and some important applications* | \n",
    "| 1998 | MS in statistics|  U of Florida | |\n",
    "| 1995 | Dual BS in mathematics and statistics | U of Florida | |"
   ]
  },
  {
   "cell_type": "markdown",
   "id": "d247b8e2-a7f9-4592-aa27-86a3a80758e7",
   "metadata": {},
   "source": [
    "## Professional experience\n",
    "| Year | Title | Place | \n",
    "| :--- | :---  | :---  |\n",
    "|2019 - | Secondary | Dept of Biomedical Engineering, JHU |\n",
    "|2019 - | Co-director | Johns Hopkins High Performance Computing Exchange (JHPCE)| \n",
    "| 2016 - | Faculty member | Kavli Neuroscience Discovery Institute |\n",
    "| 2017 - | Faculty member | Malone Center for Engineering and Healthcare |\n",
    "| 2014 - | Co-founding member | Johns Hopkins Data Science Lab |\n",
    "|2011 - | Founding co-director | SMART research group |\n",
    "|2013 - | Full professor | Dept of Biostat,JHU |\n",
    "|2007-2013 | Associate professor | Dept of Biostat,JHU |\n",
    "|2001-2007 | Assistant professor |Dept of Biostat,JHU |\n",
    "|1996-1999 | Research assistant for professor Alan Agresti | Department of Stat, UFL | \n",
    "|1996, 1999 | Intern /  programmer | the Pediatric Oncology Group Statistical Office |\n"
   ]
  },
  {
   "cell_type": "code",
   "execution_count": null,
   "id": "c60afd3c-5660-49e9-a68d-bef86ab905be",
   "metadata": {},
   "outputs": [],
   "source": []
  }
 ],
 "metadata": {
  "kernelspec": {
   "display_name": "Python 3 (ipykernel)",
   "language": "python",
   "name": "python3"
  },
  "language_info": {
   "codemirror_mode": {
    "name": "ipython",
    "version": 3
   },
   "file_extension": ".py",
   "mimetype": "text/x-python",
   "name": "python",
   "nbconvert_exporter": "python",
   "pygments_lexer": "ipython3",
   "version": "3.9.7"
  }
 },
 "nbformat": 4,
 "nbformat_minor": 5
}
